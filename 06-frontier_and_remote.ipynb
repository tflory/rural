{
 "cells": [
  {
   "cell_type": "code",
   "execution_count": 1,
   "metadata": {
    "ExecuteTime": {
     "end_time": "2020-07-15T00:20:45.012034Z",
     "start_time": "2020-07-15T00:20:45.007661Z"
    }
   },
   "outputs": [],
   "source": [
    "# default_exp frontier_and_remote"
   ]
  },
  {
   "cell_type": "code",
   "execution_count": 2,
   "metadata": {
    "ExecuteTime": {
     "end_time": "2020-07-15T00:20:45.024547Z",
     "start_time": "2020-07-15T00:20:45.021096Z"
    }
   },
   "outputs": [],
   "source": [
    "# hide\n",
    "# Although both the FAR dataset and the ZCTA-to-whatever relationship files both come from \n",
    "# Census, the zip code areas presented by FAR are from ESRI and are not entirely compatible \n",
    "# with the ZCTA areas.\n",
    "# ESRI business location data come from InfoGroup. It isn't clear where the zip code data \n",
    "# that FAR take from ESRI are from, but they almost certainly are postal zip codes."
   ]
  },
  {
   "cell_type": "code",
   "execution_count": 3,
   "metadata": {
    "ExecuteTime": {
     "end_time": "2020-07-15T00:20:45.036125Z",
     "start_time": "2020-07-15T00:20:45.027757Z"
    }
   },
   "outputs": [],
   "source": [
    "# hide\n",
    "# From Wikipedia:\n",
    "# ZCTAs are generalized area representations of the United States Postal Service (USPS) ZIP code service areas, \n",
    "# but are not the same as ZIP codes. Individual USPS ZIP codes can cross state, place, county, census tract, \n",
    "# census block group and census block boundaries, so the Census Bureau asserts that \"there is no correlation \n",
    "# between ZIP codes and Census Bureau geography\".[1] Moreover, the USPS frequently realigns, merges, or splits \n",
    "# ZIP codes to meet changing needs. These changes are usually not reflected in the annual TIGER releases. \n",
    "# Each ZCTA is constructed by aggregating the Census 2010 blocks whose addresses use a given ZIP code. In \n",
    "# assembling census statistical units to create ZCTAs, the Census Bureau took the ZIP code used by the majority \n",
    "# of addresses in each census unit at the time the data was compiled. As a result, some addresses end up with a \n",
    "# ZCTA code that is different from their ZIP code. ZCTAs are not developed for ZIP codes that comprise only a \n",
    "# small number of addresses.[2] Several ZCTAs represent ZIPs that no longer exist due to realignment by the USPS.\n",
    "\n",
    "# There are approximately 42,000 ZIP Codes and 32,000 ZCTAs. The main reason that there is not one ZCTA for every \n",
    "# ZIP Code is that PO Boxes are excluded in ZCTAs, since only populated areas are included in the Census data."
   ]
  },
  {
   "cell_type": "code",
   "execution_count": 4,
   "metadata": {
    "ExecuteTime": {
     "end_time": "2020-07-15T00:20:45.055916Z",
     "start_time": "2020-07-15T00:20:45.039719Z"
    }
   },
   "outputs": [],
   "source": [
    "# hide\n",
    "# Summary: problems using zip code as an analytical unit.\n",
    "\n",
    "# Postal zip codes change to suit the Postal Services needs and those changes are not immediately reflected\n",
    "# in other data bases or in TIGER files.\n",
    "\n",
    "# ZCTA (standardized zipcode-based tablulation areas) units are not the same as postal zip codes, as described\n",
    "# above. \n",
    "\n",
    "# We do not know the source of InfoGroup's zip code data. It is probably self-identified by the enterprise and\n",
    "# therefore probably a postal zip code.\n",
    "\n",
    "# ZCTA relationship files do not include any relationship between ZCTAs and postal zip codes. \n",
    "\n",
    "# ESRI business location data comes from InfoGroup, which probably suggests that all their zip code data are\n",
    "# postal zip codes. So the zip codes in the FAR data should be compatible with our InfoGroup data, although not \n",
    "# aligned in time. The FAR data comes otherwise from the 2010 Census.\n",
    "\n",
    "# The Census Geocoder can associate ZCTAs with lat/long, which would be just the thing. But it allows only 1,000 \n",
    "# individual requests at a time. That would mean 14,700 separate batch jobs to apply ZCTA IDs to the 14.7 mn\n",
    "# InfoGroup records for 2017. That doesn't come close to scaling.\n",
    "\n",
    "# Python has a free zipcode database (installable with pip) called 'uszipcode'. It refers only to\n",
    "# postal zip codes. It does not take addresses as input but it does take lat/long, among many other parameters.\n",
    "# https://uszipcode.readthedocs.io/index.html#id8\n",
    "\n",
    "# Through the ZCTA relationship files we can associate ZCTAs with the OMB's \n",
    "# metropolitan/micropolitan/nonmetropolitan spatial units and draw a basemap of ZCTAs, but we don't have\n",
    "# analytical data at the moment at that geographical level."
   ]
  },
  {
   "cell_type": "code",
   "execution_count": 5,
   "metadata": {
    "ExecuteTime": {
     "end_time": "2020-07-16T17:20:29.772659Z",
     "start_time": "2020-07-16T17:20:27.527022Z"
    }
   },
   "outputs": [],
   "source": [
    "import pandas as pd"
   ]
  },
  {
   "cell_type": "code",
   "execution_count": 6,
   "metadata": {
    "ExecuteTime": {
     "end_time": "2020-07-15T00:20:45.102375Z",
     "start_time": "2020-07-15T00:20:45.079763Z"
    }
   },
   "outputs": [],
   "source": [
    "def farlevel(row):\n",
    "    if sum([row['far1'],row['far2'],row['far3'],row['far4']]) == 0:\n",
    "        return 0\n",
    "    elif row['far1'] == 1 and sum([row['far2'],row['far3'],row['far4']]) == 0:\n",
    "        return 1\n",
    "    elif row['far2'] == 1 and sum([row['far3'],row['far4']]) == 0:\n",
    "        return 2\n",
    "    elif row['far3'] == 1 and row['far4'] == 0:\n",
    "        return 3\n",
    "    elif row['far4'] == 1:\n",
    "        return 4\n",
    "    \n",
    "def log_far_levels(dfx):\n",
    "    f = len(dfx)\n",
    "    f0 = len(dfx[dfx['FAR Level']==0])\n",
    "    print('Not Far and remote in InfoGroup file:',str(((f0/f) * 100))+'%',file=logfile)\n",
    "    print('Distribution of FAR types for enterprises with non-zero FAR Level:',file=logfile)\n",
    "    df = dfx[dfx['FAR Level']>0]\n",
    "    f = len(df)\n",
    "    f1 = len(df[df['FAR Level'] == 1])\n",
    "    print('\\tFAR Level 1:',str(((f1/f) * 100))+'%',file=logfile)\n",
    "    f2 = len(df[df['FAR Level'] == 2])\n",
    "    print('\\tFAR Level 2:',str(((f2/f) * 100))+'%',file=logfile)\n",
    "    f3 = len(df[df['FAR Level'] == 3])\n",
    "    print('\\tFAR Level 3:',str(((f3/f) * 100))+'%',file=logfile)\n",
    "    f4 = len(df[df['FAR Level'] == 4])\n",
    "    print('\\tFAR Level 4:',str(((f4/f) * 100))+'%',file=logfile)"
   ]
  },
  {
   "cell_type": "code",
   "execution_count": 7,
   "metadata": {
    "ExecuteTime": {
     "end_time": "2020-07-15T00:20:49.798461Z",
     "start_time": "2020-07-15T00:20:45.104753Z"
    }
   },
   "outputs": [],
   "source": [
    "far_file = '/InfoGroup/data/rurality/FARcodesZIPdata2010WithAKandHI.csv'\n",
    "df = pd.read_csv(far_file,dtype=object)\n",
    "df['ZIP'] = df['ZIP'].apply(lambda x: x.zfill(5) if len(x) < 5 == 0 else x)\n",
    "df_zip = df[['ZIP','far1','far2','far3','far4']].copy()\n",
    "df_zip[['far1','far2','far3','far4']] = df_zip[['far1','far2','far3','far4']].astype(int)\n",
    "df_zip['FAR Level'] = df_zip.apply(farlevel,axis=1)\n",
    "df_zip = df_zip.drop_duplicates()"
   ]
  },
  {
   "cell_type": "code",
   "execution_count": 8,
   "metadata": {
    "ExecuteTime": {
     "end_time": "2020-07-15T00:20:49.805661Z",
     "start_time": "2020-07-15T00:20:49.801050Z"
    }
   },
   "outputs": [],
   "source": [
    "logfile = open('006-FAR.log','w')"
   ]
  },
  {
   "cell_type": "code",
   "execution_count": 9,
   "metadata": {
    "ExecuteTime": {
     "end_time": "2020-07-15T02:33:09.616219Z",
     "start_time": "2020-07-15T00:20:49.808580Z"
    }
   },
   "outputs": [],
   "source": [
    "for yr in range(1997,2018):\n",
    "    print(f'{yr}:',file=logfile)\n",
    "    infile = f'/InfoGroup/data/rurality/InfoGroup_{yr}_nb05.csv'\n",
    "    df_ig = pd.read_csv(infile,dtype=object)\n",
    "    df_ig['ZipCode'] = df_ig['ZipCode'].apply(lambda x: x.zfill(5) if len(x) < 5 == 0 else x)\n",
    "    \n",
    "    df_out = df_ig.merge(df_zip,how='left',left_on='ZipCode',right_on='ZIP',indicator=True)\n",
    "    df_out.drop(columns=['ZIP','_merge'],inplace=True)\n",
    "    \n",
    "    # FAR codes apply only to the continental states. To select just those for reporting:\n",
    "    # df_select = df_out[(df_out['Continental']=='1') & (df_out['State FIPS'] != '11')].copy()\n",
    "    \n",
    "    # Log the distribution of FAR levels by year.\n",
    "    log_far_levels(df_out)\n",
    "    \n",
    "    # Write out new file.\n",
    "    outfile = f'/InfoGroup/data/rurality/InfoGroup_{yr}_nb06.csv'\n",
    "    df_out.to_csv(outfile,index=None)"
   ]
  },
  {
   "cell_type": "code",
   "execution_count": 10,
   "metadata": {
    "ExecuteTime": {
     "end_time": "2020-07-15T02:33:09.623210Z",
     "start_time": "2020-07-15T02:33:09.619670Z"
    }
   },
   "outputs": [],
   "source": [
    "logfile.close()"
   ]
  },
  {
   "cell_type": "code",
   "execution_count": 8,
   "metadata": {},
   "outputs": [
    {
     "data": {
      "text/html": [
       "<div>\n",
       "<style scoped>\n",
       "    .dataframe tbody tr th:only-of-type {\n",
       "        vertical-align: middle;\n",
       "    }\n",
       "\n",
       "    .dataframe tbody tr th {\n",
       "        vertical-align: top;\n",
       "    }\n",
       "\n",
       "    .dataframe thead th {\n",
       "        text-align: right;\n",
       "    }\n",
       "</style>\n",
       "<table border=\"1\" class=\"dataframe\">\n",
       "  <thead>\n",
       "    <tr style=\"text-align: right;\">\n",
       "      <th></th>\n",
       "      <th>far1</th>\n",
       "      <th>far2</th>\n",
       "      <th>far3</th>\n",
       "      <th>far4</th>\n",
       "      <th>FAR Level</th>\n",
       "    </tr>\n",
       "  </thead>\n",
       "  <tbody>\n",
       "    <tr>\n",
       "      <th>7951067</th>\n",
       "      <td>1.0</td>\n",
       "      <td>1.0</td>\n",
       "      <td>0.0</td>\n",
       "      <td>0.0</td>\n",
       "      <td>2.0</td>\n",
       "    </tr>\n",
       "    <tr>\n",
       "      <th>7953024</th>\n",
       "      <td>1.0</td>\n",
       "      <td>1.0</td>\n",
       "      <td>0.0</td>\n",
       "      <td>0.0</td>\n",
       "      <td>2.0</td>\n",
       "    </tr>\n",
       "    <tr>\n",
       "      <th>7988609</th>\n",
       "      <td>1.0</td>\n",
       "      <td>0.0</td>\n",
       "      <td>0.0</td>\n",
       "      <td>0.0</td>\n",
       "      <td>1.0</td>\n",
       "    </tr>\n",
       "    <tr>\n",
       "      <th>8514297</th>\n",
       "      <td>1.0</td>\n",
       "      <td>0.0</td>\n",
       "      <td>0.0</td>\n",
       "      <td>0.0</td>\n",
       "      <td>1.0</td>\n",
       "    </tr>\n",
       "    <tr>\n",
       "      <th>8514446</th>\n",
       "      <td>1.0</td>\n",
       "      <td>0.0</td>\n",
       "      <td>0.0</td>\n",
       "      <td>0.0</td>\n",
       "      <td>1.0</td>\n",
       "    </tr>\n",
       "    <tr>\n",
       "      <th>8650286</th>\n",
       "      <td>1.0</td>\n",
       "      <td>1.0</td>\n",
       "      <td>1.0</td>\n",
       "      <td>1.0</td>\n",
       "      <td>4.0</td>\n",
       "    </tr>\n",
       "    <tr>\n",
       "      <th>8975232</th>\n",
       "      <td>1.0</td>\n",
       "      <td>0.0</td>\n",
       "      <td>0.0</td>\n",
       "      <td>0.0</td>\n",
       "      <td>1.0</td>\n",
       "    </tr>\n",
       "    <tr>\n",
       "      <th>8977125</th>\n",
       "      <td>1.0</td>\n",
       "      <td>0.0</td>\n",
       "      <td>0.0</td>\n",
       "      <td>0.0</td>\n",
       "      <td>1.0</td>\n",
       "    </tr>\n",
       "    <tr>\n",
       "      <th>8991782</th>\n",
       "      <td>1.0</td>\n",
       "      <td>0.0</td>\n",
       "      <td>0.0</td>\n",
       "      <td>0.0</td>\n",
       "      <td>1.0</td>\n",
       "    </tr>\n",
       "    <tr>\n",
       "      <th>9392516</th>\n",
       "      <td>1.0</td>\n",
       "      <td>0.0</td>\n",
       "      <td>0.0</td>\n",
       "      <td>0.0</td>\n",
       "      <td>1.0</td>\n",
       "    </tr>\n",
       "    <tr>\n",
       "      <th>9392651</th>\n",
       "      <td>1.0</td>\n",
       "      <td>0.0</td>\n",
       "      <td>0.0</td>\n",
       "      <td>0.0</td>\n",
       "      <td>1.0</td>\n",
       "    </tr>\n",
       "    <tr>\n",
       "      <th>9394704</th>\n",
       "      <td>1.0</td>\n",
       "      <td>0.0</td>\n",
       "      <td>0.0</td>\n",
       "      <td>0.0</td>\n",
       "      <td>1.0</td>\n",
       "    </tr>\n",
       "    <tr>\n",
       "      <th>10789313</th>\n",
       "      <td>1.0</td>\n",
       "      <td>0.0</td>\n",
       "      <td>0.0</td>\n",
       "      <td>0.0</td>\n",
       "      <td>1.0</td>\n",
       "    </tr>\n",
       "    <tr>\n",
       "      <th>10809858</th>\n",
       "      <td>1.0</td>\n",
       "      <td>0.0</td>\n",
       "      <td>0.0</td>\n",
       "      <td>0.0</td>\n",
       "      <td>1.0</td>\n",
       "    </tr>\n",
       "    <tr>\n",
       "      <th>10810363</th>\n",
       "      <td>1.0</td>\n",
       "      <td>0.0</td>\n",
       "      <td>0.0</td>\n",
       "      <td>0.0</td>\n",
       "      <td>1.0</td>\n",
       "    </tr>\n",
       "    <tr>\n",
       "      <th>10812369</th>\n",
       "      <td>1.0</td>\n",
       "      <td>0.0</td>\n",
       "      <td>0.0</td>\n",
       "      <td>0.0</td>\n",
       "      <td>1.0</td>\n",
       "    </tr>\n",
       "    <tr>\n",
       "      <th>10814354</th>\n",
       "      <td>1.0</td>\n",
       "      <td>1.0</td>\n",
       "      <td>1.0</td>\n",
       "      <td>1.0</td>\n",
       "      <td>4.0</td>\n",
       "    </tr>\n",
       "    <tr>\n",
       "      <th>11351253</th>\n",
       "      <td>1.0</td>\n",
       "      <td>0.0</td>\n",
       "      <td>0.0</td>\n",
       "      <td>0.0</td>\n",
       "      <td>1.0</td>\n",
       "    </tr>\n",
       "    <tr>\n",
       "      <th>11480541</th>\n",
       "      <td>1.0</td>\n",
       "      <td>1.0</td>\n",
       "      <td>0.0</td>\n",
       "      <td>0.0</td>\n",
       "      <td>2.0</td>\n",
       "    </tr>\n",
       "    <tr>\n",
       "      <th>13449288</th>\n",
       "      <td>1.0</td>\n",
       "      <td>0.0</td>\n",
       "      <td>0.0</td>\n",
       "      <td>0.0</td>\n",
       "      <td>1.0</td>\n",
       "    </tr>\n",
       "  </tbody>\n",
       "</table>\n",
       "</div>"
      ],
      "text/plain": [
       "         far1 far2 far3 far4 FAR Level\n",
       "7951067   1.0  1.0  0.0  0.0       2.0\n",
       "7953024   1.0  1.0  0.0  0.0       2.0\n",
       "7988609   1.0  0.0  0.0  0.0       1.0\n",
       "8514297   1.0  0.0  0.0  0.0       1.0\n",
       "8514446   1.0  0.0  0.0  0.0       1.0\n",
       "8650286   1.0  1.0  1.0  1.0       4.0\n",
       "8975232   1.0  0.0  0.0  0.0       1.0\n",
       "8977125   1.0  0.0  0.0  0.0       1.0\n",
       "8991782   1.0  0.0  0.0  0.0       1.0\n",
       "9392516   1.0  0.0  0.0  0.0       1.0\n",
       "9392651   1.0  0.0  0.0  0.0       1.0\n",
       "9394704   1.0  0.0  0.0  0.0       1.0\n",
       "10789313  1.0  0.0  0.0  0.0       1.0\n",
       "10809858  1.0  0.0  0.0  0.0       1.0\n",
       "10810363  1.0  0.0  0.0  0.0       1.0\n",
       "10812369  1.0  0.0  0.0  0.0       1.0\n",
       "10814354  1.0  1.0  1.0  1.0       4.0\n",
       "11351253  1.0  0.0  0.0  0.0       1.0\n",
       "11480541  1.0  1.0  0.0  0.0       2.0\n",
       "13449288  1.0  0.0  0.0  0.0       1.0"
      ]
     },
     "execution_count": 8,
     "metadata": {},
     "output_type": "execute_result"
    }
   ],
   "source": [
    "import pandas as pd\n",
    "#df = pd.read_csv('/InfoGroup/data/rurality/InfoGroup_2017_nb07.csv',dtype=object)\n",
    "#df.dropna(inplace=True)\n",
    "df = df[df['FAR Level']!='0.0']\n",
    "df[['far1','far2','far3','far4','FAR Level']].tail(20)"
   ]
  },
  {
   "cell_type": "code",
   "execution_count": null,
   "metadata": {},
   "outputs": [],
   "source": []
  }
 ],
 "metadata": {
  "kernelspec": {
   "display_name": "Python 3",
   "language": "python",
   "name": "python3"
  },
  "language_info": {
   "codemirror_mode": {
    "name": "ipython",
    "version": 3
   },
   "file_extension": ".py",
   "mimetype": "text/x-python",
   "name": "python",
   "nbconvert_exporter": "python",
   "pygments_lexer": "ipython3",
   "version": "3.8.2"
  }
 },
 "nbformat": 4,
 "nbformat_minor": 2
}

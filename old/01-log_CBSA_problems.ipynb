{
 "cells": [
  {
   "cell_type": "code",
   "execution_count": 3,
   "metadata": {
    "ExecuteTime": {
     "end_time": "2020-06-23T17:18:03.157201Z",
     "start_time": "2020-06-23T17:18:03.152382Z"
    }
   },
   "outputs": [],
   "source": [
    "# default_exp log_cbsa_missing"
   ]
  },
  {
   "cell_type": "markdown",
   "metadata": {
    "ExecuteTime": {
     "end_time": "2020-06-23T17:14:06.166638Z",
     "start_time": "2020-06-23T17:14:06.147251Z"
    }
   },
   "source": [
    " # Log 'CBSA Level' Missing Data\n",
    "> Finds and logs correctable anomalies in the 'CBSA Level' variable."
   ]
  },
  {
   "cell_type": "code",
   "execution_count": 4,
   "metadata": {
    "ExecuteTime": {
     "end_time": "2020-06-23T17:18:03.528850Z",
     "start_time": "2020-06-23T17:18:03.166988Z"
    }
   },
   "outputs": [],
   "source": [
    "import pandas as pd\n",
    "import warnings\n",
    "warnings.filterwarnings(\"ignore\")"
   ]
  },
  {
   "cell_type": "code",
   "execution_count": 5,
   "metadata": {
    "ExecuteTime": {
     "end_time": "2020-06-23T17:18:03.536462Z",
     "start_time": "2020-06-23T17:18:03.531321Z"
    }
   },
   "outputs": [],
   "source": [
    "def count_nans(s):\n",
    "    \"\"\"Count the number of missing values in a set of floats\"\"\"\n",
    "    c = [str(item) for item in list(s)]\n",
    "    return c.count('nan')"
   ]
  },
  {
   "cell_type": "code",
   "execution_count": 6,
   "metadata": {
    "ExecuteTime": {
     "end_time": "2020-06-23T17:18:03.549577Z",
     "start_time": "2020-06-23T17:18:03.539235Z"
    }
   },
   "outputs": [],
   "source": [
    "# Open a logging file\n",
    "logfile = open('001-CBSA.log','a')"
   ]
  },
  {
   "cell_type": "code",
   "execution_count": 7,
   "metadata": {
    "ExecuteTime": {
     "end_time": "2020-06-23T17:46:58.391674Z",
     "start_time": "2020-06-23T17:18:03.552335Z"
    }
   },
   "outputs": [],
   "source": [
    "for yr in range(1997,2018):\n",
    "    fname = f'/InfoGroup/data/rurality/df_{yr}_uncorrected.csv'\n",
    "    df = pd.read_csv(fname,dtype=object)\n",
    "    unknown = df[(df['CBSA Code']!='00000') & (df['CBSA Level']=='0')]\n",
    "    \n",
    "    # 'unknown' is a dataframe containing cases in with there is a valid CBSA Code but a\n",
    "    # missing CBSA Level value. If unknown is empty, not further action is needed in this\n",
    "    # module for that year.\n",
    "    logfile.write(f'\\nNumber of unknown cases in {yr}: ' + str(len(unknown)) + \"\\n\")\n",
    "    \n",
    "    # 'unk_cbsas' is the set of values on 'CBSA Code' among records with a non-zero CBSA Code and\n",
    "    # CBSA Level value of zero. It is expected that this will always be {nan}, requiring some \n",
    "    # lookup of proper identifiers for the small number of cases in each year. If unk_cbsas is \n",
    "    # an empty list, no corrections are necessary.\n",
    "    unk_cbsas = unknown['CBSA Code'].tolist()\n",
    "    unk_cbsas = set(unk_cbsas)\n",
    "    unknowns = len(unk_cbsas)\n",
    "    if unknowns == 0:\n",
    "        logfile.write(f'No unknowns in {yr}' + \"\\n\")\n",
    "    else:\n",
    "        logfile.write(f'Number of unknown values in {yr}: ' + str(len(unk_cbsas)) + \"\\n\")\n",
    "        nans = count_nans(unk_cbsas)\n",
    "        if nans == unknowns:\n",
    "            logfile.write('\\tAll are missing' + \"\\n\")\n",
    "        else:\n",
    "            logfile.write('\\tNot all are missing' + \"\\n\")"
   ]
  },
  {
   "cell_type": "code",
   "execution_count": 8,
   "metadata": {
    "ExecuteTime": {
     "end_time": "2020-06-23T17:46:58.398490Z",
     "start_time": "2020-06-23T17:46:58.394494Z"
    }
   },
   "outputs": [],
   "source": [
    "logfile.close()"
   ]
  },
  {
   "cell_type": "code",
   "execution_count": null,
   "metadata": {},
   "outputs": [],
   "source": []
  }
 ],
 "metadata": {
  "kernelspec": {
   "display_name": "Python 3",
   "language": "python",
   "name": "python3"
  },
  "language_info": {
   "codemirror_mode": {
    "name": "ipython",
    "version": 3
   },
   "file_extension": ".py",
   "mimetype": "text/x-python",
   "name": "python",
   "nbconvert_exporter": "python",
   "pygments_lexer": "ipython3",
   "version": "3.7.7"
  }
 },
 "nbformat": 4,
 "nbformat_minor": 4
}

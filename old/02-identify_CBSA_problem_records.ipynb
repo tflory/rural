{
 "cells": [
  {
   "cell_type": "code",
   "execution_count": 1,
   "metadata": {
    "ExecuteTime": {
     "end_time": "2020-06-23T21:50:19.518023Z",
     "start_time": "2020-06-23T21:50:19.512869Z"
    }
   },
   "outputs": [],
   "source": [
    "# default_exp identify_cbsa_errors"
   ]
  },
  {
   "cell_type": "markdown",
   "metadata": {
    "ExecuteTime": {
     "end_time": "2020-06-23T19:10:19.424076Z",
     "start_time": "2020-06-23T19:10:19.416931Z"
    }
   },
   "source": [
    "# Identify records with incorrect CBSA data\n",
    "> Print state and city of records with incorrect CBSA data"
   ]
  },
  {
   "cell_type": "code",
   "execution_count": 2,
   "metadata": {
    "ExecuteTime": {
     "end_time": "2020-06-23T21:50:19.878399Z",
     "start_time": "2020-06-23T21:50:19.521088Z"
    }
   },
   "outputs": [],
   "source": [
    "import pandas as pd"
   ]
  },
  {
   "cell_type": "code",
   "execution_count": 3,
   "metadata": {
    "ExecuteTime": {
     "end_time": "2020-06-23T21:50:19.887500Z",
     "start_time": "2020-06-23T21:50:19.881278Z"
    }
   },
   "outputs": [],
   "source": [
    "def find_anomalies(yr):\n",
    "    \"\"\"Find the records that have CBSA-related data that needs correcting.\"\"\"\n",
    "    fname = f'/InfoGroup/data/rurality/df_{yr}_uncorrected.csv'\n",
    "    df = pd.read_csv(fname,dtype=object)\n",
    "    unknown = df[(df['CBSA Code']!='00000') & (df['CBSA Level']=='0')]\n",
    "    return unknown[['ABI','FIPS Code','CBSA Code','CBSA Level']].drop_duplicates()"
   ]
  },
  {
   "cell_type": "code",
   "execution_count": 4,
   "metadata": {
    "ExecuteTime": {
     "end_time": "2020-06-23T22:17:02.824121Z",
     "start_time": "2020-06-23T21:50:19.889662Z"
    }
   },
   "outputs": [
    {
     "name": "stdout",
     "output_type": "stream",
     "text": [
      "\n",
      "*** 1997 ***\n",
      "         FIPS Code CBSA Code CBSA Level              City State\n",
      "39741          NaN       NaN          0           GARDNER    MA\n",
      "3570970        NaN       NaN          0          VALDOSTA    GA\n",
      "4011606        NaN       NaN          0        LAKE WORTH    FL\n",
      "9398604      35141       NaN          0        BELL RANCH    NM\n",
      "11104306       NaN       NaN          0  WHIDBEY ISLE NAS    WA\n",
      "\n",
      "*** 1998 ***\n",
      "         FIPS Code CBSA Code CBSA Level              City State\n",
      "620840       09023       NaN          0          STAMFORD    CT\n",
      "3412103        NaN       NaN          0          VALDOSTA    GA\n",
      "3835283        NaN       NaN          0        LAKE WORTH    FL\n",
      "9004770      35141       NaN          0        BELL RANCH    NM\n",
      "10620840       NaN       NaN          0  WHIDBEY ISLE NAS    WA\n",
      "\n",
      "*** 1999 ***\n",
      "         FIPS Code CBSA Code CBSA Level              City State\n",
      "3473497        NaN       NaN          0          VALDOSTA    GA\n",
      "3913758        NaN       NaN          0        LAKE WORTH    FL\n",
      "4576797        NaN       NaN          0      MERIDIAN NAS    MS\n",
      "5905138      19199       NaN          0       MT STERLING    IA\n",
      "9187187      35141       NaN          0        BELL RANCH    NM\n",
      "9861732        NaN       NaN          0            IRVINE    CA\n",
      "10862913       NaN       NaN          0  WHIDBEY ISLE NAS    WA\n",
      "\n",
      "*** 2000 ***\n",
      "         FIPS Code CBSA Code CBSA Level              City State\n",
      "3534474        NaN       NaN          0          VALDOSTA    GA\n",
      "3976932        NaN       NaN          0        LAKE WORTH    FL\n",
      "4652158        NaN       NaN          0      MERIDIAN NAS    MS\n",
      "5990022      19199       NaN          0       MT STERLING    IA\n",
      "9316090      35141       NaN          0        BELL RANCH    NM\n",
      "11011527       NaN       NaN          0  WHIDBEY ISLE NAS    WA\n",
      "\n",
      "*** 2001 ***\n",
      "         FIPS Code CBSA Code CBSA Level              City State\n",
      "708866       09023       NaN          0          STAMFORD    CT\n",
      "4038767        NaN       NaN          0          VALDOSTA    GA\n",
      "5310368        NaN       NaN          0      MERIDIAN NAS    MS\n",
      "12373110       NaN       NaN          0  WHIDBEY ISLE NAS    WA\n",
      "\n",
      "*** 2002 ***\n",
      "        FIPS Code CBSA Code CBSA Level          City State\n",
      "2574606       NaN       NaN          0    WASHINGTON    DC\n",
      "4021150       NaN       NaN          0      VALDOSTA    GA\n",
      "5345479       NaN       NaN          0  MERIDIAN NAS    MS\n",
      "\n",
      "*** 2003 ***\n",
      "         FIPS Code CBSA Code CBSA Level          City State\n",
      "2562769        NaN       NaN          0    WASHINGTON    DC\n",
      "3996911        NaN       NaN          0      VALDOSTA    GA\n",
      "5297918        NaN       NaN          0  MERIDIAN NAS    MS\n",
      "6789611      19199       NaN          0   MT STERLING    IA\n",
      "10627347     32045       NaN          0    MC DERMITT    NV\n",
      "\n",
      "*** 2004 ***\n",
      "         FIPS Code CBSA Code CBSA Level         City State\n",
      "2516358        NaN       NaN          0  FORT MCNAIR    DC\n",
      "2516686        NaN       NaN          0   WASHINGTON    DC\n",
      "10506065     32045       NaN          0   MC DERMITT    NV\n",
      "\n",
      "*** 2005 ***\n",
      "         FIPS Code CBSA Code CBSA Level         City State\n",
      "2619565        NaN       NaN          0  FORT MCNAIR    DC\n",
      "2619919        NaN       NaN          0   WASHINGTON    DC\n",
      "10988902     32045       NaN          0   MC DERMITT    NV\n",
      "\n",
      "*** 2006 ***\n",
      "         FIPS Code CBSA Code CBSA Level         City State\n",
      "2687855        NaN       NaN          0  FORT MCNAIR    DC\n",
      "2688226        NaN       NaN          0   WASHINGTON    DC\n",
      "11099566     32045       NaN          0   MC DERMITT    NV\n",
      "\n",
      "*** 2007 ***\n",
      "         FIPS Code CBSA Code CBSA Level         City State\n",
      "2752555        NaN       NaN          0  FORT MCNAIR    DC\n",
      "2753431        NaN       NaN          0   WASHINGTON    DC\n",
      "11402963     32045       NaN          0   MC DERMITT    NV\n",
      "\n",
      "*** 2008 ***\n",
      "         FIPS Code CBSA Code CBSA Level         City State\n",
      "2824037        NaN       NaN          0  FORT MCNAIR    DC\n",
      "2824952        NaN       NaN          0   WASHINGTON    DC\n",
      "11549745     32045       NaN          0   MC DERMITT    NV\n",
      "\n",
      "*** 2009 ***\n",
      "         FIPS Code CBSA Code CBSA Level             City State\n",
      "289830       25019         0          0        NANTUCKET    MA\n",
      "292853       25019         0          0       SIASCONSET    MA\n",
      "406959       33003         0          0  CENTER SANDWICH    NH\n",
      "411307       33003         0          0   MOULTONBOROUGH    NH\n",
      "412264       33003         0          0   NORTH SANDWICH    NH\n",
      "...            ...       ...        ...              ...   ...\n",
      "13557360      2198         0          0            HYDER    AK\n",
      "13557361      2198         0          0          KLAWOCK    AK\n",
      "13557428      2198         0          0       METLAKATLA    AK\n",
      "13557512      2198         0          0      POINT BAKER    AK\n",
      "13557531      2275         0          0         WRANGELL    AK\n",
      "\n",
      "[12534 rows x 5 columns]\n",
      "\n",
      "*** 2010 ***\n",
      "         FIPS Code CBSA Code CBSA Level         City State\n",
      "2773604        NaN       NaN          0  FORT MCNAIR    DC\n",
      "2774609        NaN       NaN          0   WASHINGTON    DC\n",
      "11501056     32045       NaN          0   MC DERMITT    NV\n",
      "\n",
      "*** 2011 ***\n",
      "         FIPS Code CBSA Code CBSA Level         City State\n",
      "2730466        NaN       NaN          0  FORT MCNAIR    DC\n",
      "2731484        NaN       NaN          0   WASHINGTON    DC\n",
      "10520676       NaN       NaN          0      CROWLEY    CO\n",
      "11183411     32045       NaN          0   MC DERMITT    NV\n",
      "\n",
      "*** 2012 ***\n",
      "         FIPS Code CBSA Code CBSA Level         City State\n",
      "2947594        NaN       NaN          0       DULLES    VA\n",
      "2952354        NaN       NaN          0  FORT MCNAIR    DC\n",
      "2953438        NaN       NaN          0   WASHINGTON    DC\n",
      "12241848     32045       NaN          0   MC DERMITT    NV\n",
      "\n",
      "*** 2013 ***\n",
      "         FIPS Code CBSA Code CBSA Level         City State\n",
      "3115907        NaN       NaN          0       DULLES    VA\n",
      "3120890        NaN       NaN          0  FORT MCNAIR    DC\n",
      "3122025        NaN       NaN          0   WASHINGTON    DC\n",
      "13266971     32045       NaN          0   MC DERMITT    NV\n",
      "\n",
      "*** 2014 ***\n",
      "         FIPS Code CBSA Code CBSA Level         City State\n",
      "3102601        NaN       NaN          0       DULLES    VA\n",
      "3107356        NaN       NaN          0  FORT MCNAIR    DC\n",
      "3108476        NaN       NaN          0   WASHINGTON    DC\n",
      "13273559     32045       NaN          0   MC DERMITT    NV\n",
      "13279265     32091       NaN          0        VERDI    NV\n",
      "\n",
      "*** 2015 ***\n",
      "        FIPS Code CBSA Code CBSA Level        City State\n",
      "3066456       NaN       NaN          0      DULLES    VA\n",
      "3072268       NaN       NaN          0  WASHINGTON    DC\n",
      "\n",
      "*** 2016 ***\n",
      "         FIPS Code CBSA Code CBSA Level        City State\n",
      "298543         NaN       NaN          0      EASTON    MA\n",
      "787163         NaN       NaN          0  WASHINGTON    DC\n",
      "5598351        NaN       NaN          0     CROWLEY    CO\n",
      "10254217       NaN       NaN          0      DULLES    VA\n",
      "\n",
      "*** 2017 ***\n",
      "        FIPS Code CBSA Code CBSA Level    City State\n",
      "280469        NaN       NaN          0  EASTON    MA\n",
      "2896749       NaN       NaN          0  DULLES    VA\n"
     ]
    }
   ],
   "source": [
    "for year in range(1997,2018):\n",
    "    bad_cases = find_anomalies(year)\n",
    "    print(f'\\n*** {year} ***')\n",
    "    print(bad_cases)"
   ]
  },
  {
   "cell_type": "code",
   "execution_count": 5,
   "metadata": {
    "ExecuteTime": {
     "end_time": "2020-06-23T22:17:02.828506Z",
     "start_time": "2020-06-23T22:17:02.825979Z"
    }
   },
   "outputs": [],
   "source": [
    "# The cells below are examples of what needs to be done for every year in 003-Fix_CBSA"
   ]
  },
  {
   "cell_type": "code",
   "execution_count": 6,
   "metadata": {
    "ExecuteTime": {
     "end_time": "2020-06-23T22:17:02.840108Z",
     "start_time": "2020-06-23T22:17:02.830145Z"
    }
   },
   "outputs": [],
   "source": [
    "# Dulles, VA is part of the Washington,DC metro area, so CBSA Code should be 47900 and CBSA Level \n",
    "# should be 2. It is in Loudon County, VA so its FIPS Code should be 51107.\n",
    "\n",
    "# Easton, MA is part of the Providence metro area, so CBSA Code should be 39300 and CBSA Level \n",
    "# should be 2.  It is in Bristol County, MA so its FIPS Code should be 25005."
   ]
  },
  {
   "cell_type": "raw",
   "metadata": {},
   "source": [
    "# 2017\n",
    "correcter = {\n",
    "    'EASTON':['25005','39300','2'],\n",
    "    'DULLES':['51107','47900','2']\n",
    "}\n",
    "\n",
    "for i in unknown.index:\n",
    "    for k,v in correcter.items():\n",
    "        if unknown.loc[i]['City'].strip() == k:\n",
    "            unknown.loc[i]['FIPS Code'] = v[0]\n",
    "            unknown.loc[i]['CBSA Code'] = v[1]\n",
    "            unknown.loc[i]['CBSA Level'] = v[2]"
   ]
  }
 ],
 "metadata": {
  "kernelspec": {
   "display_name": "Python 3",
   "language": "python",
   "name": "python3"
  },
  "language_info": {
   "codemirror_mode": {
    "name": "ipython",
    "version": 3
   },
   "file_extension": ".py",
   "mimetype": "text/x-python",
   "name": "python",
   "nbconvert_exporter": "python",
   "pygments_lexer": "ipython3",
   "version": "3.7.7"
  }
 },
 "nbformat": 4,
 "nbformat_minor": 4
}

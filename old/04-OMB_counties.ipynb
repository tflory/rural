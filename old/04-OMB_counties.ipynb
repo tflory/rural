{
 "cells": [
  {
   "cell_type": "code",
   "execution_count": null,
   "metadata": {},
   "outputs": [],
   "source": [
    "#default_exp OMB_counties"
   ]
  },
  {
   "cell_type": "code",
   "execution_count": 1,
   "metadata": {},
   "outputs": [],
   "source": [
    "# The OMB urban concept has two categories: Metropolitan Areas and Micropolitan Areas, both created from counties\n",
    "# according to criteria described here: \n",
    "# https://www.govinfo.gov/content/pkg/FR-2010-06-28/pdf/2010-15605.pdf.\n",
    "\n",
    "# This notebook, after the file improvements made in the first notebook, defines and maps counties that are\n",
    "# metropolitan, micropolitan, and neither (\"rural\")."
   ]
  },
  {
   "cell_type": "code",
   "execution_count": 2,
   "metadata": {},
   "outputs": [],
   "source": [
    "import pandas as pd"
   ]
  },
  {
   "cell_type": "code",
   "execution_count": 3,
   "metadata": {},
   "outputs": [],
   "source": [
    "year = 2017\n",
    "data_file = 'data/df_%d.csv' % year\n",
    "df = pd.read_csv(data_file,dtype=object)"
   ]
  },
  {
   "cell_type": "code",
   "execution_count": 4,
   "metadata": {},
   "outputs": [
    {
     "data": {
      "text/plain": [
       "Company                         object\n",
       "Address Line 1                  object\n",
       "City                            object\n",
       "State                           object\n",
       "ZipCode                         object\n",
       "County Code                     object\n",
       "Primary SIC Code                object\n",
       "SIC6_Descriptions               object\n",
       "Primary NAICS Code              object\n",
       "NAICS8 Descriptions             object\n",
       "Employee Size (5) - Location    object\n",
       "Sales Volume (9) - Location     object\n",
       "Business Status Code            object\n",
       "Industry Specific First Byte    object\n",
       "Year Established                object\n",
       "ABI                             object\n",
       "Subsidiary Number               object\n",
       "Parent Number                   object\n",
       "Parent Actual Employee Size     object\n",
       "Parent Actual Sales Volume      object\n",
       "Census Tract                    object\n",
       "Census Block                    object\n",
       "Latitude                        object\n",
       "Longitude                       object\n",
       "CBSA Code                       object\n",
       "CBSA Level                      object\n",
       "FIPS Code                       object\n",
       "State FIPS                      object\n",
       "Continental                     object\n",
       "NAICS2                          object\n",
       "NAICS2 desc                     object\n",
       "dtype: object"
      ]
     },
     "execution_count": 4,
     "metadata": {},
     "output_type": "execute_result"
    }
   ],
   "source": [
    "df.dtypes"
   ]
  },
  {
   "cell_type": "code",
   "execution_count": 5,
   "metadata": {},
   "outputs": [
    {
     "data": {
      "text/plain": [
       "0"
      ]
     },
     "execution_count": 5,
     "metadata": {},
     "output_type": "execute_result"
    }
   ],
   "source": [
    "len(df[df['CBSA Level'].isnull()])"
   ]
  },
  {
   "cell_type": "code",
   "execution_count": 6,
   "metadata": {},
   "outputs": [
    {
     "data": {
      "text/plain": [
       "883453"
      ]
     },
     "execution_count": 6,
     "metadata": {},
     "output_type": "execute_result"
    }
   ],
   "source": [
    "len(df[df['CBSA Code']=='00000'])"
   ]
  },
  {
   "cell_type": "code",
   "execution_count": 7,
   "metadata": {},
   "outputs": [
    {
     "data": {
      "text/plain": [
       "883453"
      ]
     },
     "execution_count": 7,
     "metadata": {},
     "output_type": "execute_result"
    }
   ],
   "source": [
    "len(df[(df['CBSA Code']=='00000') & (df['CBSA Level']=='0')])"
   ]
  },
  {
   "cell_type": "code",
   "execution_count": 8,
   "metadata": {},
   "outputs": [],
   "source": [
    "# So CBSA Code of 00000 and CBSA Level are not independent criteria of rurality. CBSA Level == 0 will do."
   ]
  },
  {
   "cell_type": "code",
   "execution_count": 9,
   "metadata": {},
   "outputs": [],
   "source": [
    "words = {'0':'rural','1':'micropolitan','2':'metropolitan'}\n",
    "def make_word(code):\n",
    "    return words[code]"
   ]
  },
  {
   "cell_type": "code",
   "execution_count": 10,
   "metadata": {},
   "outputs": [],
   "source": [
    "df['CBSA Level desc'] = df['CBSA Level'].apply(make_word)"
   ]
  },
  {
   "cell_type": "code",
   "execution_count": 11,
   "metadata": {},
   "outputs": [],
   "source": [
    "def is_it_rural(code):\n",
    "    if code == '0':\n",
    "        return '1'\n",
    "    else:\n",
    "        return '0'"
   ]
  },
  {
   "cell_type": "code",
   "execution_count": 12,
   "metadata": {},
   "outputs": [],
   "source": [
    "df['rural_OMB'] = df['CBSA Level'].apply(is_it_rural)"
   ]
  },
  {
   "cell_type": "code",
   "execution_count": 13,
   "metadata": {},
   "outputs": [
    {
     "data": {
      "text/plain": [
       "0    13849980\n",
       "1      883457\n",
       "Name: rural_OMB, dtype: int64"
      ]
     },
     "execution_count": 13,
     "metadata": {},
     "output_type": "execute_result"
    }
   ],
   "source": [
    "df['rural_OMB'].value_counts()"
   ]
  },
  {
   "cell_type": "code",
   "execution_count": 14,
   "metadata": {},
   "outputs": [
    {
     "data": {
      "text/plain": [
       "0    94.003728\n",
       "1     5.996272\n",
       "Name: rural_OMB, dtype: float64"
      ]
     },
     "execution_count": 14,
     "metadata": {},
     "output_type": "execute_result"
    }
   ],
   "source": [
    "df['rural_OMB'].value_counts(normalize=True) * 100"
   ]
  },
  {
   "cell_type": "code",
   "execution_count": 15,
   "metadata": {},
   "outputs": [],
   "source": [
    "# Write a new file\n",
    "outfile = 'data/df_%d_OMB.csv' % year\n",
    "df.to_csv(outfile,index=None)"
   ]
  },
  {
   "cell_type": "code",
   "execution_count": null,
   "metadata": {},
   "outputs": [],
   "source": []
  }
 ],
 "metadata": {
  "anaconda-cloud": {},
  "kernelspec": {
   "display_name": "Python 3",
   "language": "python",
   "name": "python3"
  },
  "language_info": {
   "codemirror_mode": {
    "name": "ipython",
    "version": 3
   },
   "file_extension": ".py",
   "mimetype": "text/x-python",
   "name": "python",
   "nbconvert_exporter": "python",
   "pygments_lexer": "ipython3",
   "version": "3.7.7"
  }
 },
 "nbformat": 4,
 "nbformat_minor": 2
}

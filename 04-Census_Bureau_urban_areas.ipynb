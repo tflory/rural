{
 "cells": [
  {
   "cell_type": "code",
   "execution_count": 17,
   "metadata": {
    "ExecuteTime": {
     "end_time": "2020-07-13T22:24:02.564145Z",
     "start_time": "2020-07-13T22:24:02.561009Z"
    }
   },
   "outputs": [],
   "source": [
    "# default_exp Census_Bureau_urban_areas"
   ]
  },
  {
   "cell_type": "code",
   "execution_count": 18,
   "metadata": {
    "ExecuteTime": {
     "end_time": "2020-07-13T22:24:02.609883Z",
     "start_time": "2020-07-13T22:24:02.570815Z"
    }
   },
   "outputs": [],
   "source": [
    "# hide\n",
    "# From https://www2.census.gov/geo/pdfs/reference/GARM/Ch12GARM.pdf:\n",
    "\n",
    "# \"Urbanized Areas (UAs)\n",
    "# A UA is a continuously built-up area with a population of 50,000 or more.\n",
    "# It comprises one or more places—central place(s)—and the adjacent densely settled \n",
    "# surrounding area—urban fringe—consisting of other places and nonplace territory.\"\n",
    "\n",
    "# The Urban Area concept is a combination of urbanized areas and urban clusters, the\n",
    "# distinction being based on population size and settlement density. The urbanized area\n",
    "# has a greater population size and density of settlement.\n",
    "\n",
    "# \"Rural Places and Territory\n",
    "# Territory, population, and housing units that the Census Bureau does not classify as urban \n",
    "# are classified as rural.\"\n",
    "\n",
    "# Census Urbanized Areas and Urban Clusters are not based on political boundaries at all."
   ]
  },
  {
   "cell_type": "code",
   "execution_count": 19,
   "metadata": {
    "ExecuteTime": {
     "end_time": "2020-07-13T22:24:04.200205Z",
     "start_time": "2020-07-13T22:24:02.612748Z"
    }
   },
   "outputs": [],
   "source": [
    "# export\n",
    "import pandas as pd\n",
    "import numpy as np\n",
    "import re"
   ]
  },
  {
   "cell_type": "code",
   "execution_count": 20,
   "metadata": {
    "ExecuteTime": {
     "end_time": "2020-07-13T22:24:04.206815Z",
     "start_time": "2020-07-13T22:24:04.203421Z"
    }
   },
   "outputs": [],
   "source": [
    "# export\n",
    "# open a log file\n",
    "logfile = open('004-UA.log','w')"
   ]
  },
  {
   "cell_type": "code",
   "execution_count": 21,
   "metadata": {
    "ExecuteTime": {
     "end_time": "2020-07-13T22:24:04.280272Z",
     "start_time": "2020-07-13T22:24:04.209387Z"
    }
   },
   "outputs": [],
   "source": [
    "# export\n",
    "def all_nines(li):\n",
    "    \"\"\"Determine whether the list of CBSA codes in a UA are all missing values.\"\"\"\n",
    "    length = len(li)\n",
    "    n = 0\n",
    "    for item in li:\n",
    "        if item == 99999:\n",
    "            n += 1\n",
    "    if n == length:\n",
    "        return True\n",
    "    return False\n",
    "\n",
    "def remove_all(li,val):\n",
    "    \"\"\"Remove all occurrences of a particular value from a list.\"\"\"\n",
    "    i = 0\n",
    "    while i < len(li):\n",
    "        try:\n",
    "            li.remove(val)\n",
    "        except:\n",
    "            pass\n",
    "        i += 1\n",
    "    return li\n",
    "\n",
    "def how_rural(code):\n",
    "    \"\"\"Apply the UA rurality flag.\"\"\"\n",
    "    if code in ua_keys.keys():\n",
    "        return ua_keys[code]\n",
    "    else:\n",
    "        return np.nan\n",
    "    \n",
    "def find_ua(code):\n",
    "    \"\"\"Get the UA code that matches a particular CBSA code in the census relationship file.\"\"\"\n",
    "    for pair in pairs:\n",
    "        if pair[1] == code:\n",
    "            return pair[0]\n",
    "\n",
    "def ua_type(place):\n",
    "    \"\"\"Create the UA Type value by skimming the last two words off the \n",
    "       relationship file's UANAME value.\n",
    "    \"\"\"\n",
    "    if place.find('Not in a 2010 urban area') != -1:\n",
    "        return np.nan\n",
    "    else:\n",
    "        list = re.findall(\"(\\S+)\",place)\n",
    "        return ' '.join(list[len(list)-2:])\n",
    "\n",
    "def get_ua_type(code):\n",
    "    \"\"\"Return the UA Type value for a UA Code.\"\"\"\n",
    "    try:\n",
    "        return ua_type_dict[code]\n",
    "    except KeyError:\n",
    "        return np.nan\n",
    "    "
   ]
  },
  {
   "cell_type": "code",
   "execution_count": 22,
   "metadata": {
    "ExecuteTime": {
     "end_time": "2020-07-13T22:24:04.425401Z",
     "start_time": "2020-07-13T22:24:04.283149Z"
    }
   },
   "outputs": [],
   "source": [
    "# export\n",
    "# Eventually add the Urban Area (UA) to each IndoGroup record by matching InfoGroup 'CBSA Code' \n",
    "# (metro/micropolitan area) to the Census Relationship file that cross-references CBSA and UA.\n",
    "# The file contains a record for all metro/micro areas (CBSAs) and all urban areas/clusters \n",
    "# (UAs) in 2010.\n",
    "# Prepare the data in the relationship file.\n",
    "relationship = '/home/tflory/notebooks/InfoGroup/rurality/Relationship_Files/Urban_Area_to_Metro_Micro_Area_utf-8.csv'\n",
    "rel = pd.read_csv(relationship)\n",
    "\n",
    "cbsa_list = rel['CBSA'].drop_duplicates().tolist()\n",
    "ua_list = rel['UA'].drop_duplicates().tolist()\n",
    "# 99999 is the code for a missing value in the pair: a UA with no corresponding CBSA\n",
    "# or a CBSA with no corresponding UA.\n",
    "cbsa_list.remove(99999)\n",
    "ua_list.remove(99999)\n",
    "# Add a UA Type variable to the rel dataframe by extracting the last two\n",
    "# words in the UANAME variable.\n",
    "rel['UA Type'] = rel['UANAME'].apply(ua_type)\n",
    "# Make a list of lists of all the UA/CBSA pairs in the relationship file.\n",
    "pairs = rel[['UA','CBSA']].values.tolist()\n",
    "\n",
    "# Create dict from list of lists. pairs[0] is UA, pairs[1] is CBSA.\n",
    "# The result is a dict with keys of UAs and values of lists of CBSAs that are\n",
    "# associated with each UA in the relationship file\n",
    "uas = {}\n",
    "for pair in pairs:\n",
    "    try:\n",
    "        uas[pair[0]].append(pair[1])\n",
    "    except:\n",
    "        uas[pair[0]] = [pair[1]]\n",
    "        \n",
    "# This is the reverse of the uas dict above. Each key is a CBSA, each value\n",
    "# a list of the UAs associated with each CBSA.\n",
    "cbsas = {}\n",
    "for pair in pairs:\n",
    "    try:\n",
    "        cbsas[pair[1]].append(pair[0])\n",
    "    except:\n",
    "        cbsas[pair[1]] = [pair[0]]\n",
    "        \n",
    "# Remove missing as a key and remove all missing values from each value list of UAs.\n",
    "del cbsas[99999]\n",
    "for k,v in cbsas.items():\n",
    "    cbsas[k] = remove_all(v,99999)\n",
    "    \n",
    "# Create a dict with the UA as key and the UA Type as value.\n",
    "ua_type_dict = {}\n",
    "for v in rel[['UA','UA Type']].values.tolist():\n",
    "    ua_type_dict[v[0]] = v[1]"
   ]
  },
  {
   "cell_type": "code",
   "execution_count": 23,
   "metadata": {
    "ExecuteTime": {
     "end_time": "2020-07-13T22:24:04.440522Z",
     "start_time": "2020-07-13T22:24:04.427625Z"
    }
   },
   "outputs": [
    {
     "data": {
      "text/plain": [
       "Index(['UA', 'UANAME', 'CBSA', 'MNAME', 'MEMI', 'POPPT', 'HUPT', 'AREAPT',\n",
       "       'AREALANDPT', 'UAPOP', 'UAHU', 'UAAREA', 'UAAREALAND', 'MPOP', 'MHU',\n",
       "       'MAREA', 'MAREALAND', 'UAPOPPCT', 'UAHUPCT', 'UAAREAPCT',\n",
       "       'UAAREALANDPCT', 'MPOPPCT', 'MHUPCT', 'MAREAPCT', 'MAREALANDPCT',\n",
       "       'UA Type'],\n",
       "      dtype='object')"
      ]
     },
     "execution_count": 23,
     "metadata": {},
     "output_type": "execute_result"
    }
   ],
   "source": [
    "# hide\n",
    "rel.columns"
   ]
  },
  {
   "cell_type": "code",
   "execution_count": 24,
   "metadata": {
    "ExecuteTime": {
     "end_time": "2020-07-13T22:24:04.504032Z",
     "start_time": "2020-07-13T22:24:04.442491Z"
    }
   },
   "outputs": [
    {
     "data": {
      "text/plain": [
       "Not in a 2010 urban area                                955\n",
       "Charlotte, NC--SC Urbanized Area                          5\n",
       "Aguadilla--Isabela--San Sebastián, PR Urbanized Area      5\n",
       "New York--Newark, NY--NJ--CT Urbanized Area               5\n",
       "Allentown, PA--NJ Urbanized Area                          5\n",
       "                                                       ... \n",
       "Adrian, MI Urban Cluster                                  1\n",
       "Helena-West Helena, AR Urban Cluster                      1\n",
       "Portage, WI Urban Cluster                                 1\n",
       "Mount Angel, OR Urban Cluster                             1\n",
       "Bellefonte, PA Urban Cluster                              1\n",
       "Name: UANAME, Length: 3602, dtype: int64"
      ]
     },
     "execution_count": 24,
     "metadata": {},
     "output_type": "execute_result"
    }
   ],
   "source": [
    "# hide\n",
    "rel['UANAME'].value_counts()"
   ]
  },
  {
   "cell_type": "code",
   "execution_count": 25,
   "metadata": {
    "ExecuteTime": {
     "end_time": "2020-07-13T22:24:04.516646Z",
     "start_time": "2020-07-13T22:24:04.506295Z"
    }
   },
   "outputs": [],
   "source": [
    "# export\n",
    "# Categorize all the UAs as urban, rural, partly rural, or unknown.\n",
    "# Partly rural == UA with some valid CBSAs and at least 1 99999;\n",
    "# Rural (entirely rural) == UA with no valid CBSAs, just some 99999s;\n",
    "# Urban (not at all rural) == UA with some valid CBSAs but no 99999s.\n",
    "# Unknown == UA 99999 (missing)\n",
    "ua_keys = dict.fromkeys(uas.keys())\n",
    "for k,v in uas.items():\n",
    "    if len(v) > 1:\n",
    "        if all_nines(v):\n",
    "            ua_keys[k] = 'rural-multi'\n",
    "        elif 99999 in v:\n",
    "            ua_keys[k] = 'partly rural'\n",
    "        elif k == 99999:\n",
    "            ua_keys[k] = 'unknown'\n",
    "        else:\n",
    "            ua_keys[k]= 'urban-multi'\n",
    "    else:\n",
    "        if v[0] == 99999:\n",
    "            ua_keys[k] = 'rural-single'\n",
    "        else:\n",
    "            ua_keys[k] = 'urban-single'"
   ]
  },
  {
   "cell_type": "code",
   "execution_count": 26,
   "metadata": {
    "ExecuteTime": {
     "end_time": "2020-07-13T22:24:04.603921Z",
     "start_time": "2020-07-13T22:24:04.520206Z"
    }
   },
   "outputs": [
    {
     "name": "stdout",
     "output_type": "stream",
     "text": [
      "Out of 3602 UAs:\n",
      " 908 are entirely rural\n",
      " 130 are partly rural\n",
      " 2563 are urban, and\n",
      " 1 = unknown.\n"
     ]
    }
   ],
   "source": [
    "# hide\n",
    "# Count and log the number of rural, urban, and unknown UAs.\n",
    "len_att = len(ua_keys)\n",
    "entire = 0\n",
    "urban = 0\n",
    "part = 0\n",
    "unk = 0\n",
    "for k,v in ua_keys.items():\n",
    "    if v in ['rural-single','rural-multi']:\n",
    "        entire += 1\n",
    "    elif v == 'partly rural':\n",
    "        part += 1\n",
    "    elif v in ['urban-single','urban-multi']:\n",
    "        urban += 1\n",
    "    elif v == 'unknown':\n",
    "        unk += 1\n",
    "\n",
    "print(f'Out of',str(len_att),'UAs:\\n',str(entire),'are entirely rural\\n',str(part),'are partly rural\\n',\n",
    "      str(urban),'are urban, and\\n',str(unk),'= unknown.') #,file=logfile)"
   ]
  },
  {
   "cell_type": "code",
   "execution_count": 27,
   "metadata": {
    "ExecuteTime": {
     "end_time": "2020-07-13T22:24:04.617255Z",
     "start_time": "2020-07-13T22:24:04.607291Z"
    }
   },
   "outputs": [],
   "source": [
    "# hide\n",
    "# On the average there are is least a part of more than 3 UA's for each CBSA. Thus the\n",
    "# only way to get a one-to-one mapping of CBSA to UA will be to do the shapely 'within' \n",
    "# comparison: determine whether the point coordinates of an IG enterprise fall within \n",
    "# the polygon coordinates of a particular UA.\n",
    "\n",
    "# But to create a simple 'rural_Census' flag we need only to discover whether the CBSA Code \n",
    "# of the IG record matches any CBSA code in the relationship file that is not in an urban area."
   ]
  },
  {
   "cell_type": "code",
   "execution_count": 28,
   "metadata": {
    "ExecuteTime": {
     "end_time": "2020-07-13T22:24:04.636790Z",
     "start_time": "2020-07-13T22:24:04.620547Z"
    }
   },
   "outputs": [],
   "source": [
    "# hide\n",
    "# But there is more we can learn.\n",
    "# Is a UA in a CBSA 1) partly, 2) entirely, or 3) not at all?\n",
    "# Make a dict with the UA as the key and the value a list of all CBSA codes."
   ]
  },
  {
   "cell_type": "code",
   "execution_count": 29,
   "metadata": {
    "ExecuteTime": {
     "end_time": "2020-07-13T22:24:04.655890Z",
     "start_time": "2020-07-13T22:24:04.640331Z"
    }
   },
   "outputs": [],
   "source": [
    "# hide\n",
    "# The uas dict has a list of CBSAs for each UA. The ua_keys dict tags each UA as rural, \n",
    "# partly rural, or urban. But in InfoGroup we have only CBSA Code. We can determine if the \n",
    "# IG record's CBSA Code matches to a UA that is entirely urban and that is completely within \n",
    "# the CBSA; i.e., it has only the IG record's CBS code in its\n",
    "# CBSA list. And if it matches to a UA that is entirely rural; i.e., the UA has only a single \n",
    "# 99999 in its CBSA list.\n",
    "\n",
    "# The cbsas dict is a reverse version of uas: a key for every CBSA and, as the value, the \n",
    "# list of UAs associated with the key. \n",
    "\n",
    "# The cbsas_keys dict substitutes the urban/rural tag of each UA for its code value.\n",
    "# Using those lists of text values we can determine whether a record is rural, partly \n",
    "# rural, or urban."
   ]
  },
  {
   "cell_type": "code",
   "execution_count": 30,
   "metadata": {
    "ExecuteTime": {
     "end_time": "2020-07-13T22:24:04.677491Z",
     "start_time": "2020-07-13T22:24:04.658946Z"
    }
   },
   "outputs": [],
   "source": [
    "# hide\n",
    "# CBSA key\n",
    "# A CBSA is not covered entirely by UAs, so is it valid to assess the rurality of a record if \n",
    "# it only has a CBSA Code and no way to categorize the parts of the CBSA that are not covered \n",
    "# by any UA?\n",
    "# Create dict from list of lists.\n"
   ]
  },
  {
   "cell_type": "code",
   "execution_count": 31,
   "metadata": {
    "ExecuteTime": {
     "end_time": "2020-07-14T05:07:01.392731Z",
     "start_time": "2020-07-13T22:24:04.680777Z"
    }
   },
   "outputs": [],
   "source": [
    "# export\n",
    "for yr in range(1997,2018):\n",
    "    print(f'\\n{yr}:',file=logfile)\n",
    "    infile = f'/InfoGroup/data/rurality/InfoGroup_{yr}_nb03.csv'\n",
    "    df = pd.read_csv(infile,dtype=object)\n",
    "    df['CBSA Code'] = df['CBSA Code'].fillna(99999)\n",
    "    df['CBSA Code'] = df['CBSA Code'].astype(int)\n",
    "    df['UA Code'] = df['CBSA Code'].apply(find_ua)\n",
    "    df['UA Type'] = df['UA Code'].apply(get_ua_type)\n",
    "    df['rural_by_UA'] = df['UA Code'].apply(how_rural) \n",
    "    print(df['UA Type'].value_counts(),file=logfile)\n",
    "    print(df['UA Type'].value_counts(normalize=True) * 100,file=logfile)\n",
    "    print(df['rural_by_UA'].value_counts(),file=logfile)\n",
    "    print(df['rural_by_UA'].value_counts(normalize=True) * 100,file=logfile)\n",
    "    # write out a new file\n",
    "    outfile = f'/InfoGroup/data/rurality/InfoGroup_{yr}_nb04.csv' \n",
    "    df.to_csv(outfile,index=None)"
   ]
  },
  {
   "cell_type": "code",
   "execution_count": 32,
   "metadata": {
    "ExecuteTime": {
     "end_time": "2020-07-14T05:07:01.397545Z",
     "start_time": "2020-07-14T05:07:01.394692Z"
    }
   },
   "outputs": [],
   "source": [
    "# export\n",
    "logfile.close()"
   ]
  }
 ],
 "metadata": {
  "anaconda-cloud": {},
  "kernelspec": {
   "display_name": "Python 3",
   "language": "python",
   "name": "python3"
  },
  "language_info": {
   "codemirror_mode": {
    "name": "ipython",
    "version": 3
   },
   "file_extension": ".py",
   "mimetype": "text/x-python",
   "name": "python",
   "nbconvert_exporter": "python",
   "pygments_lexer": "ipython3",
   "version": "3.8.2"
  }
 },
 "nbformat": 4,
 "nbformat_minor": 2
}

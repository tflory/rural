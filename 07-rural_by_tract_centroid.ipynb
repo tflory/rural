{
 "cells": [
  {
   "cell_type": "code",
   "execution_count": 1,
   "metadata": {},
   "outputs": [],
   "source": [
    "import pandas as pd"
   ]
  },
  {
   "cell_type": "code",
   "execution_count": 2,
   "metadata": {},
   "outputs": [],
   "source": [
    "# Read the file created in another notebook with one record for every U.s. census tract, \n",
    "# including the flag indicating whether the tract is urban or rural according to the \n",
    "# tract-centroid criterion.\n",
    "tracts_file = \\\n",
    "      '/home/tflory/notebooks/InfoGroup/rurality/points-in-polygons/data/all_tracts.csv'\n",
    "tracts = pd.read_csv(tracts_file,dtype=object,usecols=['GEOID','rural_tract'])"
   ]
  },
  {
   "cell_type": "code",
   "execution_count": 3,
   "metadata": {},
   "outputs": [],
   "source": [
    "# Open a log file\n",
    "logfile = open(f'007_tracts.log','w')"
   ]
  },
  {
   "cell_type": "code",
   "execution_count": 4,
   "metadata": {},
   "outputs": [],
   "source": [
    "# Add the \"rural_tract\" flag variable to each year's modified InfoGroup file.\n",
    "for yr in range(1997,2018): \n",
    "    print(f'\\n{yr}',file=logfile)\n",
    "    df = pd.read_csv(f'/InfoGroup/data/rurality/InfoGroup_{yr}_nb06.csv',dtype=object)\n",
    "    merged = df.merge(tracts,how='left',left_on='Full Census Tract',right_on='GEOID',indicator=True)\n",
    "    print('Rural=1,Urban=0:',file=logfile)\n",
    "    print(merged['rural_tract'].value_counts(),file=logfile)\n",
    "    merged.drop(columns=['GEOID','_merge'],inplace=True)\n",
    "    print('Missing:',file=logfile)\n",
    "    print(merged['rural_tract'].isnull().sum(),file=logfile)\n",
    "    merged.to_csv(f'/InfoGroup/data/rurality/InfoGroup_{yr}_nb07.csv',index=None)"
   ]
  },
  {
   "cell_type": "code",
   "execution_count": 5,
   "metadata": {},
   "outputs": [],
   "source": [
    "logfile.close()"
   ]
  }
 ],
 "metadata": {
  "kernelspec": {
   "display_name": "Python 3",
   "language": "python",
   "name": "python3"
  },
  "language_info": {
   "codemirror_mode": {
    "name": "ipython",
    "version": 3
   },
   "file_extension": ".py",
   "mimetype": "text/x-python",
   "name": "python",
   "nbconvert_exporter": "python",
   "pygments_lexer": "ipython3",
   "version": "3.8.2"
  }
 },
 "nbformat": 4,
 "nbformat_minor": 4
}

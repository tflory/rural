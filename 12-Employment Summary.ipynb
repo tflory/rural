{
 "cells": [
  {
   "cell_type": "code",
   "execution_count": null,
   "metadata": {},
   "outputs": [],
   "source": [
    "import pandas as pd"
   ]
  },
  {
   "cell_type": "code",
   "execution_count": null,
   "metadata": {},
   "outputs": [],
   "source": [
    "infile = 'data/df_2017_OMB_Census_HRSA_FAR.csv'\n",
    "df = pd.read_csv(infile,dtype=object)"
   ]
  },
  {
   "cell_type": "code",
   "execution_count": null,
   "metadata": {},
   "outputs": [
    {
     "data": {
      "text/plain": [
       "Company                         object\n",
       "Address Line 1                  object\n",
       "City                            object\n",
       "State                           object\n",
       "ZipCode                         object\n",
       "County Code                     object\n",
       "Primary SIC Code                object\n",
       "SIC6_Descriptions               object\n",
       "Primary NAICS Code              object\n",
       "NAICS8 Descriptions             object\n",
       "Employee Size (5) - Location    object\n",
       "Sales Volume (9) - Location     object\n",
       "Business Status Code            object\n",
       "Industry Specific First Byte    object\n",
       "Year Established                object\n",
       "ABI                             object\n",
       "Subsidiary Number               object\n",
       "Parent Number                   object\n",
       "Parent Actual Employee Size     object\n",
       "Parent Actual Sales Volume      object\n",
       "Census Tract                    object\n",
       "Census Block                    object\n",
       "Latitude                        object\n",
       "Longitude                       object\n",
       "CBSA Code                       object\n",
       "CBSA Level                      object\n",
       "FIPS Code                       object\n",
       "State FIPS                      object\n",
       "Continental                     object\n",
       "NAICS2                          object\n",
       "NAICS2 desc                     object\n",
       "CBSA Level desc                 object\n",
       "rural_OMB                       object\n",
       "rural_Census_general            object\n",
       "NAICS6                          object\n",
       "NAICS6 desc                     object\n",
       "UA                              object\n",
       "rural_Census                    object\n",
       "Full Census Tract               object\n",
       "rural_HRSA                      object\n",
       "far1                            object\n",
       "far2                            object\n",
       "far3                            object\n",
       "far4                            object\n",
       "FAR Level                       object\n",
       "dtype: object"
      ]
     },
     "execution_count": null,
     "metadata": {},
     "output_type": "execute_result"
    }
   ],
   "source": [
    "df.dtypes"
   ]
  },
  {
   "cell_type": "code",
   "execution_count": null,
   "metadata": {},
   "outputs": [
    {
     "name": "stdout",
     "output_type": "stream",
     "text": [
      "Total employment: 159762888.0\n"
     ]
    }
   ],
   "source": [
    "df['Employee Size (5) - Location'] = df['Employee Size (5) - Location'].astype(float)\n",
    "total_emp = df['Employee Size (5) - Location'].sum()\n",
    "print(\"Total employment:\",str(total_emp))"
   ]
  },
  {
   "cell_type": "code",
   "execution_count": null,
   "metadata": {},
   "outputs": [
    {
     "name": "stdout",
     "output_type": "stream",
     "text": [
      "OMB rural percentage employment: 4.642126274031801\n"
     ]
    }
   ],
   "source": [
    "total_OMB_rural = df[df['rural_OMB']=='1']['Employee Size (5) - Location'].sum()\n",
    "pct = (total_OMB_rural / total_emp) * 100.0\n",
    "print('OMB rural percentage employment:',str(pct))"
   ]
  },
  {
   "cell_type": "code",
   "execution_count": null,
   "metadata": {},
   "outputs": [
    {
     "name": "stdout",
     "output_type": "stream",
     "text": [
      "Workaround Census rural percentage employment: 9.747765075453568\n"
     ]
    }
   ],
   "source": [
    "total_Census_rural_general = df[df['rural_Census_general']=='1']['Employee Size (5) - Location'].sum()\n",
    "pct = (total_Census_rural_general / total_emp) * 100.0\n",
    "print('Workaround Census rural percentage employment:',str(pct))"
   ]
  },
  {
   "cell_type": "code",
   "execution_count": null,
   "metadata": {},
   "outputs": [
    {
     "name": "stdout",
     "output_type": "stream",
     "text": [
      "Precise Census rural percentage employment: 12.16511621898072\n"
     ]
    }
   ],
   "source": [
    "total_Census_rural = df[df['rural_Census']=='1']['Employee Size (5) - Location'].sum()\n",
    "pct = (total_Census_rural / total_emp) * 100.0\n",
    "print('Precise Census rural percentage employment:',str(pct))"
   ]
  },
  {
   "cell_type": "code",
   "execution_count": null,
   "metadata": {},
   "outputs": [
    {
     "name": "stdout",
     "output_type": "stream",
     "text": [
      "HRSA rural percentage employment: 5.308655286702129\n"
     ]
    }
   ],
   "source": [
    "total_HRSA_rural = df[df['rural_HRSA']=='1']['Employee Size (5) - Location'].sum()\n",
    "pct = (total_HRSA_rural / total_emp) * 100.0\n",
    "print('HRSA rural percentage employment:',str(pct))"
   ]
  },
  {
   "cell_type": "code",
   "execution_count": null,
   "metadata": {},
   "outputs": [],
   "source": [
    "# For FAR statistics, include only records from the lower 48 without missing 'FAR Level' values.\n",
    "df['FAR Level'].fillna(-1,inplace=True)\n",
    "df[['Continental','State FIPS','FAR Level']] = df[['Continental','State FIPS','FAR Level']].astype(float)\n",
    "df[['Continental','State FIPS','FAR Level']] = df[['Continental','State FIPS','FAR Level']].astype(int)\n",
    "df_select = df[(df['Continental']==1) & (df['State FIPS'] != 11) & (df['FAR Level'] >= 0)].copy()\n",
    "total_FAR_emp = df_select['Employee Size (5) - Location'].sum()"
   ]
  },
  {
   "cell_type": "code",
   "execution_count": null,
   "metadata": {},
   "outputs": [
    {
     "name": "stdout",
     "output_type": "stream",
     "text": [
      "FAR (any level) rural percentage employment: 3.79190378534832\n"
     ]
    }
   ],
   "source": [
    "total_FAR_rural = df_select[df_select['FAR Level'].astype(int) > 0]['Employee Size (5) - Location'].sum()\n",
    "pct = (total_FAR_rural / total_FAR_emp) * 100.0\n",
    "print('FAR (any level) rural percentage employment:',str(pct))"
   ]
  },
  {
   "cell_type": "code",
   "execution_count": null,
   "metadata": {},
   "outputs": [],
   "source": []
  }
 ],
 "metadata": {
  "kernelspec": {
   "display_name": "Python 3",
   "language": "python",
   "name": "python3"
  }
 },
 "nbformat": 4,
 "nbformat_minor": 2
}

{
 "cells": [
  {
   "cell_type": "code",
   "execution_count": 14,
   "metadata": {
    "ExecuteTime": {
     "end_time": "2020-08-06T17:34:08.256858Z",
     "start_time": "2020-08-06T17:34:08.251408Z"
    }
   },
   "outputs": [],
   "source": [
    "import pandas as pd"
   ]
  },
  {
   "cell_type": "code",
   "execution_count": 15,
   "metadata": {
    "ExecuteTime": {
     "end_time": "2020-08-06T17:34:08.269403Z",
     "start_time": "2020-08-06T17:34:08.261256Z"
    }
   },
   "outputs": [],
   "source": [
    "cols = ['Business Status Code',\n",
    "'Year Established',\n",
    "'CBSA Level',\n",
    "'UA Type',\n",
    "'rural_by_UA',\n",
    "'rural_HRSA',\n",
    "'FAR Level',\n",
    "'rural_tract',\n",
    "'Primary SIC Code',\n",
    "'Primary NAICS Code']\n"
   ]
  },
  {
   "cell_type": "code",
   "execution_count": 16,
   "metadata": {
    "ExecuteTime": {
     "end_time": "2020-08-06T17:35:51.390865Z",
     "start_time": "2020-08-06T17:34:08.272557Z"
    }
   },
   "outputs": [],
   "source": [
    "for yr in range(1997,2018):\n",
    "    logfile_name = f'/InfoGroup/data/rurality/logs/freqs_{yr}.log'\n",
    "    logfile = open(logfile_name,'w')\n",
    "    df = pd.read_csv(f'/InfoGroup/data/rurality/InfoGroup_{yr}_step3.csv',dtype=object)\n",
    "    print(f'{yr}:',file=logfile)\n",
    "    for col in cols:\n",
    "        nulls = df[col].isnull().sum()\n",
    "        df[col].dropna(inplace=True)\n",
    "        print('\\n' + ('*' * 20),'df[\"'+col+'\"]',('*' * 20),file=logfile)\n",
    "        print('***','Counts:',file=logfile)\n",
    "        print(df[col].value_counts().nlargest(20),file=logfile)\n",
    "        print('***','Percentages:',file=logfile)\n",
    "        print(df[col].value_counts(normalize=True).nlargest(20) * 100,file=logfile)\n",
    "        print('***','Missing:',nulls,file=logfile)\n",
    "        strlen = len('df['+col+']') + 4\n",
    "        print('*' * (40+strlen),file=logfile)\n",
    "    logfile.close()"
   ]
  },
  {
   "cell_type": "raw",
   "metadata": {},
   "source": [
    "nb01: 14,733,437 # no U.S. territories\n",
    "original and step1: 14,827,152\n",
    "step2: 14,827,152\n",
    "step3 (InfoGroup_{yr}_all_stepz.csv): 14,827,152"
   ]
  }
 ],
 "metadata": {
  "kernelspec": {
   "display_name": "Python 3",
   "language": "python",
   "name": "python3"
  },
  "language_info": {
   "codemirror_mode": {
    "name": "ipython",
    "version": 3
   },
   "file_extension": ".py",
   "mimetype": "text/x-python",
   "name": "python",
   "nbconvert_exporter": "python",
   "pygments_lexer": "ipython3",
   "version": "3.8.2"
  }
 },
 "nbformat": 4,
 "nbformat_minor": 4
}

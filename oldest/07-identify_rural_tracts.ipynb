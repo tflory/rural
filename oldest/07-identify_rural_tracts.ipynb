{
 "cells": [
  {
   "cell_type": "code",
   "execution_count": null,
   "metadata": {},
   "outputs": [],
   "source": [
    "#default_exp identify_rural_tracts"
   ]
  },
  {
   "cell_type": "code",
   "execution_count": null,
   "metadata": {},
   "outputs": [],
   "source": [
    "# Explore rural census tracts in metro counties (CBSAs) and urban areas (UAs)."
   ]
  },
  {
   "cell_type": "code",
   "execution_count": null,
   "metadata": {},
   "outputs": [],
   "source": [
    "import pandas as pd\n",
    "import geopandas as gpd\n",
    "from shapely.geometry import Point, Polygon"
   ]
  },
  {
   "cell_type": "code",
   "execution_count": null,
   "metadata": {},
   "outputs": [
    {
     "data": {
      "text/plain": [
       "2302"
      ]
     },
     "execution_count": null,
     "metadata": {},
     "output_type": "execute_result"
    }
   ],
   "source": [
    "rural_tracts = [line.rstrip(\"\\n\") for line in open(\"data/rural_census_tracts.lis\")]\n",
    "len(rural_tracts)"
   ]
  },
  {
   "cell_type": "code",
   "execution_count": null,
   "metadata": {},
   "outputs": [],
   "source": [
    "# Combine the state-level Census shapefiles. VERY compact code.\n",
    "from pathlib import Path\n",
    "pathlist = Path(\"/InfoGroup/rural/map_files/tracts/\").glob(\"*.shp\")\n",
    "\n",
    "gdf = pd.concat([gpd.read_file(shp) for shp in pathlist]).pipe(gpd.GeoDataFrame)"
   ]
  },
  {
   "cell_type": "code",
   "execution_count": null,
   "metadata": {},
   "outputs": [],
   "source": [
    "gdf.to_file(\"/InfoGroup/rural/map_files/tracts/tl_2017_USA_tract.shp\",driver='ESRI Shapefile')"
   ]
  },
  {
   "cell_type": "code",
   "execution_count": null,
   "metadata": {},
   "outputs": [],
   "source": [
    "# Compute the centroid of the polygon\n",
    "gdf['centroid'] = gdf['geometry'].apply(lambda x: Point(x.centroid)) # shapely methods"
   ]
  },
  {
   "cell_type": "code",
   "execution_count": null,
   "metadata": {},
   "outputs": [],
   "source": [
    "gdf.columns"
   ]
  },
  {
   "cell_type": "code",
   "execution_count": null,
   "metadata": {},
   "outputs": [],
   "source": [
    "gdf.head()"
   ]
  },
  {
   "cell_type": "code",
   "execution_count": null,
   "metadata": {},
   "outputs": [],
   "source": [
    "# Now find out if the centroid is inside a UA. UAs do not respect political boundaries so a single\n",
    "# census tract could be in multiple UAs -- although census tracts are much smaller than UAs and \n",
    "# UAs are discontinuous in space, so there must be very few tracts that overlap multiple UAs -- \n",
    "# and a single census tract could be fractionally rural or urban. \n",
    "\n",
    "# If we don't want to be concerned with fractions of census tracts, dividing up the continuous \n",
    "# measures by the same fraction, it is reasonable to say that a 'Census-urban' census tract is \n",
    "# one whose centroid falls within a particular UA and to call that UA the one to which it belongs.\n",
    "\n",
    "# We know that all census tracts are wholly within or wholly outside a CBSA because they do not \n",
    "# cross county boundaries. So 'OMB-rural' census tracts are in 'OMB-rural' counties.\n",
    "\n",
    "# \"Each census tract contains at least one BG [ed.,block group], and BGs are uniquely numbered \n",
    "# within the census tract. Within the standard census geographic hierarchy, BGs never cross state,\n",
    "# county, or census tract boundaries but may cross the boundaries of any other geographic entity.\""
   ]
  },
  {
   "cell_type": "code",
   "execution_count": null,
   "metadata": {},
   "outputs": [
    {
     "data": {
      "text/plain": [
       "Index(['UACE10', 'GEOID10', 'NAME10', 'NAMELSAD10', 'LSAD10', 'MTFCC10',\n",
       "       'UATYP10', 'FUNCSTAT10', 'ALAND10', 'AWATER10', 'INTPTLAT10',\n",
       "       'INTPTLON10', 'geometry'],\n",
       "      dtype='object')"
      ]
     },
     "execution_count": null,
     "metadata": {},
     "output_type": "execute_result"
    }
   ],
   "source": [
    "# File that contains polygon geometry of UAs for 2017\n",
    "ua_gdf = gpd.read_file('map_files/tl_2017_us_uac10.shp')\n",
    "ua_gdf.columns"
   ]
  },
  {
   "cell_type": "code",
   "execution_count": null,
   "metadata": {},
   "outputs": [
    {
     "data": {
      "text/html": [
       "<div>\n",
       "<style scoped>\n",
       "    .dataframe tbody tr th:only-of-type {\n",
       "        vertical-align: middle;\n",
       "    }\n",
       "\n",
       "    .dataframe tbody tr th {\n",
       "        vertical-align: top;\n",
       "    }\n",
       "\n",
       "    .dataframe thead th {\n",
       "        text-align: right;\n",
       "    }\n",
       "</style>\n",
       "<table border=\"1\" class=\"dataframe\">\n",
       "  <thead>\n",
       "    <tr style=\"text-align: right;\">\n",
       "      <th></th>\n",
       "      <th>UACE10</th>\n",
       "      <th>GEOID10</th>\n",
       "      <th>NAME10</th>\n",
       "      <th>NAMELSAD10</th>\n",
       "      <th>LSAD10</th>\n",
       "      <th>MTFCC10</th>\n",
       "      <th>UATYP10</th>\n",
       "      <th>FUNCSTAT10</th>\n",
       "      <th>ALAND10</th>\n",
       "      <th>AWATER10</th>\n",
       "      <th>INTPTLAT10</th>\n",
       "      <th>INTPTLON10</th>\n",
       "      <th>geometry</th>\n",
       "    </tr>\n",
       "  </thead>\n",
       "  <tbody>\n",
       "    <tr>\n",
       "      <td>0</td>\n",
       "      <td>24310</td>\n",
       "      <td>24310</td>\n",
       "      <td>Dixon, IL</td>\n",
       "      <td>Dixon, IL Urban Cluster</td>\n",
       "      <td>76</td>\n",
       "      <td>G3500</td>\n",
       "      <td>C</td>\n",
       "      <td>S</td>\n",
       "      <td>25525003</td>\n",
       "      <td>938058</td>\n",
       "      <td>+41.8529507</td>\n",
       "      <td>-089.4817439</td>\n",
       "      <td>POLYGON ((-89.498589 41.854668, -89.498538 41....</td>\n",
       "    </tr>\n",
       "    <tr>\n",
       "      <td>1</td>\n",
       "      <td>27847</td>\n",
       "      <td>27847</td>\n",
       "      <td>Escanaba, MI</td>\n",
       "      <td>Escanaba, MI Urban Cluster</td>\n",
       "      <td>76</td>\n",
       "      <td>G3500</td>\n",
       "      <td>C</td>\n",
       "      <td>S</td>\n",
       "      <td>46648248</td>\n",
       "      <td>283456</td>\n",
       "      <td>+45.8704839</td>\n",
       "      <td>-087.0638396</td>\n",
       "      <td>(POLYGON ((-87.063103 45.866083, -87.062210999...</td>\n",
       "    </tr>\n",
       "    <tr>\n",
       "      <td>2</td>\n",
       "      <td>18100</td>\n",
       "      <td>18100</td>\n",
       "      <td>Clintonville, WI</td>\n",
       "      <td>Clintonville, WI Urban Cluster</td>\n",
       "      <td>76</td>\n",
       "      <td>G3500</td>\n",
       "      <td>C</td>\n",
       "      <td>S</td>\n",
       "      <td>5854683</td>\n",
       "      <td>502563</td>\n",
       "      <td>+44.6232203</td>\n",
       "      <td>-088.7611283</td>\n",
       "      <td>POLYGON ((-88.78650499999999 44.629957, -88.78...</td>\n",
       "    </tr>\n",
       "    <tr>\n",
       "      <td>3</td>\n",
       "      <td>06166</td>\n",
       "      <td>06166</td>\n",
       "      <td>Bedford, IN</td>\n",
       "      <td>Bedford, IN Urban Cluster</td>\n",
       "      <td>76</td>\n",
       "      <td>G3500</td>\n",
       "      <td>C</td>\n",
       "      <td>S</td>\n",
       "      <td>30402519</td>\n",
       "      <td>2314</td>\n",
       "      <td>+38.8566530</td>\n",
       "      <td>-086.5012383</td>\n",
       "      <td>(POLYGON ((-86.518316 38.79547, -86.518253 38....</td>\n",
       "    </tr>\n",
       "    <tr>\n",
       "      <td>4</td>\n",
       "      <td>75270</td>\n",
       "      <td>75270</td>\n",
       "      <td>Riverdale, CA</td>\n",
       "      <td>Riverdale, CA Urban Cluster</td>\n",
       "      <td>76</td>\n",
       "      <td>G3500</td>\n",
       "      <td>C</td>\n",
       "      <td>S</td>\n",
       "      <td>2306823</td>\n",
       "      <td>0</td>\n",
       "      <td>+36.4310710</td>\n",
       "      <td>-119.8620544</td>\n",
       "      <td>POLYGON ((-119.869132 36.430832, -119.870931 3...</td>\n",
       "    </tr>\n",
       "  </tbody>\n",
       "</table>\n",
       "</div>"
      ],
      "text/plain": [
       "  UACE10 GEOID10            NAME10                      NAMELSAD10 LSAD10  \\\n",
       "0  24310   24310         Dixon, IL         Dixon, IL Urban Cluster     76   \n",
       "1  27847   27847      Escanaba, MI      Escanaba, MI Urban Cluster     76   \n",
       "2  18100   18100  Clintonville, WI  Clintonville, WI Urban Cluster     76   \n",
       "3  06166   06166       Bedford, IN       Bedford, IN Urban Cluster     76   \n",
       "4  75270   75270     Riverdale, CA     Riverdale, CA Urban Cluster     76   \n",
       "\n",
       "  MTFCC10 UATYP10 FUNCSTAT10   ALAND10  AWATER10   INTPTLAT10    INTPTLON10  \\\n",
       "0   G3500       C          S  25525003    938058  +41.8529507  -089.4817439   \n",
       "1   G3500       C          S  46648248    283456  +45.8704839  -087.0638396   \n",
       "2   G3500       C          S   5854683    502563  +44.6232203  -088.7611283   \n",
       "3   G3500       C          S  30402519      2314  +38.8566530  -086.5012383   \n",
       "4   G3500       C          S   2306823         0  +36.4310710  -119.8620544   \n",
       "\n",
       "                                            geometry  \n",
       "0  POLYGON ((-89.498589 41.854668, -89.498538 41....  \n",
       "1  (POLYGON ((-87.063103 45.866083, -87.062210999...  \n",
       "2  POLYGON ((-88.78650499999999 44.629957, -88.78...  \n",
       "3  (POLYGON ((-86.518316 38.79547, -86.518253 38....  \n",
       "4  POLYGON ((-119.869132 36.430832, -119.870931 3...  "
      ]
     },
     "execution_count": null,
     "metadata": {},
     "output_type": "execute_result"
    }
   ],
   "source": [
    "ua_gdf.head()"
   ]
  },
  {
   "cell_type": "code",
   "execution_count": null,
   "metadata": {},
   "outputs": [],
   "source": [
    "print(len(gdf))\n",
    "print(len(ua_gdf))"
   ]
  },
  {
   "cell_type": "code",
   "execution_count": null,
   "metadata": {},
   "outputs": [],
   "source": [
    "%%time\n",
    "# Count the overlap of tracts in UAs \n",
    "overlap_dict = dict.fromkeys(ua_gdf['GEOID10'].tolist(),0)\n",
    "for i,ua in ua_gdf[['GEOID10','geometry']].iterrows():\n",
    "    for j,ct in gdf['centroid'].iteritems():\n",
    "        if ua['geometry'].contains(ct):\n",
    "                overlap_dict[ua['GEOID10']] += 1\n",
    "                break"
   ]
  },
  {
   "cell_type": "code",
   "execution_count": null,
   "metadata": {},
   "outputs": [],
   "source": [
    "cdf = pd.DataFrame.from_dict(overlap_dict,orient='index',columns=['count'])"
   ]
  },
  {
   "cell_type": "code",
   "execution_count": null,
   "metadata": {},
   "outputs": [],
   "source": [
    "# This shows that no UA contains the centroid of more than one census tract.\n",
    "cdf['count'].value_counts()"
   ]
  },
  {
   "cell_type": "raw",
   "metadata": {},
   "source": [
    "# See the python program tracts.py in /InfoGroup/rural/points-in-polygons/ for execution of this code\n",
    "# to assign a UA code to each census tract whoise centroid falls within a UA.\n",
    "%%time\n",
    "# Assign a UA code \n",
    "gdf['UA Code'] = '99999'\n",
    "for j,ct in gdf.iterrows():\n",
    "    for i,ua in ua_gdf.iterrows():\n",
    "        if ct['centroid'].within(ua['geometry']):\n",
    "            gdf.loc[j]['UA Code'] = ua['GEOID10']\n",
    "            break"
   ]
  },
  {
   "cell_type": "code",
   "execution_count": null,
   "metadata": {},
   "outputs": [],
   "source": [
    "# -----------------------"
   ]
  },
  {
   "cell_type": "code",
   "execution_count": null,
   "metadata": {},
   "outputs": [],
   "source": [
    "# InfoGroup for 2017 has data on 82,385 census tracts for all. The HRSA/FORHP file \n",
    "# of rural units lists 2,302 rural census tracts in addition to all those in non-Metro counties. The Census's \n",
    "# Zip Code-to-Census Tracts relationship file identifies 74,091 census tracts in all states(below)."
   ]
  },
  {
   "cell_type": "code",
   "execution_count": null,
   "metadata": {},
   "outputs": [],
   "source": [
    "# The ID of a census tract is the combination of the state FIPS, county FIPS, and tract number.\n",
    "infile = '/home/tflory/Relationship_Files/Census_Tract_to_PUMA.csv'\n",
    "ct_df = pd.read_csv(infile,usecols=['STATEFP','COUNTYFP','TRACTCE']).drop_duplicates()"
   ]
  },
  {
   "cell_type": "code",
   "execution_count": null,
   "metadata": {},
   "outputs": [],
   "source": [
    "len(ct_df['STATEFP'] <= 56)"
   ]
  },
  {
   "cell_type": "code",
   "execution_count": null,
   "metadata": {},
   "outputs": [],
   "source": []
  }
 ],
 "metadata": {
  "kernelspec": {
   "display_name": "Python 3",
   "language": "python",
   "name": "python3"
  }
 },
 "nbformat": 4,
 "nbformat_minor": 4
}

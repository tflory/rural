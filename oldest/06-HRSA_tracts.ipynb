{
 "cells": [
  {
   "cell_type": "code",
   "execution_count": null,
   "metadata": {},
   "outputs": [],
   "source": [
    "#default_exp HRSA_tracts"
   ]
  },
  {
   "cell_type": "code",
   "execution_count": null,
   "metadata": {},
   "outputs": [],
   "source": [
    "# \"There are measurement challenges with both the Census and OMB definitions. Some policy \n",
    "# experts note that the Census definition classifies quite a bit of suburban area as rural. \n",
    "# The OMB definition includes rural areas in Metropolitan counties including, for example, \n",
    "# the Grand Canyon which is located in a Metro county. Consequently, one could argue that the \n",
    "# Census Bureau standard includes an overcount of the rural population whereas the OMB standard \n",
    "# represents an undercount.\" \n",
    "\n",
    "# To get the locations that are rural by HRSA definition, add these census tracts in metro/micro \n",
    "# counties to the non-metro/micro counties in the OMB definition. (HRSA is the Health Resources \n",
    "# and Services Administration. A unit of HRSA is the Federal Office of Rural Health Policy \n",
    "# (FORHP). FORHP is the unit that defines 'rural' in a way that is different from OMB and Census.\n",
    "\n",
    "# The HRSA definition, in other words, is a refinement on the OMB definition. The Census \n",
    "# definition is unrelated to either and later notebooks show that it incorporates the largest \n",
    "# number of InfoGroup firms and the largest quantity of rural employment.\n",
    "\n",
    "# from: https://www.hrsa.gov/rural-health/about-us/definition/index.html(the first paragraph is \n",
    "# also from this source):\n",
    "# \"The FORHP accepts all non-Metro counties as rural and uses an additional method of determining \n",
    "# rurality called the Rural-Urban Commuting Area (RUCA) codes.\" RUCA codes are computed from \n",
    "# Census data. See \n",
    "# https://www.ers.usda.gov/topics/rural-economy-population.aspx and \n",
    "# https://www.ers.usda.gov/data-products/rural-urban-commuting-area-codes/"
   ]
  },
  {
   "cell_type": "code",
   "execution_count": null,
   "metadata": {},
   "outputs": [],
   "source": [
    "# This is not the same universe as the ACP project. They \"focus on the counties in which more than 80% of a given \n",
    "# county falls into the HRSA rural definition.\" This is not clear. 80% of what? Probably area, but in any case, \n",
    "# their definition applies to whole counties.\n",
    "\n",
    "# To the extent that our analysis is based on individual businesses, we can locate observations within\n",
    "# areas that are wholly rural; i.e., non-metro counties and rural census tracts in metro counties as defined by\n",
    "# HRSA/FORHP. \n",
    "\n",
    "# At the bottom of this notebook we add flags to identify a record as 'rural' in each of the three \n",
    "# (OMB, Census, HRSA) criteria."
   ]
  },
  {
   "cell_type": "code",
   "execution_count": null,
   "metadata": {},
   "outputs": [],
   "source": [
    "import PyPDF2\n",
    "import pandas as pd"
   ]
  },
  {
   "cell_type": "code",
   "execution_count": null,
   "metadata": {},
   "outputs": [],
   "source": [
    "# Source: https://www.hrsa.gov/sites/default/files/hrsa/ruralhealth/resources/forhpeligibleareas.pdf\n",
    "infile = '/InfoGroup/rural/data/FORHP_eligibleareas.pdf'"
   ]
  },
  {
   "cell_type": "code",
   "execution_count": null,
   "metadata": {},
   "outputs": [],
   "source": [
    "# pdf file object\n",
    "pdfFileObj = open(infile, 'rb')\n",
    "# pdf reader object\n",
    "pdfReader = PyPDF2.PdfFileReader(pdfFileObj)"
   ]
  },
  {
   "cell_type": "code",
   "execution_count": null,
   "metadata": {},
   "outputs": [
    {
     "data": {
      "text/plain": [
       "48"
      ]
     },
     "execution_count": null,
     "metadata": {},
     "output_type": "execute_result"
    }
   ],
   "source": [
    "# number of pages in pdf\n",
    "npages = pdfReader.numPages\n",
    "npages"
   ]
  },
  {
   "cell_type": "code",
   "execution_count": null,
   "metadata": {},
   "outputs": [],
   "source": [
    "pages = []\n",
    "for pg in range(0,npages):\n",
    "    # a page object\n",
    "    pageObj = pdfReader.getPage(pg)\n",
    "    # extracting text from page.\n",
    "    pages.append(pageObj.extractText())\n",
    "    \n",
    "pdfFileObj.close()"
   ]
  },
  {
   "cell_type": "code",
   "execution_count": null,
   "metadata": {},
   "outputs": [
    {
     "data": {
      "text/plain": [
       "48"
      ]
     },
     "execution_count": null,
     "metadata": {},
     "output_type": "execute_result"
    }
   ],
   "source": [
    "len(pages)"
   ]
  },
  {
   "cell_type": "code",
   "execution_count": null,
   "metadata": {},
   "outputs": [
    {
     "data": {
      "text/plain": [
       "'20 o\\nf 48  Updated \\n12/31/2018 \\nSection II\\n ALABAMA\\n  Baldwin County\\n  01003010100 \\n 01003010200 \\n\\n 01003010500 \\n\\n 01003010600 \\n\\n 01003011000 \\n\\n 01003011401 \\n\\n 01003011403 \\n\\n 01003011406 \\n\\n 01003011407 \\n\\n 01003011408 \\n\\n 01003011501 \\n\\n 01003011502 \\n\\n 01003011601 \\n Blount County\\n  01009050101 \\n 01009050102 \\n\\n 01009050300 \\n\\n 01009050400 \\n Chilton County\\n  01021060101 \\n 01021060102 \\n\\n 01021060200 \\n\\n 01021060500 \\n\\n 01021060600 \\n\\n 01021060700 \\n Elmore County\\n  01051030400  \\n\\n Etowah County\\n  01055011001 \\n 01055011002 \\n Geneva County\\n  01061050100  \\n Henry County\\n  01067030300  \\n\\n Lawrence County\\n  01079979400 \\n 01079979800  \\n Limestone County\\n  01083020201 \\n 01083020202 \\n\\n 01083020300 \\n\\n 01083020401 \\n\\n 01083020402 \\n\\n 01083020500 \\n\\n 01083020600 \\n\\n 01083020700 \\n\\n 01083020900 \\n\\n 01083021000 \\n\\n 01083021100 \\n Mobile County\\n  01097007202  \\n\\n Morgan \\nCounty\\n  01103005600  \\n\\n Pickens\\n County\\n  01107050200  \\n\\n Shelby\\n County\\n  01117980000 \\n\\n St. Clair \\nCounty\\n  01115040201 \\n 01115040203 \\n\\n 01115040204 \\n\\n 01115040205 \\n Walker County \\n 01127020900 \\n 01127021100 \\n\\n 01127021200 \\n ALASKA\\n  Anchorage\\n  02020000101 \\n 02020002900 \\n Fairbanks North Star\\n  02090001700 \\n 02090001800  02090001900 \\n Matanuska\\n-Susitna \\n All census tracts in the \\ncounty qualify as rural. \\n ARIZONA\\n  Cochise\\n County\\n  04003000100 \\n 04003000201 \\n\\n 04003000202 \\n\\n 04003000203 \\n\\n 04003000301 \\n\\n 04003000303 \\n\\n 04003000400 \\n\\n 04003000500 \\n\\n 04003000600 \\n\\n 04003000700 \\n\\n 04003000800 \\n\\n 04003000901 \\n\\n 04003000902 \\n\\n 04003001000 \\n\\n 04003001100 \\n\\n 04003001200 \\n Coconino County\\n  04005001500 \\n 04005001600 \\n\\n 04005001700 \\n\\n 04005002000 \\n\\n 04005002100 \\n\\n 04005002300 \\n'"
      ]
     },
     "execution_count": null,
     "metadata": {},
     "output_type": "execute_result"
    }
   ],
   "source": [
    "pages[19]\n",
    "# Tract data begins at pages[19]"
   ]
  },
  {
   "cell_type": "code",
   "execution_count": null,
   "metadata": {},
   "outputs": [],
   "source": [
    "with open('/InfoGroup/rural/data/tract_data.txt','w') as fout:\n",
    "    for pg in range(19,48):\n",
    "        fout.write(pages[pg])"
   ]
  },
  {
   "cell_type": "code",
   "execution_count": null,
   "metadata": {},
   "outputs": [],
   "source": [
    "# Extract just the tract IDs into a list. First 5 digits of Tract IDs are the same as the State/County FIPS code.\n",
    "tracts = []\n",
    "with open('/InfoGroup/rural/data/tract_data.tmp','r') as fin:\n",
    "    for line in fin:\n",
    "        if line[0] != chr(32):\n",
    "            continue\n",
    "        else:\n",
    "            line = line.strip()\n",
    "            try:\n",
    "                if line[0].isnumeric(): \n",
    "                    tracts.append(line)\n",
    "            except IndexError:\n",
    "                pass"
   ]
  },
  {
   "cell_type": "code",
   "execution_count": null,
   "metadata": {},
   "outputs": [
    {
     "name": "stdout",
     "output_type": "stream",
     "text": [
      "2302\n"
     ]
    }
   ],
   "source": [
    "print(len(tracts))\n",
    "with open('/InfoGroup/rural/data/rural_census_tracts.lis','w') as fout:\n",
    "    for t in tracts:\n",
    "        fout.write(t+'\\n')"
   ]
  },
  {
   "cell_type": "code",
   "execution_count": null,
   "metadata": {},
   "outputs": [],
   "source": [
    "year = 2017\n",
    "infile = 'data/df_%d_OMB_Census.csv' % year\n",
    "df = pd.read_csv(infile,dtype=object)"
   ]
  },
  {
   "cell_type": "code",
   "execution_count": null,
   "metadata": {},
   "outputs": [],
   "source": [
    "df['Census Tract'].fillna('999999',inplace=True)\n",
    "df['FIPS Code'].fillna('99999',inplace=True)"
   ]
  },
  {
   "cell_type": "code",
   "execution_count": null,
   "metadata": {},
   "outputs": [],
   "source": [
    "# As read in from the csv file, 'Census Tract' and 'FIPS Code' are strings that look like floats (e.g., 12345.0).\n",
    "# So they cannot be changed directly to ints; they must first be made into floats.\n",
    "df = df.astype({'Census Tract':'float','FIPS Code':'float'})\n",
    "df = df.astype({'Census Tract':'int','FIPS Code':'int','rural_OMB':'int'})"
   ]
  },
  {
   "cell_type": "code",
   "execution_count": null,
   "metadata": {},
   "outputs": [],
   "source": [
    "# A census tract ID comparable to the 11-digit ones in the HRSA list is a combination of the\n",
    "# 'FIPS Code' and 'Census Tract' columns in df (InfoGroup), as long as neither is missing."
   ]
  },
  {
   "cell_type": "code",
   "execution_count": null,
   "metadata": {},
   "outputs": [
    {
     "name": "stdout",
     "output_type": "stream",
     "text": [
      "14733437\n",
      "18\n"
     ]
    }
   ],
   "source": [
    "dfx = df[df['Census Tract']==999999]\n",
    "print(len(df))\n",
    "print(len(dfx))\n",
    "# So very few missing values in the InfoGroup 'Census Tract' variable."
   ]
  },
  {
   "cell_type": "code",
   "execution_count": null,
   "metadata": {},
   "outputs": [],
   "source": [
    "import numpy as np\n",
    "def combo(row):\n",
    "    if row['FIPS Code'] == 99999 or row['Census Tract'] == 999999:\n",
    "        return np.nan\n",
    "    else:\n",
    "        try:\n",
    "            return str(row['FIPS Code']) + str(row['Census Tract'])\n",
    "        except TypeError:\n",
    "            fips = str(int(row['FIPS Code']))\n",
    "            tract = str(int(row['Census Tract']))\n",
    "            return fips + tract"
   ]
  },
  {
   "cell_type": "code",
   "execution_count": null,
   "metadata": {},
   "outputs": [
    {
     "name": "stdout",
     "output_type": "stream",
     "text": [
      "CPU times: user 17min 56s, sys: 12.2 s, total: 18min 9s\n",
      "Wall time: 18min 9s\n"
     ]
    }
   ],
   "source": [
    "%%time\n",
    "df['Full Census Tract'] = df.apply(combo,axis=1)"
   ]
  },
  {
   "cell_type": "code",
   "execution_count": null,
   "metadata": {},
   "outputs": [
    {
     "data": {
      "text/plain": [
       "18"
      ]
     },
     "execution_count": null,
     "metadata": {},
     "output_type": "execute_result"
    }
   ],
   "source": [
    "dfy = df[df['Full Census Tract'].isnull()]\n",
    "len(dfy)"
   ]
  },
  {
   "cell_type": "code",
   "execution_count": null,
   "metadata": {},
   "outputs": [
    {
     "name": "stdout",
     "output_type": "stream",
     "text": [
      "14733437\n",
      "82385\n"
     ]
    }
   ],
   "source": [
    "fct = df['Full Census Tract'].tolist()\n",
    "print(len(fct))\n",
    "fct_set = set(fct)\n",
    "print(len(fct_set))"
   ]
  },
  {
   "cell_type": "code",
   "execution_count": null,
   "metadata": {},
   "outputs": [],
   "source": [
    "rural_tracts = set(tracts)"
   ]
  },
  {
   "cell_type": "code",
   "execution_count": null,
   "metadata": {},
   "outputs": [
    {
     "data": {
      "text/plain": [
       "2302"
      ]
     },
     "execution_count": null,
     "metadata": {},
     "output_type": "execute_result"
    }
   ],
   "source": [
    "len(rural_tracts)"
   ]
  },
  {
   "cell_type": "code",
   "execution_count": null,
   "metadata": {},
   "outputs": [],
   "source": [
    "def rur3(row):\n",
    "    if row['rural_OMB'] == 1 or row['Full Census Tract'] in rural_tracts:\n",
    "        return 1\n",
    "    return 0"
   ]
  },
  {
   "cell_type": "code",
   "execution_count": null,
   "metadata": {},
   "outputs": [
    {
     "name": "stdout",
     "output_type": "stream",
     "text": [
      "CPU times: user 11min 42s, sys: 9.64 s, total: 11min 52s\n",
      "Wall time: 11min 51s\n"
     ]
    }
   ],
   "source": [
    "%%time\n",
    "df['rural_HRSA'] = df.apply(rur3,axis=1)"
   ]
  },
  {
   "cell_type": "code",
   "execution_count": null,
   "metadata": {},
   "outputs": [
    {
     "data": {
      "text/plain": [
       "0    13740765\n",
       "1      992672\n",
       "Name: rural_HRSA, dtype: int64"
      ]
     },
     "execution_count": null,
     "metadata": {},
     "output_type": "execute_result"
    }
   ],
   "source": [
    "df['rural_HRSA'].value_counts()"
   ]
  },
  {
   "cell_type": "code",
   "execution_count": null,
   "metadata": {},
   "outputs": [
    {
     "data": {
      "text/plain": [
       "0    93.262455\n",
       "1     6.737545\n",
       "Name: rural_HRSA, dtype: float64"
      ]
     },
     "execution_count": null,
     "metadata": {},
     "output_type": "execute_result"
    }
   ],
   "source": [
    "df['rural_HRSA'].value_counts(normalize=True) * 100"
   ]
  },
  {
   "cell_type": "code",
   "execution_count": null,
   "metadata": {},
   "outputs": [],
   "source": [
    "# Rural businesses by the HRSA definiton of rural are 6.74% of the total."
   ]
  },
  {
   "cell_type": "code",
   "execution_count": null,
   "metadata": {},
   "outputs": [],
   "source": [
    "outfile = 'data/df_%d_OMB_Census_HRSA.csv' % year\n",
    "df.to_csv(outfile,index=None)"
   ]
  },
  {
   "cell_type": "code",
   "execution_count": null,
   "metadata": {},
   "outputs": [],
   "source": [
    "# -----------------------"
   ]
  },
  {
   "cell_type": "code",
   "execution_count": null,
   "metadata": {},
   "outputs": [],
   "source": [
    "# InfoGroup for 2017 has data on 82,385 census tracts for all (above). The HRSA/FORHP file \n",
    "# of rural units lists 2,302 rural census tracts in addition to all those in non-Metro counties. The Census's \n",
    "# Zip Code-to-Census Tracts relationship file identifies 74,091 census tracts in all states(below)."
   ]
  },
  {
   "cell_type": "code",
   "execution_count": null,
   "metadata": {},
   "outputs": [],
   "source": [
    "# The ID of a census tract is the combination of the state FIPS, county FIPS, and tract number.\n",
    "infile = '/home/tflory/Relationship_Files/Census_Tract_to_PUMA.csv'\n",
    "ct_df = pd.read_csv(infile,usecols=['STATEFP','COUNTYFP','TRACTCE']).drop_duplicates()"
   ]
  },
  {
   "cell_type": "code",
   "execution_count": null,
   "metadata": {},
   "outputs": [
    {
     "data": {
      "text/plain": [
       "74091"
      ]
     },
     "execution_count": null,
     "metadata": {},
     "output_type": "execute_result"
    }
   ],
   "source": [
    "len(ct_df['STATEFP'] <= 56)"
   ]
  },
  {
   "cell_type": "code",
   "execution_count": null,
   "metadata": {},
   "outputs": [],
   "source": []
  }
 ],
 "metadata": {
  "kernelspec": {
   "display_name": "Python 3",
   "language": "python",
   "name": "python3"
  }
 },
 "nbformat": 4,
 "nbformat_minor": 4
}

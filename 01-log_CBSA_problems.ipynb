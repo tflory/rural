{
 "cells": [
  {
   "cell_type": "code",
   "execution_count": 1,
   "metadata": {
    "ExecuteTime": {
     "end_time": "2020-07-05T23:23:49.009710Z",
     "start_time": "2020-07-05T23:23:49.005611Z"
    }
   },
   "outputs": [],
   "source": [
    "# default_exp log_cbsa_missing"
   ]
  },
  {
   "cell_type": "markdown",
   "metadata": {
    "ExecuteTime": {
     "end_time": "2020-06-23T17:14:06.166638Z",
     "start_time": "2020-06-23T17:14:06.147251Z"
    }
   },
   "source": [
    "# Log 'CBSA Level' Missing Data\n",
    "> Finds and logs correctable anomalies in the 'CBSA Level' variable."
   ]
  },
  {
   "cell_type": "code",
   "execution_count": 2,
   "metadata": {
    "ExecuteTime": {
     "end_time": "2020-07-05T23:23:49.365504Z",
     "start_time": "2020-07-05T23:23:49.014854Z"
    }
   },
   "outputs": [],
   "source": [
    "# export\n",
    "import pandas as pd\n",
    "import warnings\n",
    "warnings.filterwarnings(\"ignore\")"
   ]
  },
  {
   "cell_type": "code",
   "execution_count": 3,
   "metadata": {
    "ExecuteTime": {
     "end_time": "2020-07-05T23:23:49.372556Z",
     "start_time": "2020-07-05T23:23:49.368032Z"
    }
   },
   "outputs": [],
   "source": [
    "# export\n",
    "def count_nans(s):\n",
    "    \"\"\"Count the number of missing values in a set of floats\"\"\"\n",
    "    c = [str(item) for item in list(s)]\n",
    "    return c.count('nan')"
   ]
  },
  {
   "cell_type": "code",
   "execution_count": 4,
   "metadata": {
    "ExecuteTime": {
     "end_time": "2020-07-05T23:23:49.385241Z",
     "start_time": "2020-07-05T23:23:49.375163Z"
    }
   },
   "outputs": [],
   "source": [
    "# export\n",
    "# Open a logging file\n",
    "logfile = open('001-CBSA.log','a')"
   ]
  },
  {
   "cell_type": "code",
   "execution_count": 5,
   "metadata": {
    "ExecuteTime": {
     "end_time": "2020-07-05T23:52:30.639458Z",
     "start_time": "2020-07-05T23:23:49.387655Z"
    }
   },
   "outputs": [],
   "source": [
    "# export\n",
    "for yr in range(1997,2018):\n",
    "    fname = f'/InfoGroup/data/rurality/InfoGroup_{yr}_extract.csv'\n",
    "    df = pd.read_csv(fname,dtype=object)\n",
    "    unknown = df[(df['CBSA Code']!='00000') & (df['CBSA Level']=='0')]\n",
    "    \n",
    "    # 'unknown' is a dataframe containing cases in with there is a valid CBSA Code but a\n",
    "    # missing CBSA Level value. If unknown is empty, not further action is needed in this\n",
    "    # module for that year.\n",
    "    print(f'\\nNumber of unknown cases in {yr}: ' + str(len(unknown)),file=logfile)\n",
    "    \n",
    "    # 'unk_cbsas' is the set of values on 'CBSA Code' among records with a non-zero CBSA Code and\n",
    "    # CBSA Level value of zero. It is expected that this will always be {nan}, requiring some \n",
    "    # lookup of proper identifiers for the small number of cases in each year. If unk_cbsas is \n",
    "    # an empty list, no corrections are necessary.\n",
    "    unk_cbsas = unknown['CBSA Code'].tolist()\n",
    "    unk_cbsas = set(unk_cbsas)\n",
    "    unknowns = len(unk_cbsas)\n",
    "    if unknowns == 0:\n",
    "        print(f'No unknowns in {yr}',file=logfile)\n",
    "    else:\n",
    "        print(f'Number of unknown values in {yr}: ' + str(len(unk_cbsas)),file=logfile)\n",
    "        nans = count_nans(unk_cbsas)\n",
    "        if nans == unknowns:\n",
    "            print('\\tAll are missing',file=logfile)\n",
    "        else:\n",
    "            print('\\tNot all are missing',file=logfile)"
   ]
  },
  {
   "cell_type": "code",
   "execution_count": 6,
   "metadata": {
    "ExecuteTime": {
     "end_time": "2020-07-05T23:52:30.645810Z",
     "start_time": "2020-07-05T23:52:30.641978Z"
    }
   },
   "outputs": [],
   "source": [
    "# export\n",
    "logfile.close()"
   ]
  },
  {
   "cell_type": "code",
   "execution_count": null,
   "metadata": {},
   "outputs": [],
   "source": []
  }
 ],
 "metadata": {
  "kernelspec": {
   "display_name": "Python 3",
   "language": "python",
   "name": "python3"
  },
  "language_info": {
   "codemirror_mode": {
    "name": "ipython",
    "version": 3
   },
   "file_extension": ".py",
   "mimetype": "text/x-python",
   "name": "python",
   "nbconvert_exporter": "python",
   "pygments_lexer": "ipython3",
   "version": "3.8.2"
  }
 },
 "nbformat": 4,
 "nbformat_minor": 4
}

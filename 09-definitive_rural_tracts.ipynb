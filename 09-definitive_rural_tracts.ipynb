{
 "cells": [
  {
   "cell_type": "code",
   "execution_count": null,
   "metadata": {},
   "outputs": [],
   "source": [
    "# Make this the definitive list of HRSA/FORHP rural census tracts rather than those in notebook 4(1)."
   ]
  },
  {
   "cell_type": "code",
   "execution_count": null,
   "metadata": {},
   "outputs": [],
   "source": [
    "import pandas as pd"
   ]
  },
  {
   "cell_type": "code",
   "execution_count": null,
   "metadata": {},
   "outputs": [],
   "source": [
    "df = pd.read_csv('data/nonmetrocountiesandcts2016.csv', dtype=object)"
   ]
  },
  {
   "cell_type": "code",
   "execution_count": null,
   "metadata": {},
   "outputs": [
    {
     "name": "stdout",
     "output_type": "stream",
     "text": [
      "<class 'pandas.core.frame.DataFrame'>\n",
      "RangeIndex: 4545 entries, 0 to 4544\n",
      "Data columns (total 6 columns):\n",
      "ST            4545 non-null object\n",
      "CountyName    4545 non-null object\n",
      "CT            2534 non-null object\n",
      "RUCA 2010     2534 non-null object\n",
      "CTY FIPS      4545 non-null object\n",
      "Memo          28 non-null object\n",
      "dtypes: object(6)\n",
      "memory usage: 213.2+ KB\n"
     ]
    }
   ],
   "source": [
    "df.info()"
   ]
  },
  {
   "cell_type": "code",
   "execution_count": null,
   "metadata": {},
   "outputs": [
    {
     "data": {
      "text/plain": [
       "2534"
      ]
     },
     "execution_count": null,
     "metadata": {},
     "output_type": "execute_result"
    }
   ],
   "source": [
    "rural_tracts_df = df[~df['CT'].isnull()]\n",
    "len(rural_tracts_df)"
   ]
  },
  {
   "cell_type": "code",
   "execution_count": null,
   "metadata": {},
   "outputs": [],
   "source": [
    "# How well do these 2534 tracts overlap with the smaller number in the separate pdf document\n",
    "# that was processed in notebook 4(1)?"
   ]
  },
  {
   "cell_type": "code",
   "execution_count": null,
   "metadata": {},
   "outputs": [
    {
     "name": "stdout",
     "output_type": "stream",
     "text": [
      "            CT\n",
      "0  01003010100\n",
      "1  01003010200\n",
      "2  01003010500\n",
      "3  01003010600\n",
      "4  01003011000\n",
      "2302\n"
     ]
    }
   ],
   "source": [
    "tracts = []\n",
    "with open('/InfoGroup/rural/data/rural_census_tracts.lis', 'r') as fin:\n",
    "    for tract in fin:\n",
    "        tracts.append(tract.rstrip())\n",
    "ser = pd.DataFrame(tracts, columns=(['CT']))\n",
    "print(ser.head())\n",
    "print(len(ser))"
   ]
  },
  {
   "cell_type": "code",
   "execution_count": null,
   "metadata": {},
   "outputs": [
    {
     "data": {
      "text/plain": [
       "both          2215\n",
       "left_only      319\n",
       "right_only      87\n",
       "Name: _merge, dtype: int64"
      ]
     },
     "execution_count": null,
     "metadata": {},
     "output_type": "execute_result"
    }
   ],
   "source": [
    "overlap = rural_tracts_df.merge(ser, on='CT', how='outer', indicator=True)\n",
    "overlap['_merge'].value_counts()"
   ]
  },
  {
   "cell_type": "code",
   "execution_count": null,
   "metadata": {},
   "outputs": [
    {
     "data": {
      "text/plain": [
       "4     994\n",
       "10    534\n",
       "7     461\n",
       "5     205\n",
       "2     116\n",
       "6      89\n",
       "8      71\n",
       "9      57\n",
       "3       7\n",
       "Name: RUCA 2010, dtype: int64"
      ]
     },
     "execution_count": null,
     "metadata": {},
     "output_type": "execute_result"
    }
   ],
   "source": [
    "# So the pdf lists 87 tracts that are not in the 2016 spreadsheet, and the\n",
    "# spreadsheet lists 319 that are not in the pdf.\n",
    "# The pdf includes only tracts with RUCA codes 4-10, except for a few anomalous cases\n",
    "# that I think are all in Alaska.\n",
    "#\n",
    "# What are the RUCA scores for the tracts in the 2016 'nonmetro tracts and counties'\n",
    "# spreadsheet? Keep in mind that these are selected tracts within metro counties. All tracts\n",
    "# in nonmetro counties are considered rural, apparently without respect to any RUCA codes.\n",
    "rural_tracts_df['RUCA 2010'].value_counts()"
   ]
  },
  {
   "cell_type": "markdown",
   "metadata": {},
   "source": [
    "# BELOW IS THE IMPORTANT STUFF."
   ]
  },
  {
   "cell_type": "code",
   "execution_count": null,
   "metadata": {},
   "outputs": [],
   "source": [
    "import pandas as pd"
   ]
  },
  {
   "cell_type": "code",
   "execution_count": null,
   "metadata": {},
   "outputs": [],
   "source": [
    "# Examine ALL census tracts in the 'ruca2010revised' spreadsheet to replicate the\n",
    "# criteria of rurality and compile a complete list of census tracts, not just those\n",
    "# in metro counties.\n",
    "#\n",
    "# The spreadsheet with this data is linked on\n",
    "# https://www.ers.usda.gov/data-products/rural-urban-commuting-area-codes/\n",
    "full_df = pd.read_csv('data/ruca2010revised.csv', dtype=object)"
   ]
  },
  {
   "cell_type": "code",
   "execution_count": null,
   "metadata": {},
   "outputs": [],
   "source": [
    "full_df = full_df.astype({'Tract': 'int',\n",
    "                          'Primary RUCA Code 2010': 'int',\n",
    "                          'Land Area (square miles) 2010': 'float',\n",
    "                          'Population Density (per square mile) 2010': 'float'})"
   ]
  },
  {
   "cell_type": "code",
   "execution_count": null,
   "metadata": {},
   "outputs": [],
   "source": [
    "# The following criteria identify tracts \"that are extremely large and where\n",
    "# use of RUCA codes alone fails to account for distance to services and sparse population. In\n",
    "# response to these concerns, ORHP has also designated as rural census tracts with RUCA codes 2\n",
    "# or 3 that are at least 400 square miles in area with a population density of no more than 35\n",
    "# people.\"\n",
    "exceptional_tracts = full_df[((full_df['Primary RUCA Code 2010'] == 2) |\n",
    "                              (full_df['Primary RUCA Code 2010'] == 3)) &\n",
    "                             (full_df['Population Density (per square mile) 2010'] <= 35.0) &\n",
    "                             (full_df['Land Area (square miles) 2010'] >= 400.0)]"
   ]
  },
  {
   "cell_type": "code",
   "execution_count": null,
   "metadata": {},
   "outputs": [
    {
     "name": "stdout",
     "output_type": "stream",
     "text": [
      "175\n",
      "21.9\n",
      "402.8\n",
      "2    162\n",
      "3     13\n",
      "Name: Primary RUCA Code 2010, dtype: int64\n"
     ]
    }
   ],
   "source": [
    "print(len(exceptional_tracts))\n",
    "print(exceptional_tracts['Population Density (per square mile) 2010'].max())\n",
    "print(exceptional_tracts['Land Area (square miles) 2010'].min())\n",
    "print(exceptional_tracts['Primary RUCA Code 2010'].value_counts())"
   ]
  },
  {
   "cell_type": "code",
   "execution_count": null,
   "metadata": {},
   "outputs": [
    {
     "name": "stdout",
     "output_type": "stream",
     "text": [
      "13764\n",
      "4     4261\n",
      "10    3461\n",
      "7     2165\n",
      "5     1972\n",
      "8      827\n",
      "6      411\n",
      "9      343\n",
      "99     324\n",
      "Name: Primary RUCA Code 2010, dtype: int64\n"
     ]
    }
   ],
   "source": [
    "# Now all other rural census tracts: \"Census tracts with\n",
    "# RUCA codes 4 through 10 are considered rural for the purposes of Rural Health grants. \"\n",
    "regular_tracts = full_df[full_df['Primary RUCA Code 2010'] >= 4]\n",
    "print(len(regular_tracts))\n",
    "print(regular_tracts['Primary RUCA Code 2010'].value_counts())"
   ]
  },
  {
   "cell_type": "code",
   "execution_count": null,
   "metadata": {},
   "outputs": [
    {
     "name": "stdout",
     "output_type": "stream",
     "text": [
      "13939\n",
      "74002\n"
     ]
    }
   ],
   "source": [
    "all_rural_tracts = pd.concat([regular_tracts, exceptional_tracts])\n",
    "print(len(all_rural_tracts))\n",
    "print(len(full_df))"
   ]
  },
  {
   "cell_type": "code",
   "execution_count": null,
   "metadata": {},
   "outputs": [
    {
     "data": {
      "text/plain": [
       "18.835977406016053"
      ]
     },
     "execution_count": null,
     "metadata": {},
     "output_type": "execute_result"
    }
   ],
   "source": [
    "# These are the 2010 census tracts that qualify as rural by the HRSA/FORHP definition: 18.8%\n",
    "# of the total.\n",
    "len(all_rural_tracts)/(len(full_df)) * 100.0"
   ]
  },
  {
   "cell_type": "code",
   "execution_count": null,
   "metadata": {},
   "outputs": [
    {
     "name": "stdout",
     "output_type": "stream",
     "text": [
      "<class 'pandas.core.frame.DataFrame'>\n",
      "Int64Index: 13939 entries, 12 to 73016\n",
      "Data columns (total 9 columns):\n",
      "State-County FIPS Code                       13939 non-null object\n",
      "State                                        13939 non-null object\n",
      "County                                       13939 non-null object\n",
      "Tract                                        13939 non-null int64\n",
      "Primary RUCA Code 2010                       13939 non-null int64\n",
      "Secondary RUCA Code 2010                     13939 non-null object\n",
      "Tract Population 2010                        13939 non-null object\n",
      "Land Area (square miles) 2010                13939 non-null float64\n",
      "Population Density (per square mile) 2010    13579 non-null float64\n",
      "dtypes: float64(2), int64(2), object(5)\n",
      "memory usage: 1.1+ MB\n"
     ]
    }
   ],
   "source": [
    "all_rural_tracts.info()"
   ]
  },
  {
   "cell_type": "code",
   "execution_count": null,
   "metadata": {},
   "outputs": [],
   "source": [
    "all_rural_tracts.to_csv('/InfoGroup/rural/points-in-polygons/data/rural_HRSA_updated_tracts.csv',index=None)"
   ]
  },
  {
   "cell_type": "code",
   "execution_count": null,
   "metadata": {},
   "outputs": [
    {
     "data": {
      "text/plain": [
       "set"
      ]
     },
     "execution_count": null,
     "metadata": {},
     "output_type": "execute_result"
    }
   ],
   "source": [
    "hrsa_tracts = set(all_rural_tracts['Tract'].tolist())\n",
    "type(hrsa_tracts)"
   ]
  },
  {
   "cell_type": "code",
   "execution_count": null,
   "metadata": {},
   "outputs": [],
   "source": [
    "# Compare this to the number and percentage of rural tracts as defined by purely spatial\n",
    "# relationships: a tract is rural if its spatial centroid is not contained within the polygon\n",
    "# of a census urban area.\n",
    "# 31.3% of census tracts are rural by the spatial definition. That's 73,056 census tracts of\n",
    "# which 22,858 are rural. The UA and tract lists are from 2017.\n",
    "# The HRSA/FORHP RUCA scores use 2010 data."
   ]
  },
  {
   "cell_type": "code",
   "execution_count": null,
   "metadata": {},
   "outputs": [],
   "source": [
    "# Now get the enterprise counts and employment numbers from InfoGroup for both of these\n",
    "# rurality concepts."
   ]
  },
  {
   "cell_type": "code",
   "execution_count": null,
   "metadata": {},
   "outputs": [],
   "source": [
    "infile = 'data/df_2017_OMB_Census_HRSA_FAR.csv'\n",
    "df = pd.read_csv(infile, dtype=object)"
   ]
  },
  {
   "cell_type": "code",
   "execution_count": null,
   "metadata": {},
   "outputs": [],
   "source": [
    "# 'Full Census Tract' is the 11-digit tract ID\n",
    "df['Full Census Tract'].fillna('999999999', inplace=True)\n",
    "df['Full Census Tract'] = df['Full Census Tract'].astype(int)"
   ]
  },
  {
   "cell_type": "code",
   "execution_count": null,
   "metadata": {},
   "outputs": [
    {
     "data": {
      "text/plain": [
       "0    13139051\n",
       "1     1594386\n",
       "Name: rural_updated_HRSA, dtype: int64"
      ]
     },
     "execution_count": null,
     "metadata": {},
     "output_type": "execute_result"
    }
   ],
   "source": [
    "df['rural_updated_HRSA'] = df['Full Census Tract'].apply(\n",
    "    lambda x: 1 if x in hrsa_tracts else 0)\n",
    "df['rural_updated_HRSA'].value_counts()"
   ]
  },
  {
   "cell_type": "code",
   "execution_count": null,
   "metadata": {},
   "outputs": [
    {
     "name": "stdout",
     "output_type": "stream",
     "text": [
      "Percentage of 2017 InfoGroup enterprises that are rural according to updated HRSA standard: 10.821548291820843\n"
     ]
    }
   ],
   "source": [
    "print('Percentage of 2017 InfoGroup enterprises that are rural according to updated HRSA standard: ', end='')\n",
    "rural = len(df[df['rural_updated_HRSA'] == 1])\n",
    "total = len(df)\n",
    "print(str(rural/total * 100.0))"
   ]
  },
  {
   "cell_type": "code",
   "execution_count": null,
   "metadata": {},
   "outputs": [
    {
     "name": "stdout",
     "output_type": "stream",
     "text": [
      "Total employment: 159762888.0\n"
     ]
    }
   ],
   "source": [
    "df['Employee Size (5) - Location'] = df['Employee Size (5) - Location'].astype(float)\n",
    "total_emp = df['Employee Size (5) - Location'].sum()\n",
    "print(\"Total employment:\", str(total_emp))"
   ]
  },
  {
   "cell_type": "code",
   "execution_count": null,
   "metadata": {},
   "outputs": [
    {
     "name": "stdout",
     "output_type": "stream",
     "text": [
      "Updated HRSA rural percentage employment: 9.456448984572688\n"
     ]
    }
   ],
   "source": [
    "total_updated_HRSA = df[df['rural_updated_HRSA']\n",
    "                        == 1]['Employee Size (5) - Location'].sum()\n",
    "pct = (total_updated_HRSA / total_emp) * 100.0\n",
    "print('Updated HRSA rural percentage employment:', str(pct))"
   ]
  },
  {
   "cell_type": "code",
   "execution_count": null,
   "metadata": {},
   "outputs": [
    {
     "data": {
      "text/plain": [
       "0    50198\n",
       "1    22858\n",
       "Name: rural_tract, dtype: int64"
      ]
     },
     "execution_count": null,
     "metadata": {},
     "output_type": "execute_result"
    }
   ],
   "source": [
    "# Now the same for the tract-spatial standard.\n",
    "df_spatial = pd.read_csv(\n",
    "    '/InfoGroup/rural/points-in-polygons/data/all_tracts.csv', dtype=object)\n",
    "df_spatial['rural_tract'].value_counts()"
   ]
  },
  {
   "cell_type": "code",
   "execution_count": null,
   "metadata": {},
   "outputs": [],
   "source": [
    "spatial_tracts = df_spatial[df_spatial['rural_tract']\n",
    "                            == '1']['GEOID'].astype(int).tolist()"
   ]
  },
  {
   "cell_type": "code",
   "execution_count": null,
   "metadata": {},
   "outputs": [
    {
     "name": "stdout",
     "output_type": "stream",
     "text": [
      "CPU times: user 1h 17min 10s, sys: 616 ms, total: 1h 17min 11s\n",
      "Wall time: 1h 17min 9s\n"
     ]
    },
    {
     "data": {
      "text/plain": [
       "0    12940369\n",
       "1     1793068\n",
       "Name: rural_spatial_tracts, dtype: int64"
      ]
     },
     "execution_count": null,
     "metadata": {},
     "output_type": "execute_result"
    }
   ],
   "source": [
    "% % time\n",
    "df['rural_spatial_tracts'] = df['Full Census Tract'].apply(\n",
    "    lambda x: 1 if x in spatial_tracts else 0)\n",
    "df['rural_spatial_tracts'].value_counts()"
   ]
  },
  {
   "cell_type": "code",
   "execution_count": null,
   "metadata": {},
   "outputs": [
    {
     "data": {
      "text/plain": [
       "12.170059165420804"
      ]
     },
     "execution_count": null,
     "metadata": {},
     "output_type": "execute_result"
    }
   ],
   "source": [
    "# Percentage of InfoGroup enterprises located in a spatially defined rural census tract.\n",
    "1793068/len(df) * 100.0"
   ]
  },
  {
   "cell_type": "code",
   "execution_count": null,
   "metadata": {},
   "outputs": [
    {
     "name": "stdout",
     "output_type": "stream",
     "text": [
      "Spatially defined rural census tracts percentage employment: 10.553179909967577\n"
     ]
    }
   ],
   "source": [
    "total_spatial_tracts = df[df['rural_spatial_tracts']\n",
    "                          == 1]['Employee Size (5) - Location'].sum()\n",
    "pct = (total_spatial_tracts / total_emp) * 100.0\n",
    "print('Spatially defined rural census tracts percentage employment:', str(pct))"
   ]
  },
  {
   "cell_type": "code",
   "execution_count": null,
   "metadata": {},
   "outputs": [],
   "source": [
    "df.to_csv('data/df_2017_OMB_Census_HRSA_FAR_tracts.csv', index=None)"
   ]
  },
  {
   "cell_type": "code",
   "execution_count": null,
   "metadata": {},
   "outputs": [],
   "source": [
    "# How much overlap is there between the HRSA-revised and the spatial lists of rural census tracts?"
   ]
  },
  {
   "cell_type": "code",
   "execution_count": null,
   "metadata": {},
   "outputs": [],
   "source": [
    "import pandas as pd\n",
    "df = pd.read_csv('data/df_2017_OMB_Census_HRSA_FAR_tracts.csv', dtype=object)"
   ]
  },
  {
   "cell_type": "code",
   "execution_count": null,
   "metadata": {},
   "outputs": [
    {
     "data": {
      "text/plain": [
       "Index(['Company', 'Address Line 1', 'City', 'State', 'ZipCode', 'County Code',\n",
       "       'Primary SIC Code', 'SIC6_Descriptions', 'Primary NAICS Code',\n",
       "       'NAICS8 Descriptions', 'Employee Size (5) - Location',\n",
       "       'Sales Volume (9) - Location', 'Business Status Code',\n",
       "       'Industry Specific First Byte', 'Year Established', 'ABI',\n",
       "       'Subsidiary Number', 'Parent Number', 'Parent Actual Employee Size',\n",
       "       'Parent Actual Sales Volume', 'Census Tract', 'Census Block',\n",
       "       'Latitude', 'Longitude', 'CBSA Code', 'CBSA Level', 'FIPS Code',\n",
       "       'State FIPS', 'Continental', 'NAICS2', 'NAICS2 desc', 'CBSA Level desc',\n",
       "       'rural_OMB', 'rural_Census_general', 'NAICS6', 'NAICS6 desc', 'UA',\n",
       "       'rural_Census', 'Full Census Tract', 'rural_HRSA', 'far1', 'far2',\n",
       "       'far3', 'far4', 'FAR Level', 'rural_updated_HRSA',\n",
       "       'rural_spatial_tracts'],\n",
       "      dtype='object')"
      ]
     },
     "execution_count": null,
     "metadata": {},
     "output_type": "execute_result"
    }
   ],
   "source": [
    "df.columns"
   ]
  },
  {
   "cell_type": "code",
   "execution_count": null,
   "metadata": {},
   "outputs": [],
   "source": [
    "revised_set = set(df[df['rural_updated_HRSA'] == '1']['ABI'].tolist())\n",
    "spatial_set = set(df[df['rural_spatial_tracts'] == '1']['ABI'].tolist())"
   ]
  },
  {
   "cell_type": "code",
   "execution_count": null,
   "metadata": {},
   "outputs": [
    {
     "name": "stdout",
     "output_type": "stream",
     "text": [
      "1594386\n",
      "1793068\n"
     ]
    }
   ],
   "source": [
    "print(len(revised_set))\n",
    "print(len(spatial_set))"
   ]
  },
  {
   "cell_type": "code",
   "execution_count": null,
   "metadata": {},
   "outputs": [
    {
     "name": "stdout",
     "output_type": "stream",
     "text": [
      "436434 ABIs in revised_HRSA rural enterprises that are not among spatial rural enterprises.\n",
      "CPU times: user 661 ms, sys: 23.4 ms, total: 684 ms\n",
      "Wall time: 679 ms\n"
     ]
    }
   ],
   "source": [
    "% % time\n",
    "l = 0\n",
    "r_not_in_s = []\n",
    "for r in revised_set:\n",
    "    if r not in spatial_set:\n",
    "        l += 1\n",
    "        r_not_in_s.append(r)\n",
    "print(str(l), 'ABIs in revised_HRSA rural enterprises that are not among spatial rural enterprises.')"
   ]
  },
  {
   "cell_type": "code",
   "execution_count": null,
   "metadata": {},
   "outputs": [
    {
     "name": "stdout",
     "output_type": "stream",
     "text": [
      "635116 ABIs in spatial rural enterprises that are not among revised_HRSA rural enterprises.\n",
      "CPU times: user 744 ms, sys: 23.9 ms, total: 768 ms\n",
      "Wall time: 763 ms\n"
     ]
    }
   ],
   "source": [
    "% % time\n",
    "n = 0\n",
    "s_not_in_r = []\n",
    "for s in spatial_set:\n",
    "    if s not in revised_set:\n",
    "        n += 1\n",
    "        s_not_in_r.append(r)\n",
    "print(str(n), 'ABIs in spatial rural enterprises that are not among revised_HRSA rural enterprises.')"
   ]
  },
  {
   "cell_type": "code",
   "execution_count": null,
   "metadata": {},
   "outputs": [],
   "source": [
    "total_set = set(list(revised_set) + list(spatial_set))"
   ]
  },
  {
   "cell_type": "code",
   "execution_count": null,
   "metadata": {},
   "outputs": [
    {
     "data": {
      "text/plain": [
       "2229502"
      ]
     },
     "execution_count": null,
     "metadata": {},
     "output_type": "execute_result"
    }
   ],
   "source": [
    "len(total_set)"
   ]
  },
  {
   "cell_type": "code",
   "execution_count": null,
   "metadata": {},
   "outputs": [
    {
     "data": {
      "text/plain": [
       "14733437"
      ]
     },
     "execution_count": null,
     "metadata": {},
     "output_type": "execute_result"
    }
   ],
   "source": [
    "len(df)"
   ]
  },
  {
   "cell_type": "code",
   "execution_count": null,
   "metadata": {},
   "outputs": [
    {
     "name": "stdout",
     "output_type": "stream",
     "text": [
      "Total rural census tracts percentage employment: 13.362190848728272\n"
     ]
    }
   ],
   "source": [
    "df['Employee Size (5) - Location'] = df['Employee Size (5) - Location'].astype(float)\n",
    "total_tracts = df[(df['rural_spatial_tracts'] == '1') | (\n",
    "    df['rural_updated_HRSA'] == '1')]['Employee Size (5) - Location'].sum()\n",
    "pct = (total_tracts / 159762888.0) * 100.0\n",
    "print('Total rural census tracts percentage employment:', str(pct))"
   ]
  },
  {
   "cell_type": "code",
   "execution_count": null,
   "metadata": {},
   "outputs": [],
   "source": []
  }
 ],
 "metadata": {
  "kernelspec": {
   "display_name": "Python 3",
   "language": "python",
   "name": "python3"
  }
 },
 "nbformat": 4,
 "nbformat_minor": 2
}

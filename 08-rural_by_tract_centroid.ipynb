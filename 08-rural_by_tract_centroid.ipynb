{
 "cells": [
  {
   "cell_type": "code",
   "execution_count": null,
   "metadata": {},
   "outputs": [],
   "source": [
    "# Explore rural census tracts in metro counties (CBSAs) and urban areas (UAs)."
   ]
  },
  {
   "cell_type": "code",
   "execution_count": null,
   "metadata": {},
   "outputs": [],
   "source": [
    "import pandas as pd\n",
    "import geopandas as gpd\n",
    "from shapely.geometry import Point, Polygon"
   ]
  },
  {
   "cell_type": "code",
   "execution_count": null,
   "metadata": {},
   "outputs": [],
   "source": [
    "pd.options.display.max_rows = 999"
   ]
  },
  {
   "cell_type": "code",
   "execution_count": null,
   "metadata": {},
   "outputs": [],
   "source": [
    "# All tracts\n",
    "gdf = gpd.read_file('/InfoGroup/rural/map_files/tracts/tl_2017_USA_tract.shp',dtype=object)"
   ]
  },
  {
   "cell_type": "code",
   "execution_count": null,
   "metadata": {},
   "outputs": [
    {
     "data": {
      "text/plain": [
       "Index(['STATEFP', 'COUNTYFP', 'TRACTCE', 'GEOID', 'NAME', 'NAMELSAD', 'MTFCC',\n",
       "       'FUNCSTAT', 'ALAND', 'AWATER', 'INTPTLAT', 'INTPTLON', 'geometry'],\n",
       "      dtype='object')"
      ]
     },
     "execution_count": null,
     "metadata": {},
     "output_type": "execute_result"
    }
   ],
   "source": [
    "gdf.columns"
   ]
  },
  {
   "cell_type": "code",
   "execution_count": null,
   "metadata": {},
   "outputs": [],
   "source": [
    "# Compute the centroid of the polygon\n",
    "gdf['centroid'] = gdf['geometry'].apply(lambda x: Point(x.centroid)) # shapely methods"
   ]
  },
  {
   "cell_type": "code",
   "execution_count": null,
   "metadata": {},
   "outputs": [
    {
     "data": {
      "text/html": [
       "<div>\n",
       "<style scoped>\n",
       "    .dataframe tbody tr th:only-of-type {\n",
       "        vertical-align: middle;\n",
       "    }\n",
       "\n",
       "    .dataframe tbody tr th {\n",
       "        vertical-align: top;\n",
       "    }\n",
       "\n",
       "    .dataframe thead th {\n",
       "        text-align: right;\n",
       "    }\n",
       "</style>\n",
       "<table border=\"1\" class=\"dataframe\">\n",
       "  <thead>\n",
       "    <tr style=\"text-align: right;\">\n",
       "      <th></th>\n",
       "      <th>STATEFP</th>\n",
       "      <th>COUNTYFP</th>\n",
       "      <th>TRACTCE</th>\n",
       "      <th>GEOID</th>\n",
       "      <th>NAME</th>\n",
       "      <th>NAMELSAD</th>\n",
       "      <th>MTFCC</th>\n",
       "      <th>FUNCSTAT</th>\n",
       "      <th>ALAND</th>\n",
       "      <th>AWATER</th>\n",
       "      <th>INTPTLAT</th>\n",
       "      <th>INTPTLON</th>\n",
       "      <th>geometry</th>\n",
       "      <th>centroid</th>\n",
       "    </tr>\n",
       "  </thead>\n",
       "  <tbody>\n",
       "    <tr>\n",
       "      <td>0</td>\n",
       "      <td>46</td>\n",
       "      <td>075</td>\n",
       "      <td>091600</td>\n",
       "      <td>46075091600</td>\n",
       "      <td>916</td>\n",
       "      <td>Census Tract 916</td>\n",
       "      <td>G5020</td>\n",
       "      <td>S</td>\n",
       "      <td>2511453379</td>\n",
       "      <td>3147180</td>\n",
       "      <td>+43.9519896</td>\n",
       "      <td>-100.6861386</td>\n",
       "      <td>POLYGON ((-101.064626 43.96611799999999, -101....</td>\n",
       "      <td>POINT (-100.6897219989547 43.96060830334499)</td>\n",
       "    </tr>\n",
       "    <tr>\n",
       "      <td>1</td>\n",
       "      <td>46</td>\n",
       "      <td>129</td>\n",
       "      <td>965200</td>\n",
       "      <td>46129965200</td>\n",
       "      <td>9652</td>\n",
       "      <td>Census Tract 9652</td>\n",
       "      <td>G5020</td>\n",
       "      <td>S</td>\n",
       "      <td>50637139</td>\n",
       "      <td>17634531</td>\n",
       "      <td>+45.5481591</td>\n",
       "      <td>-100.4222642</td>\n",
       "      <td>POLYGON ((-100.486583 45.537934, -100.486571 4...</td>\n",
       "      <td>POINT (-100.4204913301959 45.55065746393002)</td>\n",
       "    </tr>\n",
       "    <tr>\n",
       "      <td>2</td>\n",
       "      <td>46</td>\n",
       "      <td>129</td>\n",
       "      <td>965100</td>\n",
       "      <td>46129965100</td>\n",
       "      <td>9651</td>\n",
       "      <td>Census Tract 9651</td>\n",
       "      <td>G5020</td>\n",
       "      <td>S</td>\n",
       "      <td>1784710819</td>\n",
       "      <td>75580712</td>\n",
       "      <td>+45.4278339</td>\n",
       "      <td>-100.0075629</td>\n",
       "      <td>POLYGON ((-100.387018 45.53725, -100.386639 45...</td>\n",
       "      <td>POINT (-100.0172511111368 45.42551049826866)</td>\n",
       "    </tr>\n",
       "    <tr>\n",
       "      <td>3</td>\n",
       "      <td>46</td>\n",
       "      <td>091</td>\n",
       "      <td>950800</td>\n",
       "      <td>46091950800</td>\n",
       "      <td>9508</td>\n",
       "      <td>Census Tract 9508</td>\n",
       "      <td>G5020</td>\n",
       "      <td>S</td>\n",
       "      <td>2170630077</td>\n",
       "      <td>124680563</td>\n",
       "      <td>+45.7370443</td>\n",
       "      <td>-097.5808695</td>\n",
       "      <td>POLYGON ((-97.979636 45.603137, -97.979635 45....</td>\n",
       "      <td>POINT (-97.5985004429327 45.75867076685663)</td>\n",
       "    </tr>\n",
       "    <tr>\n",
       "      <td>4</td>\n",
       "      <td>46</td>\n",
       "      <td>109</td>\n",
       "      <td>940700</td>\n",
       "      <td>46109940700</td>\n",
       "      <td>9407</td>\n",
       "      <td>Census Tract 9407</td>\n",
       "      <td>G5020</td>\n",
       "      <td>S</td>\n",
       "      <td>1293755958</td>\n",
       "      <td>38170551</td>\n",
       "      <td>+45.8123364</td>\n",
       "      <td>-096.9277941</td>\n",
       "      <td>POLYGON ((-97.228313 45.934417, -97.2283109999...</td>\n",
       "      <td>POINT (-96.92711283028811 45.81412865434089)</td>\n",
       "    </tr>\n",
       "  </tbody>\n",
       "</table>\n",
       "</div>"
      ],
      "text/plain": [
       "  STATEFP COUNTYFP TRACTCE        GEOID  NAME           NAMELSAD  MTFCC  \\\n",
       "0      46      075  091600  46075091600   916   Census Tract 916  G5020   \n",
       "1      46      129  965200  46129965200  9652  Census Tract 9652  G5020   \n",
       "2      46      129  965100  46129965100  9651  Census Tract 9651  G5020   \n",
       "3      46      091  950800  46091950800  9508  Census Tract 9508  G5020   \n",
       "4      46      109  940700  46109940700  9407  Census Tract 9407  G5020   \n",
       "\n",
       "  FUNCSTAT       ALAND     AWATER     INTPTLAT      INTPTLON  \\\n",
       "0        S  2511453379    3147180  +43.9519896  -100.6861386   \n",
       "1        S    50637139   17634531  +45.5481591  -100.4222642   \n",
       "2        S  1784710819   75580712  +45.4278339  -100.0075629   \n",
       "3        S  2170630077  124680563  +45.7370443  -097.5808695   \n",
       "4        S  1293755958   38170551  +45.8123364  -096.9277941   \n",
       "\n",
       "                                            geometry  \\\n",
       "0  POLYGON ((-101.064626 43.96611799999999, -101....   \n",
       "1  POLYGON ((-100.486583 45.537934, -100.486571 4...   \n",
       "2  POLYGON ((-100.387018 45.53725, -100.386639 45...   \n",
       "3  POLYGON ((-97.979636 45.603137, -97.979635 45....   \n",
       "4  POLYGON ((-97.228313 45.934417, -97.2283109999...   \n",
       "\n",
       "                                       centroid  \n",
       "0  POINT (-100.6897219989547 43.96060830334499)  \n",
       "1  POINT (-100.4204913301959 45.55065746393002)  \n",
       "2  POINT (-100.0172511111368 45.42551049826866)  \n",
       "3   POINT (-97.5985004429327 45.75867076685663)  \n",
       "4  POINT (-96.92711283028811 45.81412865434089)  "
      ]
     },
     "execution_count": null,
     "metadata": {},
     "output_type": "execute_result"
    }
   ],
   "source": [
    "gdf.head()"
   ]
  },
  {
   "cell_type": "code",
   "execution_count": null,
   "metadata": {},
   "outputs": [
    {
     "data": {
      "text/plain": [
       "Index(['UACE10', 'GEOID10', 'NAME10', 'NAMELSAD10', 'LSAD10', 'MTFCC10',\n",
       "       'UATYP10', 'FUNCSTAT10', 'ALAND10', 'AWATER10', 'INTPTLAT10',\n",
       "       'INTPTLON10', 'geometry'],\n",
       "      dtype='object')"
      ]
     },
     "execution_count": null,
     "metadata": {},
     "output_type": "execute_result"
    }
   ],
   "source": [
    "# File that contains polygon geometry of UAs for 2017\n",
    "#ua_gdf = gpd.read_file('map_files/tl_2017_us_uac10.shp')\n",
    "# File that contains polygon geometry of UAs for 2010\n",
    "ua_gdf = gpd.read_file('map_files/tl_2010_us_uac10.shp')\n",
    "ua_gdf.columns"
   ]
  },
  {
   "cell_type": "code",
   "execution_count": null,
   "metadata": {},
   "outputs": [
    {
     "data": {
      "text/plain": [
       "C    3095\n",
       "U     497\n",
       "Name: UATYP10, dtype: int64"
      ]
     },
     "execution_count": null,
     "metadata": {},
     "output_type": "execute_result"
    }
   ],
   "source": [
    "ua_gdf['UATYP10'].value_counts()"
   ]
  },
  {
   "cell_type": "code",
   "execution_count": null,
   "metadata": {},
   "outputs": [
    {
     "name": "stdout",
     "output_type": "stream",
     "text": [
      "73056\n",
      "3592\n"
     ]
    }
   ],
   "source": [
    "print(len(gdf))\n",
    "print(len(ua_gdf))"
   ]
  },
  {
   "cell_type": "markdown",
   "metadata": {},
   "source": [
    "## See the comments below."
   ]
  },
  {
   "cell_type": "code",
   "execution_count": null,
   "metadata": {},
   "outputs": [],
   "source": [
    "xgdf = gdf.sample(frac=0.1).copy()\n",
    "xua_gdf = ua_gdf.sample(frac=0.1).copy()"
   ]
  },
  {
   "cell_type": "code",
   "execution_count": null,
   "metadata": {},
   "outputs": [
    {
     "name": "stdout",
     "output_type": "stream",
     "text": [
      "7306\n",
      "359\n"
     ]
    }
   ],
   "source": [
    "print(len(xgdf))\n",
    "print(len(xua_gdf))"
   ]
  },
  {
   "cell_type": "code",
   "execution_count": null,
   "metadata": {},
   "outputs": [],
   "source": [
    "# Assign a UA code \n",
    "relationship = []\n",
    "for j,k in xgdf.iterrows():\n",
    "    for i,l in xua_gdf.iterrows():\n",
    "        if k['centroid'].within(l['geometry']):\n",
    "            relationship.append([k['GEOID'],l['GEOID10'],l['UATYP10']])"
   ]
  },
  {
   "cell_type": "code",
   "execution_count": null,
   "metadata": {},
   "outputs": [],
   "source": [
    "rel_df = pd.DataFrame(relationship,columns=['tract GEOID','UA GEOID10','UATYP10'])"
   ]
  },
  {
   "cell_type": "code",
   "execution_count": null,
   "metadata": {},
   "outputs": [],
   "source": [
    "rel_df.head()"
   ]
  },
  {
   "cell_type": "code",
   "execution_count": null,
   "metadata": {},
   "outputs": [],
   "source": [
    "#rel_df.to_csv('/InfoGroup/rural/points-in-polygons/data/rel_df.csv',index=None)"
   ]
  },
  {
   "cell_type": "code",
   "execution_count": null,
   "metadata": {},
   "outputs": [],
   "source": [
    "# The above creation of the relationship list of lists and rel_df.csv file worked on a sample from\n",
    "# the input files.\n",
    "# The same logic applied to the full UA and tract files was executed in the tracts.py program in\n",
    "# /InfoGroup/rural/points-in-polygons/. It took 14.67 clock hours to complete. The cells below \n",
    "# read the rel_df.csv\n",
    "# file created by that program execution. There are 50,198 pairs of tract and UA codes. These \n",
    "# are cases in which the\n",
    "# centroid of a tract was found to be contained within the boundaries of a census urban area. \n",
    "# Matching back to the\n",
    "# full list of census tracts, we can identify those as rural whose centroids do not fall within \n",
    "# any UA."
   ]
  },
  {
   "cell_type": "code",
   "execution_count": null,
   "metadata": {},
   "outputs": [],
   "source": [
    "rel_df = pd.read_csv('/InfoGroup/rural/points-in-polygons/data/rel_df.csv',dtype=object)"
   ]
  },
  {
   "cell_type": "code",
   "execution_count": null,
   "metadata": {},
   "outputs": [
    {
     "data": {
      "text/plain": [
       "50198"
      ]
     },
     "execution_count": null,
     "metadata": {},
     "output_type": "execute_result"
    }
   ],
   "source": [
    "len(rel_df)"
   ]
  },
  {
   "cell_type": "code",
   "execution_count": null,
   "metadata": {},
   "outputs": [],
   "source": [
    "## All tracts\n",
    "gdf = gpd.read_file('/InfoGroup/rural/map_files/tracts/tl_2017_USA_tract.shp',dtype=object)"
   ]
  },
  {
   "cell_type": "code",
   "execution_count": null,
   "metadata": {},
   "outputs": [],
   "source": [
    "# Merge the two dataframes. The resulting dataframe will have the rural tracts flagged by a missing value\n",
    "# for 'UA Code'.\n",
    "merged = gdf.merge(rel_df,how='left',left_on='GEOID',right_on='tract_GEOID',indicator=True)"
   ]
  },
  {
   "cell_type": "code",
   "execution_count": null,
   "metadata": {},
   "outputs": [
    {
     "data": {
      "text/plain": [
       "both          50198\n",
       "left_only     22858\n",
       "right_only        0\n",
       "Name: _merge, dtype: int64"
      ]
     },
     "execution_count": null,
     "metadata": {},
     "output_type": "execute_result"
    }
   ],
   "source": [
    "merged['_merge'].value_counts()"
   ]
  },
  {
   "cell_type": "code",
   "execution_count": null,
   "metadata": {},
   "outputs": [
    {
     "name": "stdout",
     "output_type": "stream",
     "text": [
      "22858\n",
      "  STATEFP COUNTYFP TRACTCE        GEOID  NAME           NAMELSAD  MTFCC  \\\n",
      "0      46      075  091600  46075091600   916   Census Tract 916  G5020   \n",
      "1      46      129  965200  46129965200  9652  Census Tract 9652  G5020   \n",
      "2      46      129  965100  46129965100  9651  Census Tract 9651  G5020   \n",
      "3      46      091  950800  46091950800  9508  Census Tract 9508  G5020   \n",
      "4      46      109  940700  46109940700  9407  Census Tract 9407  G5020   \n",
      "\n",
      "  FUNCSTAT       ALAND     AWATER     INTPTLAT      INTPTLON  \\\n",
      "0        S  2511453379    3147180  +43.9519896  -100.6861386   \n",
      "1        S    50637139   17634531  +45.5481591  -100.4222642   \n",
      "2        S  1784710819   75580712  +45.4278339  -100.0075629   \n",
      "3        S  2170630077  124680563  +45.7370443  -097.5808695   \n",
      "4        S  1293755958   38170551  +45.8123364  -096.9277941   \n",
      "\n",
      "                                            geometry tract_GEOID UA_GEOID10  \\\n",
      "0  POLYGON ((-101.064626 43.96611799999999, -101....         NaN        NaN   \n",
      "1  POLYGON ((-100.486583 45.537934, -100.486571 4...         NaN        NaN   \n",
      "2  POLYGON ((-100.387018 45.53725, -100.386639 45...         NaN        NaN   \n",
      "3  POLYGON ((-97.979636 45.603137, -97.979635 45....         NaN        NaN   \n",
      "4  POLYGON ((-97.228313 45.934417, -97.2283109999...         NaN        NaN   \n",
      "\n",
      "      _merge  \n",
      "0  left_only  \n",
      "1  left_only  \n",
      "2  left_only  \n",
      "3  left_only  \n",
      "4  left_only  \n"
     ]
    }
   ],
   "source": [
    "rur = merged[merged['_merge']=='left_only']\n",
    "print(len(rur))\n",
    "print(rur.head())"
   ]
  },
  {
   "cell_type": "code",
   "execution_count": null,
   "metadata": {},
   "outputs": [],
   "source": [
    "merged['rural_spatial_tract'] = merged['UA_GEOID10'].astype(str).apply(lambda x: 1 if x=='nan' else 0)"
   ]
  },
  {
   "cell_type": "code",
   "execution_count": null,
   "metadata": {},
   "outputs": [
    {
     "data": {
      "text/plain": [
       "0    50198\n",
       "1    22858\n",
       "Name: rural_spatial_tract, dtype: int64"
      ]
     },
     "execution_count": null,
     "metadata": {},
     "output_type": "execute_result"
    }
   ],
   "source": [
    "merged['rural_spatial_tract'].value_counts()"
   ]
  },
  {
   "cell_type": "code",
   "execution_count": null,
   "metadata": {},
   "outputs": [
    {
     "data": {
      "text/plain": [
       "Index(['STATEFP', 'COUNTYFP', 'TRACTCE', 'GEOID', 'NAME', 'NAMELSAD', 'MTFCC',\n",
       "       'FUNCSTAT', 'ALAND', 'AWATER', 'INTPTLAT', 'INTPTLON', 'geometry',\n",
       "       'tract_GEOID', 'UA_GEOID10', '_merge', 'rural_spatial_tract'],\n",
       "      dtype='object')"
      ]
     },
     "execution_count": null,
     "metadata": {},
     "output_type": "execute_result"
    }
   ],
   "source": [
    "merged.columns"
   ]
  },
  {
   "cell_type": "code",
   "execution_count": null,
   "metadata": {},
   "outputs": [],
   "source": [
    "merged.drop(columns=['tract_GEOID','_merge'],inplace=True)"
   ]
  },
  {
   "cell_type": "code",
   "execution_count": null,
   "metadata": {},
   "outputs": [
    {
     "data": {
      "text/plain": [
       "73056"
      ]
     },
     "execution_count": null,
     "metadata": {},
     "output_type": "execute_result"
    }
   ],
   "source": [
    "len (merged)"
   ]
  },
  {
   "cell_type": "code",
   "execution_count": null,
   "metadata": {},
   "outputs": [],
   "source": [
    "rural_only = merged[merged['rural_spatial_tract']==1]\n",
    "rural_only.to_csv('/InfoGroup/rural/points-in-polygons/data/rural_spatial_tracts.csv',index=None)"
   ]
  },
  {
   "cell_type": "code",
   "execution_count": null,
   "metadata": {},
   "outputs": [],
   "source": [
    "merged.to_csv('/InfoGroup/rural/points-in-polygons/data/all_tracts.csv',index=None)"
   ]
  },
  {
   "cell_type": "code",
   "execution_count": null,
   "metadata": {},
   "outputs": [
    {
     "data": {
      "text/plain": [
       "0.312883267630311"
      ]
     },
     "execution_count": null,
     "metadata": {},
     "output_type": "execute_result"
    }
   ],
   "source": [
    "len(rural_only)/len(merged)"
   ]
  },
  {
   "cell_type": "code",
   "execution_count": null,
   "metadata": {},
   "outputs": [],
   "source": [
    "# 31.3% of census tracts are rural by this definition; i.e., that the tract's spatial centroid does not fall\n",
    "# anywhere within the boundaries of a census urban area.\n",
    "#\n",
    "# Do the FORHP rural census tracts (defined entirely differently) overlap considerably with this complete\n",
    "# list of rural census tracts?"
   ]
  },
  {
   "cell_type": "code",
   "execution_count": null,
   "metadata": {},
   "outputs": [
    {
     "data": {
      "text/plain": [
       "2302"
      ]
     },
     "execution_count": null,
     "metadata": {},
     "output_type": "execute_result"
    }
   ],
   "source": [
    "rural_tracts = [line.rstrip(\"\\n\") for line in open(\"data/rural_census_tracts.lis\")]\n",
    "len(rural_tracts)"
   ]
  },
  {
   "cell_type": "code",
   "execution_count": null,
   "metadata": {},
   "outputs": [],
   "source": [
    "forhp_tracts = pd.DataFrame(rural_tracts,columns=['GEOID'])"
   ]
  },
  {
   "cell_type": "code",
   "execution_count": null,
   "metadata": {},
   "outputs": [
    {
     "data": {
      "text/plain": [
       "left_only     70849\n",
       "both           2207\n",
       "right_only       95\n",
       "Name: _merge, dtype: int64"
      ]
     },
     "execution_count": null,
     "metadata": {},
     "output_type": "execute_result"
    }
   ],
   "source": [
    "overlap_merge = merged.merge(forhp_tracts,on='GEOID',how='outer',indicator=True)\n",
    "overlap_merge['_merge'].value_counts()"
   ]
  },
  {
   "cell_type": "code",
   "execution_count": null,
   "metadata": {},
   "outputs": [
    {
     "data": {
      "text/plain": [
       "0.04126846220677671"
      ]
     },
     "execution_count": null,
     "metadata": {},
     "output_type": "execute_result"
    }
   ],
   "source": [
    "# So 95 of the FORHP 2,302 rural census tracts do not qualify as rural by the centroid-in-UA criterion.\n",
    "95/2302\n",
    "# That's 4.1%."
   ]
  },
  {
   "cell_type": "code",
   "execution_count": null,
   "metadata": {},
   "outputs": [],
   "source": [
    "# The UA and tract files used in this procedure are from 2017. The FORHP calculations apply to\n",
    "# 2010, with revisions to the second-tier codes in 2019."
   ]
  },
  {
   "cell_type": "code",
   "execution_count": null,
   "metadata": {},
   "outputs": [],
   "source": []
  }
 ],
 "metadata": {
  "kernelspec": {
   "display_name": "Python 3",
   "language": "python",
   "name": "python3"
  }
 },
 "nbformat": 4,
 "nbformat_minor": 4
}

{
 "cells": [
  {
   "cell_type": "code",
   "execution_count": null,
   "metadata": {},
   "outputs": [],
   "source": [
    "# default_exp core"
   ]
  },
  {
   "cell_type": "code",
   "execution_count": null,
   "metadata": {},
   "outputs": [],
   "source": [
    "# CBSA Data Correction\n",
    "\n",
    "> Corrects CBSA-related variable values."
   ]
  },
  {
   "cell_type": "code",
   "execution_count": null,
   "metadata": {},
   "outputs": [],
   "source": [
    "import pandas as pd\n",
    "import warnings\n",
    "warnings.filterwarnings(\"ignore\")"
   ]
  },
  {
   "cell_type": "code",
   "execution_count": null,
   "metadata": {},
   "outputs": [],
   "source": [
    "year = 2017\n",
    "infile = '/InfoGroup/data/original/%d_Business_Academic_QCQ_utf-8.csv' % year"
   ]
  },
  {
   "cell_type": "code",
   "execution_count": null,
   "metadata": {},
   "outputs": [],
   "source": [
    "# 2017 record layout\n",
    "#['Company', 'Address Line 1', 'City', 'State', 'ZipCode', 'Zip4',\n",
    "#       'County Code', 'Area Code', 'IDCode', 'Location Employee Size Code',\n",
    "#       'Location Sales Volume Code', 'Primary SIC Code', 'SIC6_Descriptions',\n",
    "#       'Primary NAICS Code', 'NAICS8 Descriptions', 'SIC Code',\n",
    "#       'SIC6_Descriptions (SIC)', 'SIC Code 1', 'SIC6_Descriptions (SIC1)',\n",
    "#       'SIC Code 2', 'SIC6_Descriptions(SIC2)', 'SIC Code 3',\n",
    "#       'SIC6_Descriptions(SIC3)', 'SIC Code 4', 'SIC6_Descriptions(SIC4)',\n",
    "#       'Archive Version Year', 'Yellow Page Code',\n",
    "#       'Employee Size (5) - Location', 'Sales Volume (9) - Location',\n",
    "#       'Business Status Code', 'Industry Specific First Byte',\n",
    "#       'Year Established', 'Office Size Code', 'Company Holding Status', 'ABI',\n",
    "#       'Subsidiary Number', 'Parent Number', 'Parent Actual Employee Size',\n",
    "#       'Parent Actual Sales Volume', 'Parent Employee Size Code',\n",
    "#       'Parent Sales Volume Code', 'Site Number', 'Address Type Indicator',\n",
    "#       'Population Code', 'Census Tract', 'Census Block', 'Latitude',\n",
    "#       'Longitude', 'Match Code', 'CBSA Code', 'CBSA Level', 'CSA Code',\n",
    "#       'FIPS Code', 'Gender']"
   ]
  },
  {
   "cell_type": "code",
   "execution_count": null,
   "metadata": {},
   "outputs": [],
   "source": [
    "# Selected columns\n",
    "cols = ['Company','Address Line 1','City','State','ZipCode','Employee Size (5) - Location',\n",
    "        'County Code','Sales Volume (9) - Location','Primary NAICS Code','NAICS8 Descriptions',\n",
    "        'Primary SIC Code','SIC6_Descriptions','Business Status Code', \n",
    "        'Industry Specific First Byte','Year Established','Subsidiary Number', 'Parent Number', \n",
    "        'Parent Actual Employee Size','Parent Actual Sales Volume','ABI','Census Tract',\n",
    "        'Census Block','Latitude','Longitude','CBSA Code','CBSA Level','FIPS Code']"
   ]
  },
  {
   "cell_type": "code",
   "execution_count": null,
   "metadata": {},
   "outputs": [],
   "source": [
    "df = pd.read_csv(infile,dtype=object,usecols=cols)  # ,nrows=1000000 for sample"
   ]
  },
  {
   "cell_type": "code",
   "execution_count": null,
   "metadata": {},
   "outputs": [],
   "source": [
    "# Assign the FIPS state code to each record. Prior examination shows some data entry \n",
    "# errors in the FIPS Code variable so we do this by brute force.\n",
    "state_fips = {\n",
    "'AL':'01',\n",
    "'AK':'02',\n",
    "'AS':'60',\n",
    "'AZ':'04',\n",
    "'AR':'05',\n",
    "'CA':'06',\n",
    "'CO':'08',\n",
    "'CT':'09',\n",
    "'DE':'10',\n",
    "'DC':'11',\n",
    "'FL':'12',\n",
    "'FM':'64',\n",
    "'GA':'13',\n",
    "'GU':'66',\n",
    "'HI':'15',\n",
    "'ID':'16',\n",
    "'IL':'17',\n",
    "'IN':'18',\n",
    "'IA':'19',\n",
    "'KS':'20',\n",
    "'KY':'21',\n",
    "'LA':'22',\n",
    "'ME':'23',\n",
    "'MH':'68',\n",
    "'MD':'24',\n",
    "'MA':'25',\n",
    "'MI':'26',\n",
    "'MN':'27',\n",
    "'MS':'28',\n",
    "'MO':'29',\n",
    "'MT':'30',\n",
    "'NE':'31',\n",
    "'NV':'32',\n",
    "'NH':'33',\n",
    "'NJ':'34',\n",
    "'NM':'35',\n",
    "'NY':'36',\n",
    "'NC':'37',\n",
    "'ND':'38',\n",
    "'MP':'69',\n",
    "'OH':'39',\n",
    "'OK':'40',\n",
    "'OR':'41',\n",
    "'PW':'70',\n",
    "'PA':'42',\n",
    "'PR':'72',\n",
    "'RI':'44',\n",
    "'SC':'45',\n",
    "'SD':'46',\n",
    "'TN':'47',\n",
    "'TX':'48',\n",
    "'UM':'74',\n",
    "'UT':'49',\n",
    "'VT':'50',\n",
    "'VA':'51',\n",
    "'VI':'78',\n",
    "'WA':'53',\n",
    "'WV':'54',\n",
    "'WI':'55',\n",
    "'WY':'56'\n",
    "}"
   ]
  },
  {
   "cell_type": "code",
   "execution_count": null,
   "metadata": {},
   "outputs": [],
   "source": [
    "def state_code(state):\n",
    "    return state_fips[state]\n",
    "\n",
    "df['State FIPS'] = df['State'].apply(state_code)\n",
    "df['State FIPS'] = df['State FIPS'].astype(int)"
   ]
  },
  {
   "cell_type": "code",
   "execution_count": null,
   "metadata": {},
   "outputs": [],
   "source": [
    "# Exclude territories, leaving only the 50 states and DC.\n",
    "df = df[df['State FIPS'] <= 56]"
   ]
  },
  {
   "cell_type": "code",
   "execution_count": null,
   "metadata": {},
   "outputs": [],
   "source": [
    "# Create a 1/0 flag for the 48 continental states and DC, excluding HI and AK. \n",
    "# That will be useful for mapping.\n",
    "def is_continental(code):\n",
    "    if int(code) not in [2,15]:\n",
    "        return '1'\n",
    "    return '0'\n",
    "\n",
    "df['Continental'] = df['State FIPS'].apply(is_continental)"
   ]
  },
  {
   "cell_type": "code",
   "execution_count": null,
   "metadata": {},
   "outputs": [
    {
     "data": {
      "text/plain": [
       "1    14621688\n",
       "0      111749\n",
       "Name: Continental, dtype: int64"
      ]
     },
     "execution_count": null,
     "metadata": {},
     "output_type": "execute_result"
    }
   ],
   "source": [
    "df['Continental'].value_counts()"
   ]
  },
  {
   "cell_type": "code",
   "execution_count": null,
   "metadata": {},
   "outputs": [
    {
     "data": {
      "text/plain": [
       "935"
      ]
     },
     "execution_count": null,
     "metadata": {},
     "output_type": "execute_result"
    }
   ],
   "source": [
    "# Number of unique valid (non-zero) CBSA codes; i.e., codes assigned to OMB metropolitan \n",
    "# and micropolitan areas.\n",
    "len(df['CBSA Code'][df['CBSA Code']!=0].drop_duplicates())"
   ]
  },
  {
   "cell_type": "code",
   "execution_count": null,
   "metadata": {},
   "outputs": [],
   "source": [
    "# Give 'Primary NAICS Code' a useable missing value.\n",
    "df['Primary NAICS Code'].fillna('99999999',inplace=True)"
   ]
  },
  {
   "cell_type": "code",
   "execution_count": null,
   "metadata": {},
   "outputs": [
    {
     "data": {
      "text/plain": [
       "2    12527396\n",
       "1     1322584\n",
       "0      883457\n",
       "Name: CBSA Level, dtype: int64"
      ]
     },
     "execution_count": null,
     "metadata": {},
     "output_type": "execute_result"
    }
   ],
   "source": [
    "# Give 'CBSA Level' a missing value of 0.\n",
    "# CBSA is the OMB's concept of Core Based Statistical Area', either metropolitan or\n",
    "# micropolitan. All CBSAs consist of whole counties, one or more. Others (0 after recoding)\n",
    "# are considered rural.\n",
    "df['CBSA Level'].fillna('0',inplace=True)\n",
    "df['CBSA Level'].value_counts()"
   ]
  },
  {
   "cell_type": "markdown",
   "metadata": {},
   "source": [
    "Now do some data exploration and correction"
   ]
  },
  {
   "cell_type": "code",
   "execution_count": null,
   "metadata": {},
   "outputs": [
    {
     "data": {
      "text/plain": [
       "883453"
      ]
     },
     "execution_count": null,
     "metadata": {},
     "output_type": "execute_result"
    }
   ],
   "source": [
    "# 'CBSA Code' is the unique identifier for each CBSA. A large number of records do not\n",
    "# have a code. This would be, by one measure, the number of businesses in rural counties.\n",
    "# It is very nearly the number of records with a 'CBSA Level' value of 0 (after recoding the\n",
    "# missing value to 0). \n",
    "len(df[df['CBSA Code']=='00000'])"
   ]
  },
  {
   "cell_type": "code",
   "execution_count": null,
   "metadata": {},
   "outputs": [
    {
     "data": {
      "text/plain": [
       "0    883453\n",
       "Name: CBSA Level, dtype: int64"
      ]
     },
     "execution_count": null,
     "metadata": {},
     "output_type": "execute_result"
    }
   ],
   "source": [
    "# This shows, in fact, that all records with a CBSA Code of 0 also have a CBSA Level code\n",
    "# of 0: a definitive 'rural' classification by the OMB standard.\n",
    "df[df['CBSA Code']=='00000']['CBSA Level'].value_counts()"
   ]
  },
  {
   "cell_type": "code",
   "execution_count": null,
   "metadata": {},
   "outputs": [
    {
     "name": "stdout",
     "output_type": "stream",
     "text": [
      "OMB \"urban\" enterprises: 12527396\n",
      "OMB \"rural\" enterprises: 2206037\n",
      "Unknown OMB enterprises: 4\n"
     ]
    }
   ],
   "source": [
    "# So overall..\n",
    "urban = df[(df['CBSA Code']!='00000') & (df['CBSA Level']=='2')]\n",
    "rural = df[(df['CBSA Code']=='00000') | (df['CBSA Level']=='1')]\n",
    "unknown =df[(df['CBSA Code']!='00000') & (df['CBSA Level']=='0')]\n",
    "print('OMB \"urban\" enterprises:',str(len(urban)))\n",
    "print('OMB \"rural\" enterprises:',str(len(rural)))\n",
    "print('Unknown OMB enterprises:',str(len(unknown)))"
   ]
  },
  {
   "cell_type": "markdown",
   "metadata": {},
   "source": [
    "Now let us see if we can properly classify those 4 unknown records"
   ]
  },
  {
   "cell_type": "code",
   "execution_count": null,
   "metadata": {},
   "outputs": [
    {
     "name": "stdout",
     "output_type": "stream",
     "text": [
      "4\n",
      "1\n",
      "{nan}\n"
     ]
    }
   ],
   "source": [
    "# It turns out that all the enterprises with non-zero CBSA and no CBSA Level value actually have \n",
    "# a missing value for CBSA Code.\n",
    "unk_cbsas = unknown['CBSA Code'].tolist()\n",
    "print(len(unk_cbsas))\n",
    "unk_cbsas = set(unk_cbsas)\n",
    "print(len(unk_cbsas))\n",
    "print(unk_cbsas)"
   ]
  },
  {
   "cell_type": "code",
   "execution_count": null,
   "metadata": {},
   "outputs": [
    {
     "data": {
      "text/html": [
       "<div>\n",
       "<style scoped>\n",
       "    .dataframe tbody tr th:only-of-type {\n",
       "        vertical-align: middle;\n",
       "    }\n",
       "\n",
       "    .dataframe tbody tr th {\n",
       "        vertical-align: top;\n",
       "    }\n",
       "\n",
       "    .dataframe thead th {\n",
       "        text-align: right;\n",
       "    }\n",
       "</style>\n",
       "<table border=\"1\" class=\"dataframe\">\n",
       "  <thead>\n",
       "    <tr style=\"text-align: right;\">\n",
       "      <th></th>\n",
       "      <th>City</th>\n",
       "      <th>State</th>\n",
       "    </tr>\n",
       "  </thead>\n",
       "  <tbody>\n",
       "    <tr>\n",
       "      <th>374184</th>\n",
       "      <td>EASTON</td>\n",
       "      <td>MA</td>\n",
       "    </tr>\n",
       "    <tr>\n",
       "      <th>2990464</th>\n",
       "      <td>DULLES</td>\n",
       "      <td>VA</td>\n",
       "    </tr>\n",
       "  </tbody>\n",
       "</table>\n",
       "</div>"
      ],
      "text/plain": [
       "           City State\n",
       "374184   EASTON    MA\n",
       "2990464  DULLES    VA"
      ]
     },
     "execution_count": null,
     "metadata": {},
     "output_type": "execute_result"
    }
   ],
   "source": [
    "unknown[['City','State']].drop_duplicates()"
   ]
  },
  {
   "cell_type": "code",
   "execution_count": null,
   "metadata": {},
   "outputs": [],
   "source": [
    "# Dulles, VA is part of the Washington,DC metro area, so CBSA Code should be 47900 and CBSA Level \n",
    "# should be 2. It is in Loudon County, VA so its FIPS Code should be 51107.\n",
    "\n",
    "# Easton, MA is part of the Providence metro area, so CBSA Code should be 39300 and CBSA Level \n",
    "# should be 2.  It is in Bristol County, MA so its FIPS Code should be 25005."
   ]
  },
  {
   "cell_type": "code",
   "execution_count": null,
   "metadata": {},
   "outputs": [],
   "source": [
    "# Correct the records in 'unknown'."
   ]
  },
  {
   "cell_type": "code",
   "execution_count": null,
   "metadata": {},
   "outputs": [],
   "source": [
    "correcter = {\n",
    "    'EASTON':['25005','39300','2'],\n",
    "    'DULLES':['51107','47900','2']\n",
    "}\n",
    "\n",
    "for i in unknown.index:\n",
    "    for k,v in correcter.items():\n",
    "        if unknown.loc[i]['City'].strip() == k:\n",
    "            unknown.loc[i]['FIPS Code'] = v[0]\n",
    "            unknown.loc[i]['CBSA Code'] = v[1]\n",
    "            unknown.loc[i]['CBSA Level'] = v[2]"
   ]
  },
  {
   "cell_type": "markdown",
   "metadata": {},
   "source": [
    "Reform the dataframe to include new, recoded, and corrected variables to this point."
   ]
  },
  {
   "cell_type": "code",
   "execution_count": null,
   "metadata": {},
   "outputs": [],
   "source": [
    "corrected_df = pd.concat([urban,rural,unknown])"
   ]
  },
  {
   "cell_type": "code",
   "execution_count": null,
   "metadata": {},
   "outputs": [
    {
     "name": "stdout",
     "output_type": "stream",
     "text": [
      "Index(['Company', 'Address Line 1', 'City', 'State', 'ZipCode', 'County Code',\n",
      "       'Primary SIC Code', 'SIC6_Descriptions', 'Primary NAICS Code',\n",
      "       'NAICS8 Descriptions', 'Employee Size (5) - Location',\n",
      "       'Sales Volume (9) - Location', 'Business Status Code',\n",
      "       'Industry Specific First Byte', 'Year Established', 'ABI',\n",
      "       'Subsidiary Number', 'Parent Number', 'Parent Actual Employee Size',\n",
      "       'Parent Actual Sales Volume', 'Census Tract', 'Census Block',\n",
      "       'Latitude', 'Longitude', 'CBSA Code', 'CBSA Level', 'FIPS Code',\n",
      "       'State FIPS', 'Continental'],\n",
      "      dtype='object')\n",
      "14733437\n"
     ]
    }
   ],
   "source": [
    "print(corrected_df.columns)\n",
    "print(len(corrected_df))"
   ]
  },
  {
   "cell_type": "code",
   "execution_count": null,
   "metadata": {},
   "outputs": [
    {
     "name": "stdout",
     "output_type": "stream",
     "text": [
      "Rural Percentage 0.1497299645697063\n"
     ]
    }
   ],
   "source": [
    "# Proportion of rural enterprises in this InfoGroup year:\n",
    "rpct = float(len(rural))/float(len(corrected_df))\n",
    "print('Rural Percentage',str(rpct))"
   ]
  },
  {
   "cell_type": "markdown",
   "metadata": {},
   "source": [
    "Create a new 2-digit NAICS code called 'NAICS2' from 'Primary NAICS Code'."
   ]
  },
  {
   "cell_type": "code",
   "execution_count": null,
   "metadata": {},
   "outputs": [],
   "source": [
    "def two_digit(code):\n",
    "    return code[0:2]\n",
    "\n",
    "corrected_df['NAICS2'] = corrected_df['Primary NAICS Code'].apply(two_digit)"
   ]
  },
  {
   "cell_type": "code",
   "execution_count": null,
   "metadata": {},
   "outputs": [
    {
     "data": {
      "text/plain": [
       "62    2946143\n",
       "81    1524008\n",
       "54    1415248\n",
       "44    1213253\n",
       "52    1111481\n",
       "23     932560\n",
       "72     833419\n",
       "53     712510\n",
       "99     535513\n",
       "45     485064\n",
       "56     477756\n",
       "92     443387\n",
       "42     435708\n",
       "61     327247\n",
       "51     265785\n",
       "33     242964\n",
       "71     231045\n",
       "48     219366\n",
       "32     103784\n",
       "11      92316\n",
       "31      72836\n",
       "49      51676\n",
       "22      28016\n",
       "21      20521\n",
       "55      11831\n",
       "Name: NAICS2, dtype: int64"
      ]
     },
     "execution_count": null,
     "metadata": {},
     "output_type": "execute_result"
    }
   ],
   "source": [
    "corrected_df['NAICS2'].value_counts()"
   ]
  },
  {
   "cell_type": "markdown",
   "metadata": {},
   "source": [
    "Create a variable called 'NAICS2 desc' to apply a text description to 'NAICS2'."
   ]
  },
  {
   "cell_type": "code",
   "execution_count": null,
   "metadata": {},
   "outputs": [],
   "source": [
    "naics_desc = {\n",
    "'11':'Agriculture, Forestry, Fishing and Hunting',\n",
    "'21':'Mining',\n",
    "'22':'Utilities',\n",
    "'23':'Construction',\n",
    "'31':'Manufacturing',\n",
    "'32':'Manufacturing',\n",
    "'33':'Manufacturing',\n",
    "'42':'Wholesale Trade',\n",
    "'44':'Retail Trade',\n",
    "'45':'Retail Trade',\n",
    "'48':'Transportation and Warehousing',\n",
    "'49':'Transportation and Warehousing',\n",
    "'51':'Information',\n",
    "'52':'Finance and Insurance',\n",
    "'53':'Real Estate Rental and Leasing',\n",
    "'54':'Professional, Scientific, and Technical Services',\n",
    "'55':'Management of Companies and Enterprises',\n",
    "'56':'Administrative and Support and Waste Management and Remediation Services',\n",
    "'61':'Eucational Services',\n",
    "'62':'Health Care and Social Assistance',\n",
    "'71':'Arts, Entertainment, and Recreation',\n",
    "'72':'Accommodation and Food Services',\n",
    "'81':'Other Services (except Public Administration)',\n",
    "'92':'Public Administration',\n",
    "'99':'Unknown'\n",
    "}"
   ]
  },
  {
   "cell_type": "code",
   "execution_count": null,
   "metadata": {},
   "outputs": [],
   "source": [
    "def desc(code):\n",
    "    return naics_desc[code]\n",
    "\n",
    "corrected_df['NAICS2 desc'] = corrected_df['NAICS2'].apply(desc)"
   ]
  },
  {
   "cell_type": "code",
   "execution_count": null,
   "metadata": {},
   "outputs": [
    {
     "data": {
      "text/plain": [
       "Health Care and Social Assistance                                           2946143\n",
       "Retail Trade                                                                1698317\n",
       "Other Services (except Public Administration)                               1524008\n",
       "Professional, Scientific, and Technical Services                            1415248\n",
       "Finance and Insurance                                                       1111481\n",
       "Construction                                                                 932560\n",
       "Accommodation and Food Services                                              833419\n",
       "Real Estate Rental and Leasing                                               712510\n",
       "Unknown                                                                      535513\n",
       "Administrative and Support and Waste Management and Remediation Services     477756\n",
       "Public Administration                                                        443387\n",
       "Wholesale Trade                                                              435708\n",
       "Manufacturing                                                                419584\n",
       "Eucational Services                                                          327247\n",
       "Transportation and Warehousing                                               271042\n",
       "Information                                                                  265785\n",
       "Arts, Entertainment, and Recreation                                          231045\n",
       "Agriculture, Forestry, Fishing and Hunting                                    92316\n",
       "Utilities                                                                     28016\n",
       "Mining                                                                        20521\n",
       "Management of Companies and Enterprises                                       11831\n",
       "Name: NAICS2 desc, dtype: int64"
      ]
     },
     "execution_count": null,
     "metadata": {},
     "output_type": "execute_result"
    }
   ],
   "source": [
    "corrected_df['NAICS2 desc'].value_counts()"
   ]
  },
  {
   "cell_type": "code",
   "execution_count": null,
   "metadata": {},
   "outputs": [
    {
     "data": {
      "text/plain": [
       "Index(['Company', 'Address Line 1', 'City', 'State', 'ZipCode', 'County Code',\n",
       "       'Primary SIC Code', 'SIC6_Descriptions', 'Primary NAICS Code',\n",
       "       'NAICS8 Descriptions', 'Employee Size (5) - Location',\n",
       "       'Sales Volume (9) - Location', 'Business Status Code',\n",
       "       'Industry Specific First Byte', 'Year Established', 'ABI',\n",
       "       'Subsidiary Number', 'Parent Number', 'Parent Actual Employee Size',\n",
       "       'Parent Actual Sales Volume', 'Census Tract', 'Census Block',\n",
       "       'Latitude', 'Longitude', 'CBSA Code', 'CBSA Level', 'FIPS Code',\n",
       "       'State FIPS', 'Continental', 'NAICS2', 'NAICS2 desc'],\n",
       "      dtype='object')"
      ]
     },
     "execution_count": null,
     "metadata": {},
     "output_type": "execute_result"
    }
   ],
   "source": [
    "corrected_df.columns"
   ]
  },
  {
   "cell_type": "markdown",
   "metadata": {},
   "source": [
    "Output the corrected dataframe to a file for analytical processing."
   ]
  },
  {
   "cell_type": "code",
   "execution_count": null,
   "metadata": {},
   "outputs": [],
   "source": [
    "outfile = 'InfoGroup/data/rurality/data/df_%d.csv' % year\n",
    "corrected_df.to_csv(outfile,index=None)"
   ]
  },
  {
   "cell_type": "code",
   "execution_count": null,
   "metadata": {},
   "outputs": [],
   "source": []
  }
 ],
 "metadata": {
  "kernelspec": {
   "display_name": "Python 3",
   "language": "python",
   "name": "python3"
  }
 },
 "nbformat": 4,
 "nbformat_minor": 4
}

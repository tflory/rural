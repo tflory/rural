{
 "cells": [
  {
   "cell_type": "code",
   "execution_count": 14,
   "metadata": {},
   "outputs": [],
   "source": [
    "import pandas as pd"
   ]
  },
  {
   "cell_type": "code",
   "execution_count": 15,
   "metadata": {},
   "outputs": [],
   "source": [
    "cols = ['Business Status Code',\n",
    "'Year Established',\n",
    "'CBSA Level',\n",
    "#'CBSA Text',\n",
    "'UA Type',\n",
    "'rural_by_UA',\n",
    "'rural_HRSA',\n",
    "'FAR Level',\n",
    "'rural_tract',\n",
    "'Primary SIC Code',\n",
    "'Primary NAICS Code',\n",
    "'NAICS6',\n",
    "'NAICS2']\n"
   ]
  },
  {
   "cell_type": "code",
   "execution_count": 16,
   "metadata": {},
   "outputs": [],
   "source": [
    "logfile = open('comparison.log','w')\n",
    "dir = '/InfoGroup/data/rurality/'\n",
    "files = [dir + 'InfoGroup_2017_nb07.csv',dir + 'InfoGroup_2017_all_steps.csv']\n",
    "for file in files:\n",
    "    df = pd.read_csv(file,dtype=object)\n",
    "    print(f'\\n{file}:',file=logfile)\n",
    "    for col in cols:\n",
    "        nulls = df[col].isnull().sum()\n",
    "        df[col].dropna(inplace=True)\n",
    "        print('\\n' + ('*' * 20),'df[\"'+col+'\"]',('*' * 20),file=logfile)\n",
    "        print('***','Counts:',file=logfile)\n",
    "        print(df[col].value_counts().nlargest(20),file=logfile)\n",
    "        print('***','Percentages:',file=logfile)\n",
    "        print(df[col].value_counts(normalize=True).nlargest(20) * 100,file=logfile)\n",
    "        print('***','Missing:',nulls,file=logfile)\n",
    "        strlen = len('df['+col+']') + 4\n",
    "        print('*' * (40+strlen),file=logfile)\n",
    "logfile.close()"
   ]
  },
  {
   "cell_type": "code",
   "execution_count": 17,
   "metadata": {},
   "outputs": [
    {
     "name": "stdout",
     "output_type": "stream",
     "text": [
      "Index(['Company', 'Address Line 1', 'City', 'State', 'ZipCode', 'County Code',\n",
      "       'Primary SIC Code', 'SIC6_Descriptions', 'Primary NAICS Code',\n",
      "       'NAICS8 Descriptions', 'Employee Size (5) - Location',\n",
      "       'Sales Volume (9) - Location', 'Business Status Code',\n",
      "       'Year Established', 'ABI', 'Subsidiary Number', 'Parent Number',\n",
      "       'Parent Actual Employee Size', 'Parent Actual Sales Volume',\n",
      "       'Census Tract', 'Census Block', 'Latitude', 'Longitude', 'CBSA Code',\n",
      "       'CBSA Level', 'CSA Code', 'FIPS Code', 'State FIPS', 'Continental',\n",
      "       'NAICS2', 'NAICS2 desc', 'NAICS6', 'NAICS6 desc', 'CBSA Text',\n",
      "       'UA Code', 'UA Type', 'rural_by_UA', 'Full Census Tract', 'rural_HRSA',\n",
      "       'far1', 'far2', 'far3', 'far4', 'FAR Level', 'rural_tract'],\n",
      "      dtype='object')\n",
      "Index(['Company', 'Address Line 1', 'City', 'State', 'ZipCode', 'County Code',\n",
      "       'Primary SIC Code', 'SIC6_Descriptions', 'Primary NAICS Code',\n",
      "       'NAICS8 Descriptions', 'Employee Size (5) - Location',\n",
      "       'Sales Volume (9) - Location', 'Business Status Code',\n",
      "       'Year Established', 'ABI', 'Subsidiary Number', 'Parent Number',\n",
      "       'Parent Actual Employee Size', 'Parent Actual Sales Volume',\n",
      "       'Census Tract', 'Census Block', 'Latitude', 'Longitude', 'CBSA Code',\n",
      "       'CBSA Level', 'CSA Code', 'FIPS Code', 'State FIPS', 'Continental',\n",
      "       'NAICS2', 'NAICS2 desc', 'NAICS6', 'NAICS6 desc', 'CBSA Text',\n",
      "       'UA Code', 'UA Type', 'rural_by_UA', 'Full Census Tract', 'rural_HRSA',\n",
      "       'far1', 'far2', 'far3', 'far4', 'FAR Level', 'rural_tract'],\n",
      "      dtype='object')\n"
     ]
    }
   ],
   "source": [
    "for files in files:\n",
    "    df = pd.read_csv(file,dtype=object)\n",
    "    print(df.columns)"
   ]
  },
  {
   "cell_type": "code",
   "execution_count": null,
   "metadata": {},
   "outputs": [],
   "source": []
  }
 ],
 "metadata": {
  "kernelspec": {
   "display_name": "Python 3",
   "language": "python",
   "name": "python3"
  },
  "language_info": {
   "codemirror_mode": {
    "name": "ipython",
    "version": 3
   },
   "file_extension": ".py",
   "mimetype": "text/x-python",
   "name": "python",
   "nbconvert_exporter": "python",
   "pygments_lexer": "ipython3",
   "version": "3.8.2"
  }
 },
 "nbformat": 4,
 "nbformat_minor": 4
}

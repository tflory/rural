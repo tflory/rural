{
 "cells": [
  {
   "cell_type": "code",
   "execution_count": null,
   "metadata": {},
   "outputs": [],
   "source": [
    "#default_exp rural_tracts_in_urban_areas"
   ]
  },
  {
   "cell_type": "code",
   "execution_count": null,
   "metadata": {},
   "outputs": [],
   "source": [
    "# Double-check the FORHP list of census tracts that have rural characteristics but that are\n",
    "# contained within a metro county."
   ]
  },
  {
   "cell_type": "code",
   "execution_count": null,
   "metadata": {},
   "outputs": [],
   "source": [
    "import pandas as pd\n",
    "import geopandas as gpd"
   ]
  },
  {
   "cell_type": "markdown",
   "metadata": {},
   "source": [
    "# ----------------------------------------------------------------"
   ]
  },
  {
   "cell_type": "code",
   "execution_count": null,
   "metadata": {},
   "outputs": [],
   "source": [
    "# Comparisons and creation of GeoDataFrame and shapefile for rural census tracts, both types."
   ]
  },
  {
   "cell_type": "code",
   "execution_count": null,
   "metadata": {},
   "outputs": [],
   "source": [
    "dir = '/InfoGroup/rural/points-in-polygons/data/'\n",
    "hrsa_rural = pd.read_csv(dir + 'rural_HRSA_updated_tracts.csv',dtype=object)\n",
    "spatial_rural = pd.read_csv(dir + 'rural_spatial_tracts.csv',dtype=object)\n",
    "all_tracts = pd.read_csv(dir + 'all_tracts.csv',dtype=object)\n",
    "#all_tracts = gpd.read_file(dir + '../../map_files/tracts/tl_2017_USA_tract.shp',dtype=object)"
   ]
  },
  {
   "cell_type": "code",
   "execution_count": null,
   "metadata": {},
   "outputs": [
    {
     "name": "stdout",
     "output_type": "stream",
     "text": [
      "13939\n",
      "22858\n",
      "73056\n"
     ]
    }
   ],
   "source": [
    "print(len(hrsa_rural))\n",
    "print(len(spatial_rural))\n",
    "print(len(all_tracts))"
   ]
  },
  {
   "cell_type": "code",
   "execution_count": null,
   "metadata": {},
   "outputs": [],
   "source": [
    "hrsa_rural['rural_HRSA_updated_tract'] = '1'"
   ]
  },
  {
   "cell_type": "code",
   "execution_count": null,
   "metadata": {},
   "outputs": [
    {
     "data": {
      "text/plain": [
       "22858"
      ]
     },
     "execution_count": null,
     "metadata": {},
     "output_type": "execute_result"
    }
   ],
   "source": [
    "len(all_tracts[all_tracts['rural_spatial_tract']=='1'])"
   ]
  },
  {
   "cell_type": "code",
   "execution_count": null,
   "metadata": {},
   "outputs": [
    {
     "name": "stdout",
     "output_type": "stream",
     "text": [
      "138 72918\n"
     ]
    }
   ],
   "source": [
    "n = 0\n",
    "m = 0\n",
    "for i,v in all_tracts['geometry'].iteritems():\n",
    "    if 'MULTIPOLYGON' in v:\n",
    "        n += 1\n",
    "    else:\n",
    "        m += 1\n",
    "print(str(n),str(m))\n",
    "# This is why we can't output a shapefile from all_tracts or any merged file below: \n",
    "# some MULTIPOLYGONs among the POLYGONs."
   ]
  },
  {
   "cell_type": "code",
   "execution_count": null,
   "metadata": {},
   "outputs": [],
   "source": [
    "rurals_merge = spatial_rural.merge(hrsa_rural, left_on='GEOID', right_on='Tract', how='outer',\n",
    "                                   indicator=True)"
   ]
  },
  {
   "cell_type": "code",
   "execution_count": null,
   "metadata": {},
   "outputs": [
    {
     "data": {
      "text/plain": [
       "left_only     13445\n",
       "both           9413\n",
       "right_only     4526\n",
       "Name: _merge, dtype: int64"
      ]
     },
     "execution_count": null,
     "metadata": {},
     "output_type": "execute_result"
    }
   ],
   "source": [
    "rurals_merge['_merge'].value_counts()\n",
    "# 27384 of 74027 [unique tract numbers in RUCA list (2010) and shapefile (2017) = 37.0%"
   ]
  },
  {
   "cell_type": "code",
   "execution_count": null,
   "metadata": {},
   "outputs": [],
   "source": [
    "# all_tracts and spatial_rural variables come from the census shapefile and include geometry.\n",
    "# hrsa_rural comes from the RUCA file and does not include geometry:\n",
    "#          ruca_df = pd.read_csv('data/ruca2010revised.csv', dtype=object)\n",
    "# Now create a single frame with all the variables and both flags."
   ]
  },
  {
   "cell_type": "code",
   "execution_count": null,
   "metadata": {},
   "outputs": [],
   "source": [
    "ruca_df = pd.read_csv('/InfoGroup/rural/data/ruca2010revised.csv', dtype=object)\n",
    "print(len(ruca_df))\n",
    "print(ruca_df.columns)"
   ]
  },
  {
   "cell_type": "code",
   "execution_count": null,
   "metadata": {},
   "outputs": [],
   "source": [
    "ruca_df.head()"
   ]
  },
  {
   "cell_type": "code",
   "execution_count": null,
   "metadata": {},
   "outputs": [],
   "source": [
    "# 73,056 tracts in the census shape file for 2017.\n",
    "# The RUCA file is from 2010.\n",
    "len(ruca_df)"
   ]
  },
  {
   "cell_type": "code",
   "execution_count": null,
   "metadata": {},
   "outputs": [],
   "source": [
    "# GEOID is the tract ID from the shapefile. \"Tract\" is the tract ID in the RUCA file.\n",
    "# How much overlap?\n",
    "# Then create a separate file for rural tracts only.\n",
    "all_tracts_merged = ruca_df.merge(all_tracts, left_on='Tract', right_on='GEOID', how='outer',\n",
    "                                  indicator=True)\n",
    "all_tracts_merged['_merge'].value_counts()"
   ]
  },
  {
   "cell_type": "code",
   "execution_count": null,
   "metadata": {},
   "outputs": [],
   "source": [
    "all_tracts_merged.columns"
   ]
  },
  {
   "cell_type": "code",
   "execution_count": null,
   "metadata": {},
   "outputs": [],
   "source": [
    "all_tracts_merged.drop(columns='_merge',inplace=True)\n",
    "all_tracts_2017 = all_tracts_merged.merge(hrsa_rural[['Tract','rural_HRSA_updated_tract']],\n",
    "                                         how='outer',on='Tract',indicator=True)\n",
    "all_tracts_2017['_merge'].value_counts()"
   ]
  },
  {
   "cell_type": "code",
   "execution_count": null,
   "metadata": {},
   "outputs": [],
   "source": [
    "all_tracts_2017.dtypes"
   ]
  },
  {
   "cell_type": "code",
   "execution_count": null,
   "metadata": {},
   "outputs": [],
   "source": [
    "all_tracts_2017.drop(columns='_merge',inplace=True)"
   ]
  },
  {
   "cell_type": "code",
   "execution_count": null,
   "metadata": {},
   "outputs": [],
   "source": [
    "# Since we can't write a shapefile from geopandas from this file with both MULTIPOLYGONs and\n",
    "# POLYGONs, we'll have to see if ArcMAP can read in a csv file.\n",
    "all_tracts_2017.to_csv('/InfoGroup/rural/map_files/all_tracts_2017.csv')"
   ]
  },
  {
   "cell_type": "code",
   "execution_count": null,
   "metadata": {},
   "outputs": [],
   "source": [
    "# Select just the rural tracts from the USA shapefile. Maybe that will work in ArcMap.\n",
    "usa_shapefile = '/InfoGroup/rural/map_files/USA_census_tracts.shp'\n",
    "usa_gdf = gpd.read_file(usa_shapefile,driver='ESRI Shapefile')\n",
    "all_tracts_2017_df = pd.read_csv('/InfoGroup/rural/map_files/all_tracts_2017.csv',\n",
    "                                usecols=['Tract','rural_spatial_tract','rural_HRSA_updated_tract'],\n",
    "                                dtype=object)"
   ]
  },
  {
   "cell_type": "code",
   "execution_count": null,
   "metadata": {},
   "outputs": [],
   "source": [
    "print(usa_gdf.columns)\n",
    "print(all_tracts_2017_df.columns)\n",
    "print(usa_gdf.head())"
   ]
  },
  {
   "cell_type": "code",
   "execution_count": null,
   "metadata": {},
   "outputs": [],
   "source": [
    "usa_gdf_merged = usa_gdf.merge(all_tracts_2017_df,left_on='FIPS',right_on='Tract',how='outer',\n",
    "                              indicator=True)\n",
    "usa_gdf_merged['_merge'].value_counts()"
   ]
  },
  {
   "cell_type": "code",
   "execution_count": null,
   "metadata": {},
   "outputs": [],
   "source": [
    "usa_gdf_merged.drop(columns='_merge',inplace=True)\n",
    "usa_gdf_merged.columns"
   ]
  },
  {
   "cell_type": "code",
   "execution_count": null,
   "metadata": {},
   "outputs": [],
   "source": [
    "usa_rural_tracts = gpd.GeoDataFrame(usa_gdf_merged[\n",
    "    (usa_gdf_merged['rural_HRSA_updated_tract']=='1') | \n",
    "    (usa_gdf_merged['rural_spatial_tract']=='1')],dtype=object)"
   ]
  },
  {
   "cell_type": "code",
   "execution_count": null,
   "metadata": {},
   "outputs": [],
   "source": [
    "usa_rural_tracts.dtypes"
   ]
  },
  {
   "cell_type": "code",
   "execution_count": null,
   "metadata": {},
   "outputs": [],
   "source": [
    "# Have to remove rows with missing geometry.\n",
    "print(len(usa_rural_tracts))\n",
    "print(len(usa_rural_tracts[usa_rural_tracts['geometry'].isnull()]))\n",
    "usa_rural_tracts.dropna(subset=['geometry'],inplace=True)\n",
    "print(len(usa_rural_tracts))"
   ]
  },
  {
   "cell_type": "code",
   "execution_count": null,
   "metadata": {},
   "outputs": [],
   "source": [
    "usa_rural_tracts.to_file('/InfoGroup/rural/map_files/usa_rural_tracts.shp',driver='ESRI Shapefile',\n",
    "                        crs_wkt='epsg4326')"
   ]
  },
  {
   "cell_type": "code",
   "execution_count": null,
   "metadata": {},
   "outputs": [],
   "source": [
    "# End comparisons, etc. "
   ]
  },
  {
   "cell_type": "markdown",
   "metadata": {},
   "source": [
    "# ----------------------------------------------------------------"
   ]
  },
  {
   "cell_type": "code",
   "execution_count": null,
   "metadata": {},
   "outputs": [],
   "source": [
    "# This comes from the HRSA website:\n",
    "# https://www.hrsa.gov/sites/default/files/hrsa/ruralhealth/aboutus/definition/nonmetrocountiesandcts2016.xlsx\n",
    "# It lists more census tracts than are listed as rural-within-metro counties in the pdf:\n",
    "# https://www.hrsa.gov/sites/default/files/hrsa/ruralhealth/resources/forhpeligibleareas.pdf\n",
    "#\n",
    "# We're using this slightly larger list because the filename implies that it is 3 years more\n",
    "# recent, although the text on the website says 2013. If this is not an updated list, it is\n",
    "# unclear why the two lists should be different. But this one is more comprehensive and \n",
    "# systematically presented as well as, probably, more recent, so we're using this one.\n",
    "df = pd.read_csv('data/nonmetrocountiesandcts2016.csv', dtype=object)"
   ]
  },
  {
   "cell_type": "code",
   "execution_count": null,
   "metadata": {},
   "outputs": [],
   "source": [
    "df.info()"
   ]
  },
  {
   "cell_type": "code",
   "execution_count": null,
   "metadata": {},
   "outputs": [],
   "source": [
    "# This selects all rural census tracts in metropolitan counties. It does not include tracts in\n",
    "# micropolitan counties. It also does not include the rural census tracts in metropolitan counties\n",
    "# in which ALL census tracts are rural by the HRSA/FORHP reckoning. There are 28 such counties.\n",
    "# See 'data/nonmetrocountiesandcts2016.xlsx'.\n",
    "# The rural tracts in those 28 metropolitan counties can be added later by getting the individual \n",
    "# tract IDs from the overall list and filtering by county. The data source used here does not\n",
    "# list those tracts individually. For the purposes of this analysis they are not useful since\n",
    "# we're interested in rural census tracts that interact with vibrant or substantial urban areas.\n",
    "rural_tracts_df = df[~df['CT'].isnull()]\n",
    "len(rural_tracts_df)"
   ]
  },
  {
   "cell_type": "code",
   "execution_count": null,
   "metadata": {},
   "outputs": [],
   "source": [
    "rural_tracts_df.head()"
   ]
  },
  {
   "cell_type": "code",
   "execution_count": null,
   "metadata": {},
   "outputs": [],
   "source": [
    "# How many counties are represented?\n",
    "len(set(rural_tracts_df['CTY FIPS'].tolist()))"
   ]
  },
  {
   "cell_type": "code",
   "execution_count": null,
   "metadata": {},
   "outputs": [],
   "source": [
    "dane_df = rural_tracts_df[rural_tracts_df['CountyName']=='Dane']"
   ]
  },
  {
   "cell_type": "code",
   "execution_count": null,
   "metadata": {},
   "outputs": [],
   "source": [
    "dane_df"
   ]
  },
  {
   "cell_type": "code",
   "execution_count": null,
   "metadata": {},
   "outputs": [],
   "source": []
  }
 ],
 "metadata": {
  "kernelspec": {
   "display_name": "Python 3",
   "language": "python",
   "name": "python3"
  }
 },
 "nbformat": 4,
 "nbformat_minor": 2
}

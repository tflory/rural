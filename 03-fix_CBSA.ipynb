{
 "cells": [
  {
   "cell_type": "code",
   "execution_count": 24,
   "metadata": {
    "ExecuteTime": {
     "end_time": "2020-07-13T20:01:07.952916Z",
     "start_time": "2020-07-13T20:01:07.948384Z"
    }
   },
   "outputs": [],
   "source": [
    "#default_exp fix_cbsa_errors"
   ]
  },
  {
   "cell_type": "code",
   "execution_count": 25,
   "metadata": {
    "ExecuteTime": {
     "end_time": "2020-07-13T20:01:08.309070Z",
     "start_time": "2020-07-13T20:01:07.957780Z"
    }
   },
   "outputs": [],
   "source": [
    "# export\n",
    "import pandas as pd\n",
    "import warnings\n",
    "warnings.filterwarnings(\"ignore\")"
   ]
  },
  {
   "cell_type": "code",
   "execution_count": 26,
   "metadata": {
    "ExecuteTime": {
     "end_time": "2020-07-13T20:01:08.423124Z",
     "start_time": "2020-07-13T20:01:08.311477Z"
    }
   },
   "outputs": [],
   "source": [
    "# export\n",
    "cbsa_df = pd.read_csv(f'/home/tflory/notebooks/InfoGroup/rurality/Relationship_Files/cbsa-county-relationships-2017.csv',usecols=['STCOU','CBSA','LSAD'])\n",
    "cbsa_df.fillna('-9',inplace=True)\n",
    "cbsa_df.rename(columns={'STCOU':'FIPS Code'},inplace=True)\n",
    "cbsa_df['FIPS Code'] = cbsa_df['FIPS Code'].astype(int)"
   ]
  },
  {
   "cell_type": "code",
   "execution_count": 27,
   "metadata": {
    "ExecuteTime": {
     "end_time": "2020-07-13T20:01:08.443887Z",
     "start_time": "2020-07-13T20:01:08.425914Z"
    }
   },
   "outputs": [],
   "source": [
    "# export\n",
    "def extract_corrections(unknowns):\n",
    "    \"\"\"Extracts CBSA Code and appropriate CBSA Level for a list of InfoGroup FIPS Codes\"\"\"\n",
    "    # Files cross-references CBSA codes and county FIPS codes.\n",
    "    # Variable 'STCOU' is the 5-digit county FIPS code. The CBSA Level is inferred from the\n",
    "    # text in the 'LSAD' variable.\n",
    "    unk = unknowns.join(cbsa_df,on='FIPS Code',how='left',lsuffix='_l',rsuffix='_r')\n",
    "    unk['CBSA Level'] = 0\n",
    "    for i in unk.index:\n",
    "        if str(unk.at[i,'LSAD']).find(\"Metropolitan\") > -1:\n",
    "            unk.at[i,'CBSA Level'] = 2\n",
    "        elif str(unk.at[i,'LSAD']).find(\"Micropolitan\") > -1:\n",
    "            unk.at[i,'CBSA Level'] = 1\n",
    "    return unk\n",
    "\n",
    "def cbsa_text(df,yr):\n",
    "    \"\"\"Create a text description of he CBSA level code.\"\"\"\n",
    "    df['CBSA Text'] = ''\n",
    "    for i in df.index:\n",
    "        if int(df.at[i,'CBSA Level']) > 0: \n",
    "            df.at[i,'CBSA Text'] = 'urban'\n",
    "        elif df.at[i,'CBSA Code'] == -9 and df.at[i,'CBSA Level']==0:\n",
    "            df.at[i,'CBSA Text'] = 'rural'\n",
    "        elif (df.at[i,'CBSA Code']==0 and df.at[i,'CBSA Level']==0): \n",
    "            df.at[i,'CBSA Text'] = 'rural'\n",
    "        elif df.at[i,'CBSA Level']==0:\n",
    "            df.at[i,'CBSA Text'] = 'unknown'\n",
    "        else:\n",
    "            df.at[i,'CBSA Text'] = '????'\n",
    "    return df\n",
    "\n",
    "words = {'0':'rural','1':'micropolitan','2':'metropolitan'}\n",
    "def make_word(code):\n",
    "    \"\"\"Apply a text description to the CBSA Level code.\"\"\"\n",
    "    return words[code]"
   ]
  },
  {
   "cell_type": "code",
   "execution_count": 28,
   "metadata": {
    "ExecuteTime": {
     "end_time": "2020-07-13T20:01:08.455816Z",
     "start_time": "2020-07-13T20:01:08.446125Z"
    }
   },
   "outputs": [],
   "source": [
    "# export\n",
    "# open a log file\n",
    "logfile = open('003-CBSA.log','w')"
   ]
  },
  {
   "cell_type": "code",
   "execution_count": 29,
   "metadata": {
    "ExecuteTime": {
     "end_time": "2020-07-13T22:17:22.383709Z",
     "start_time": "2020-07-13T20:01:08.457814Z"
    }
   },
   "outputs": [],
   "source": [
    "# export\n",
    "for yr in range(1997,2018):\n",
    "    print(f'\\n{yr}:',file=logfile)\n",
    "    in_fname = f'/InfoGroup/data/rurality/InfoGroup_{yr}_extract.csv'\n",
    "    df = pd.read_csv(in_fname,dtype=object)\n",
    "    df['CBSA Code'].fillna(-9,inplace=True)\n",
    "    df['CBSA Level'].fillna(-9,inplace=True)\n",
    "    df['CBSA Code'] = df['CBSA Code'].astype(int)\n",
    "    df['CBSA Level'] = df['CBSA Level'].astype(int)\n",
    "    df['FIPS Code'] = df['FIPS Code'].astype(int)\n",
    "    \n",
    "    urban = df[(df['CBSA Level'] > 0)]\n",
    "    urban['CBSA Text'] = 'urban'\n",
    "    rural = df[(df['CBSA Code'] > 0) & (df['CBSA Level']==0)]\n",
    "    rural['CBSA Text'] ='rural'\n",
    "    unknown = df[(df['CBSA Code'] < 0) | ((df['CBSA Code'] == 0) & (df['CBSA Level']==0))]\n",
    "    unknown['FIPS Code'] = unknown['FIPS Code'].astype(int)\n",
    "    \n",
    "    nrows = len(df)\n",
    "    sum_of_parts = len(urban) + len(rural) + len(unknown)\n",
    "    if sum_of_parts != nrows:\n",
    "          print(f'Error in dividing enterprises into categories:',file=logfile)\n",
    "          print(f'\\t{nrows} != {sum_of_parts}',file=logfile)\n",
    "        \n",
    "    corrected = extract_corrections(unknown)\n",
    "    corrected = cbsa_text(corrected,yr)\n",
    "    corrected.drop(columns=['CBSA','FIPS Code_r','LSAD'],inplace=True)\n",
    "    corrected.rename(columns={\"FIPS Code_l\": \"FIPS Code\"},inplace=True)\n",
    "\n",
    "    print(corrected['CBSA Level'].value_counts(),file=logfile)\n",
    "    final_df = pd.concat([urban,rural,corrected],ignore_index=True)\n",
    "    print(final_df['CBSA Text'].value_counts(),file=logfile)\n",
    "    print(final_df['CBSA Text'].value_counts(normalize=True) * 100,file=logfile)\n",
    "    print(f'rural/urban by OMB standard:',file=logfile)\n",
    "    \n",
    "    # Write a new file\n",
    "    outfile = f'/InfoGroup/data/rurality/InfoGroup_{yr}_nb03.csv'\n",
    "    final_df.to_csv(outfile,index=None)"
   ]
  },
  {
   "cell_type": "code",
   "execution_count": 30,
   "metadata": {
    "ExecuteTime": {
     "end_time": "2020-07-13T22:17:22.390705Z",
     "start_time": "2020-07-13T22:17:22.386700Z"
    }
   },
   "outputs": [],
   "source": [
    "# export\n",
    "logfile.close()"
   ]
  },
  {
   "cell_type": "code",
   "execution_count": null,
   "metadata": {},
   "outputs": [],
   "source": []
  }
 ],
 "metadata": {
  "kernelspec": {
   "display_name": "Python 3",
   "language": "python",
   "name": "python3"
  },
  "language_info": {
   "codemirror_mode": {
    "name": "ipython",
    "version": 3
   },
   "file_extension": ".py",
   "mimetype": "text/x-python",
   "name": "python",
   "nbconvert_exporter": "python",
   "pygments_lexer": "ipython3",
   "version": "3.8.2"
  }
 },
 "nbformat": 4,
 "nbformat_minor": 4
}

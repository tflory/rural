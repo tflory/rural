{
 "cells": [
  {
   "cell_type": "code",
   "execution_count": null,
   "metadata": {
    "ExecuteTime": {
     "end_time": "2020-07-06T00:11:18.940833Z",
     "start_time": "2020-07-06T00:11:18.935934Z"
    }
   },
   "outputs": [],
   "source": [
    "# default_exp identify_cbsa_errors"
   ]
  },
  {
   "cell_type": "markdown",
   "metadata": {
    "ExecuteTime": {
     "end_time": "2020-07-01T19:43:05.508543Z",
     "start_time": "2020-07-01T19:43:05.488362Z"
    }
   },
   "source": [
    "# Identify records with incorrect CBSA data\n",
    "> Log state and city of records with incorrect CBSA data"
   ]
  },
  {
   "cell_type": "code",
   "execution_count": null,
   "metadata": {
    "ExecuteTime": {
     "end_time": "2020-07-06T00:11:18.952635Z",
     "start_time": "2020-07-06T00:11:18.943608Z"
    }
   },
   "outputs": [],
   "source": [
    "# export\n",
    "import pandas as pd\n",
    "import sys"
   ]
  },
  {
   "cell_type": "code",
   "execution_count": null,
   "metadata": {
    "ExecuteTime": {
     "end_time": "2020-07-06T00:11:18.964359Z",
     "start_time": "2020-07-06T00:11:18.956341Z"
    }
   },
   "outputs": [],
   "source": [
    "# export\n",
    "def find_anomalies(yr):\n",
    "    \"\"\"Find the records that have CBSA-related data that needs correcting.\"\"\"\n",
    "    fname = f'/InfoGroup/data/rurality/InfoGroup_{yr}_extract.csv'\n",
    "    df = pd.read_csv(fname,dtype=object)\n",
    "    unknown = df[(df['CBSA Code']!='00000') & (df['CBSA Level']=='0')]\n",
    "    return unknown[['ABI','FIPS Code','CBSA Code','CBSA Level']].drop_duplicates()"
   ]
  },
  {
   "cell_type": "code",
   "execution_count": null,
   "metadata": {
    "ExecuteTime": {
     "end_time": "2020-07-06T00:11:18.978228Z",
     "start_time": "2020-07-06T00:11:18.966661Z"
    }
   },
   "outputs": [],
   "source": [
    "# export\n",
    "# Open a logging file\n",
    "logfile = open('002-CBSA.log','a')"
   ]
  },
  {
   "cell_type": "code",
   "execution_count": null,
   "metadata": {
    "ExecuteTime": {
     "end_time": "2020-07-06T00:39:43.226895Z",
     "start_time": "2020-07-06T00:11:18.980516Z"
    }
   },
   "outputs": [],
   "source": [
    "# export\n",
    "for year in range(1997,2018):\n",
    "    bad_cases = find_anomalies(year)\n",
    "    print(f'\\n*** {year} ***',file=logfile)\n",
    "    print(bad_cases,file=logfile)"
   ]
  },
  {
   "cell_type": "code",
   "execution_count": null,
   "metadata": {
    "ExecuteTime": {
     "end_time": "2020-07-06T00:39:43.245302Z",
     "start_time": "2020-07-06T00:39:43.229378Z"
    }
   },
   "outputs": [],
   "source": [
    "# export\n",
    "logfile.close()"
   ]
  },
  {
   "cell_type": "code",
   "execution_count": null,
   "metadata": {
    "ExecuteTime": {
     "start_time": "2020-07-08T14:30:47.375Z"
    }
   },
   "outputs": [],
   "source": [
    "import pandas as pd\n",
    "for yr in range(2000,2011):\n",
    "    print(f'\\n{yr}:')\n",
    "    dfx = pd.read_csv(f'/InfoGroup/data/rurality/InfoGroup_{yr}_extract.csv',dtype=object)\n",
    "    print(dfx['CBSA Level'].value_counts())"
   ]
  },
  {
   "cell_type": "code",
   "execution_count": null,
   "metadata": {},
   "outputs": [],
   "source": []
  }
 ],
 "metadata": {
  "kernelspec": {
   "display_name": "Python 3",
   "language": "python",
   "name": "python3"
  },
  "language_info": {
   "codemirror_mode": {
    "name": "ipython",
    "version": 3
   },
   "file_extension": ".py",
   "mimetype": "text/x-python",
   "name": "python",
   "nbconvert_exporter": "python",
   "pygments_lexer": "ipython3",
   "version": "3.8.2"
  }
 },
 "nbformat": 4,
 "nbformat_minor": 4
}

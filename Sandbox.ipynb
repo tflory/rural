{
 "cells": [
  {
   "cell_type": "code",
   "execution_count": 1,
   "metadata": {},
   "outputs": [],
   "source": [
    "import pandas as pd\n",
    "df = pd.read_csv('/InfoGroup/data/original/2017_Business_Academic_QCQ_utf-8.csv',dtype=object)"
   ]
  },
  {
   "cell_type": "code",
   "execution_count": 5,
   "metadata": {},
   "outputs": [
    {
     "data": {
      "text/plain": [
       "Index(['Company', 'Address Line 1', 'City', 'State', 'ZipCode', 'Zip4',\n",
       "       'County Code', 'Area Code', 'IDCode', 'Location Employee Size Code',\n",
       "       'Location Sales Volume Code', 'Primary SIC Code', 'SIC6_Descriptions',\n",
       "       'Primary NAICS Code', 'NAICS8 Descriptions', 'SIC Code',\n",
       "       'SIC6_Descriptions (SIC)', 'SIC Code 1', 'SIC6_Descriptions (SIC1)',\n",
       "       'SIC Code 2', 'SIC6_Descriptions(SIC2)', 'SIC Code 3',\n",
       "       'SIC6_Descriptions(SIC3)', 'SIC Code 4', 'SIC6_Descriptions(SIC4)',\n",
       "       'Archive Version Year', 'Yellow Page Code',\n",
       "       'Employee Size (5) - Location', 'Sales Volume (9) - Location',\n",
       "       'Business Status Code', 'Industry Specific First Byte',\n",
       "       'Year Established', 'Office Size Code', 'Company Holding Status', 'ABI',\n",
       "       'Subsidiary Number', 'Parent Number', 'Parent Actual Employee Size',\n",
       "       'Parent Actual Sales Volume', 'Parent Employee Size Code',\n",
       "       'Parent Sales Volume Code', 'Site Number', 'Address Type Indicator',\n",
       "       'Population Code', 'Census Tract', 'Census Block', 'Latitude',\n",
       "       'Longitude', 'Match Code', 'CBSA Code', 'CBSA Level', 'CSA Code',\n",
       "       'FIPS Code', 'Gender'],\n",
       "      dtype='object')"
      ]
     },
     "execution_count": 5,
     "metadata": {},
     "output_type": "execute_result"
    }
   ],
   "source": [
    "df.columns"
   ]
  },
  {
   "cell_type": "code",
   "execution_count": 2,
   "metadata": {},
   "outputs": [
    {
     "data": {
      "text/plain": [
       "2    12527396\n",
       "1     1322584\n",
       "Name: CBSA Level, dtype: int64"
      ]
     },
     "execution_count": 2,
     "metadata": {},
     "output_type": "execute_result"
    }
   ],
   "source": [
    "df['CBSA Level'].value_counts()"
   ]
  },
  {
   "cell_type": "code",
   "execution_count": 3,
   "metadata": {},
   "outputs": [
    {
     "data": {
      "text/plain": [
       "977172"
      ]
     },
     "execution_count": 3,
     "metadata": {},
     "output_type": "execute_result"
    }
   ],
   "source": [
    "len(df[df['CBSA Level'].isnull()])"
   ]
  },
  {
   "cell_type": "code",
   "execution_count": 8,
   "metadata": {},
   "outputs": [
    {
     "data": {
      "text/html": [
       "<div>\n",
       "<style scoped>\n",
       "    .dataframe tbody tr th:only-of-type {\n",
       "        vertical-align: middle;\n",
       "    }\n",
       "\n",
       "    .dataframe tbody tr th {\n",
       "        vertical-align: top;\n",
       "    }\n",
       "\n",
       "    .dataframe thead th {\n",
       "        text-align: right;\n",
       "    }\n",
       "</style>\n",
       "<table border=\"1\" class=\"dataframe\">\n",
       "  <thead>\n",
       "    <tr style=\"text-align: right;\">\n",
       "      <th></th>\n",
       "      <th>County Code</th>\n",
       "      <th>FIPS Code</th>\n",
       "      <th>ZipCode</th>\n",
       "      <th>Zip4</th>\n",
       "      <th>Area Code</th>\n",
       "      <th>CSA Code</th>\n",
       "      <th>CBSA Code</th>\n",
       "    </tr>\n",
       "  </thead>\n",
       "  <tbody>\n",
       "    <tr>\n",
       "      <th>0</th>\n",
       "      <td>001</td>\n",
       "      <td>72001</td>\n",
       "      <td>00601</td>\n",
       "      <td>NaN</td>\n",
       "      <td>939</td>\n",
       "      <td>000</td>\n",
       "      <td>00000</td>\n",
       "    </tr>\n",
       "    <tr>\n",
       "      <th>1</th>\n",
       "      <td>001</td>\n",
       "      <td>72001</td>\n",
       "      <td>00601</td>\n",
       "      <td>2142</td>\n",
       "      <td>787</td>\n",
       "      <td>000</td>\n",
       "      <td>00000</td>\n",
       "    </tr>\n",
       "    <tr>\n",
       "      <th>2</th>\n",
       "      <td>001</td>\n",
       "      <td>72001</td>\n",
       "      <td>00601</td>\n",
       "      <td>2232</td>\n",
       "      <td>787</td>\n",
       "      <td>000</td>\n",
       "      <td>00000</td>\n",
       "    </tr>\n",
       "    <tr>\n",
       "      <th>3</th>\n",
       "      <td>001</td>\n",
       "      <td>72001</td>\n",
       "      <td>00601</td>\n",
       "      <td>NaN</td>\n",
       "      <td>787</td>\n",
       "      <td>000</td>\n",
       "      <td>00000</td>\n",
       "    </tr>\n",
       "    <tr>\n",
       "      <th>4</th>\n",
       "      <td>001</td>\n",
       "      <td>72001</td>\n",
       "      <td>00601</td>\n",
       "      <td>2337</td>\n",
       "      <td>787</td>\n",
       "      <td>000</td>\n",
       "      <td>00000</td>\n",
       "    </tr>\n",
       "  </tbody>\n",
       "</table>\n",
       "</div>"
      ],
      "text/plain": [
       "  County Code FIPS Code ZipCode  Zip4 Area Code CSA Code CBSA Code\n",
       "0         001     72001   00601   NaN       939      000     00000\n",
       "1         001     72001   00601  2142       787      000     00000\n",
       "2         001     72001   00601  2232       787      000     00000\n",
       "3         001     72001   00601   NaN       787      000     00000\n",
       "4         001     72001   00601  2337       787      000     00000"
      ]
     },
     "execution_count": 8,
     "metadata": {},
     "output_type": "execute_result"
    }
   ],
   "source": [
    "df[['County Code','FIPS Code','ZipCode','Zip4','Area Code','CSA Code','CBSA Code']].head()"
   ]
  },
  {
   "cell_type": "code",
   "execution_count": 9,
   "metadata": {},
   "outputs": [],
   "source": [
    "dfx = pd.read_csv('/InfoGroup/data/rurality/InfoGroup_2017_step3.csv',dtype=object)"
   ]
  },
  {
   "cell_type": "code",
   "execution_count": 10,
   "metadata": {},
   "outputs": [
    {
     "data": {
      "text/plain": [
       "Index(['Company', 'Address Line 1', 'City', 'State', 'ZipCode', 'Zip4',\n",
       "       'County Code', 'Area Code', 'IDCode', 'Location Employee Size Code',\n",
       "       'Location Sales Volume Code', 'Primary SIC Code', 'SIC6_Descriptions',\n",
       "       'Primary NAICS Code', 'NAICS8 Descriptions', 'SIC Code',\n",
       "       'SIC6_Descriptions (SIC)', 'SIC Code 1', 'SIC6_Descriptions (SIC1)',\n",
       "       'SIC Code 2', 'SIC6_Descriptions(SIC2)', 'SIC Code 3',\n",
       "       'SIC6_Descriptions(SIC3)', 'SIC Code 4', 'SIC6_Descriptions(SIC4)',\n",
       "       'Archive Version Year', 'Yellow Page Code',\n",
       "       'Employee Size (5) - Location', 'Sales Volume (9) - Location',\n",
       "       'Business Status Code', 'Industry Specific First Byte',\n",
       "       'Year Established', 'Office Size Code', 'Company Holding Status', 'ABI',\n",
       "       'Subsidiary Number', 'Parent Number', 'Parent Actual Employee Size',\n",
       "       'Parent Actual Sales Volume', 'Parent Employee Size Code',\n",
       "       'Parent Sales Volume Code', 'Site Number', 'Address Type Indicator',\n",
       "       'Population Code', 'Census Tract', 'Census Block', 'Latitude',\n",
       "       'Longitude', 'Match Code', 'CBSA Code', 'CBSA Level', 'CSA Code',\n",
       "       'FIPS Code', 'UA Code', 'UA Type', 'Full Census Tract', 'rural_by_UA',\n",
       "       'rural_HRSA', 'far1', 'far2', 'far3', 'far4', 'FAR Level',\n",
       "       'rural_tract'],\n",
       "      dtype='object')"
      ]
     },
     "execution_count": 10,
     "metadata": {},
     "output_type": "execute_result"
    }
   ],
   "source": [
    "dfx.columns"
   ]
  },
  {
   "cell_type": "code",
   "execution_count": 11,
   "metadata": {},
   "outputs": [
    {
     "data": {
      "text/plain": [
       "Urban Cluster     7480232\n",
       "Urbanized Area    5562183\n",
       "Name: UA Type, dtype: int64"
      ]
     },
     "execution_count": 11,
     "metadata": {},
     "output_type": "execute_result"
    }
   ],
   "source": [
    "dfx['UA Type'].value_counts()"
   ]
  },
  {
   "cell_type": "code",
   "execution_count": 12,
   "metadata": {},
   "outputs": [
    {
     "data": {
      "text/plain": [
       "1784737"
      ]
     },
     "execution_count": 12,
     "metadata": {},
     "output_type": "execute_result"
    }
   ],
   "source": [
    "len(df[dfx['UA Type'].isnull()])"
   ]
  },
  {
   "cell_type": "code",
   "execution_count": null,
   "metadata": {},
   "outputs": [],
   "source": []
  }
 ],
 "metadata": {
  "kernelspec": {
   "display_name": "Python 3",
   "language": "python",
   "name": "python3"
  },
  "language_info": {
   "codemirror_mode": {
    "name": "ipython",
    "version": 3
   },
   "file_extension": ".py",
   "mimetype": "text/x-python",
   "name": "python",
   "nbconvert_exporter": "python",
   "pygments_lexer": "ipython3",
   "version": "3.8.2"
  }
 },
 "nbformat": 4,
 "nbformat_minor": 4
}

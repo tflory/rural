{
 "cells": [
  {
   "cell_type": "code",
   "execution_count": 7,
   "metadata": {
    "ExecuteTime": {
     "end_time": "2020-08-05T19:29:46.418051Z",
     "start_time": "2020-08-05T19:29:46.411514Z"
    }
   },
   "outputs": [],
   "source": [
    "import pandas as pd\n",
    "import numpy as np\n",
    "import re\n",
    "from datetime import datetime\n",
    "\n",
    "import warnings\n",
    "warnings.filterwarnings(\"ignore\")"
   ]
  },
  {
   "cell_type": "markdown",
   "metadata": {},
   "source": [
    "## Main functions"
   ]
  },
  {
   "cell_type": "code",
   "execution_count": 8,
   "metadata": {
    "ExecuteTime": {
     "end_time": "2020-08-05T19:29:46.433613Z",
     "start_time": "2020-08-05T19:29:46.420320Z"
    }
   },
   "outputs": [],
   "source": [
    "def create_df(yr):\n",
    "    \"\"\" Create a dataframe from the csv file saved in step 1. \"\"\"\n",
    "    return pd.read_csv(f'/InfoGroup/data/rurality/step1_{yr}.csv',dtype=object)\n",
    "    \n",
    "def new_vars(df):\n",
    "    \"\"\" Create new variables 'UA Code', 'UA Type' and 'Full Census Tract' \"\"\"\n",
    "    print(f'rural/urban by OMB standard:',file=logfile)\n",
    "    df['UA Code'] = df['CBSA Code'].apply(find_ua)\n",
    "    \n",
    "    showtime('\\tnew_vars UA Code')\n",
    "    df['UA Type'] = df['UA Code'].apply(get_ua_type)\n",
    "    showtime('\\tnew_vars UA Type')\n",
    "    print(df['UA Type'].value_counts(),file=logfile)\n",
    "    print(df['UA Type'].value_counts(normalize=True) * 100,file=logfile)\n",
    "    \n",
    "    df['Census Tract'].fillna('999999',inplace=True)\n",
    "    df['FIPS Code'].fillna('99999',inplace=True)\n",
    "    df['Full Census Tract'] = df.apply(full_tract,axis=1)\n",
    "    showtime('\\tnew_vars Full Census Tract')\n",
    "    return df\n"
   ]
  },
  {
   "cell_type": "markdown",
   "metadata": {},
   "source": [
    "## Little functions"
   ]
  },
  {
   "cell_type": "code",
   "execution_count": 9,
   "metadata": {
    "ExecuteTime": {
     "end_time": "2020-08-05T19:29:46.447795Z",
     "start_time": "2020-08-05T19:29:46.436243Z"
    }
   },
   "outputs": [],
   "source": [
    "def find_ua(code):\n",
    "    \"\"\"Get the UA code that matches a particular CBSA code in the census relationship file.\"\"\"\n",
    "    for pair in pairs:\n",
    "        if pair[1] == code:\n",
    "            return pair[0]\n",
    "\n",
    "def ua_type(place):\n",
    "    \"\"\"Create the UA Type value by skimming the last two words off the \n",
    "       relationship file's UANAME value.\n",
    "    \"\"\"\n",
    "    if place.find('Not in a 2010 urban area') != -1:\n",
    "        return np.nan\n",
    "    else:\n",
    "        list = re.findall(\"(\\S+)\",place)\n",
    "        return ' '.join(list[len(list)-2:])\n",
    "\n",
    "def get_ua_type(code):\n",
    "    \"\"\"Return the UA Type value for a UA Code.\"\"\"\n",
    "    try:\n",
    "        return ua_type_dict[code]\n",
    "    except KeyError:\n",
    "        return np.nan\n",
    "\n",
    "def full_tract(row):\n",
    "    if row['FIPS Code'] == 99999 or row['Census Tract'] == 999999:\n",
    "        return np.nan\n",
    "    else:\n",
    "        return str(row['FIPS Code']) + str(row['Census Tract'])\n",
    "        \n",
    "def showtime(num):\n",
    "    now = datetime.now()\n",
    "    dt_string = now.strftime(\"%d/%m/%Y %H:%M:%S\")\n",
    "    print(str(num),'  ',dt_string)\t"
   ]
  },
  {
   "cell_type": "markdown",
   "metadata": {},
   "source": [
    "## Reference datasets and derived data structures"
   ]
  },
  {
   "cell_type": "code",
   "execution_count": 10,
   "metadata": {
    "ExecuteTime": {
     "end_time": "2020-08-05T19:29:46.535830Z",
     "start_time": "2020-08-05T19:29:46.450107Z"
    }
   },
   "outputs": [],
   "source": [
    "# Census relationship files: CBSAs to counties\n",
    "cbsa_df = pd.read_csv(f'/home/tflory/notebooks/InfoGroup/rurality/Relationship_Files/cbsa-county-relationships-2017.csv',usecols=['STCOU','CBSA','LSAD'])\n",
    "cbsa_df.fillna('-9',inplace=True)\n",
    "cbsa_df.rename(columns={'STCOU':'FIPS Code'},inplace=True)\n",
    "cbsa_df['FIPS Code'] = cbsa_df['FIPS Code'].astype(int)\n",
    "\n",
    "# Census relationship files: Urban Areas to CBSAs\n",
    "relationship = '/home/tflory/notebooks/InfoGroup/rurality/Relationship_Files/Urban_Area_to_Metro_Micro_Area_utf-8.csv'\n",
    "rel = pd.read_csv(relationship,dtype=object)\n",
    "rel['UA Type'] = rel['UANAME'].apply(ua_type)\n",
    "\n",
    "# Make a list of lists of all the UA/CBSA pairs in the relationship file.\n",
    "pairs = rel[['UA','CBSA']].values.tolist()\n",
    "# Create a dict with the UA as key and the UA Type as value.\n",
    "ua_type_dict = {}\n",
    "for v in rel[['UA','UA Type']].values.tolist():\n",
    "    ua_type_dict[v[0]] = v[1]"
   ]
  },
  {
   "cell_type": "markdown",
   "metadata": {},
   "source": [
    "## Main"
   ]
  },
  {
   "cell_type": "code",
   "execution_count": 11,
   "metadata": {
    "ExecuteTime": {
     "end_time": "2020-08-05T19:29:46.541221Z",
     "start_time": "2020-08-05T19:29:46.537969Z"
    }
   },
   "outputs": [],
   "source": [
    "# open log file\n",
    "logfile = open('/InfoGroup/data/rurality/logs/step2.log','w')"
   ]
  },
  {
   "cell_type": "code",
   "execution_count": 12,
   "metadata": {
    "ExecuteTime": {
     "end_time": "2020-08-05T20:14:06.088673Z",
     "start_time": "2020-08-05T19:29:46.543159Z"
    }
   },
   "outputs": [
    {
     "name": "stdout",
     "output_type": "stream",
     "text": [
      "\n",
      "start 1997:    09/08/2020 13:29:27\n",
      "create_df    09/08/2020 13:31:15\n",
      "\tnew_vars UA Code    09/08/2020 13:43:33\n",
      "\tnew_vars UA Type    09/08/2020 13:43:36\n",
      "\tnew_vars Full Census Tract    09/08/2020 13:59:51\n",
      "new_vars    09/08/2020 13:59:51\n",
      "finished    09/08/2020 14:02:32\n",
      "\n",
      "start 1998:    09/08/2020 14:02:32\n",
      "create_df    09/08/2020 14:04:32\n",
      "\tnew_vars UA Code    09/08/2020 14:16:40\n",
      "\tnew_vars UA Type    09/08/2020 14:16:42\n",
      "\tnew_vars Full Census Tract    09/08/2020 14:31:59\n",
      "new_vars    09/08/2020 14:32:02\n",
      "finished    09/08/2020 14:34:40\n",
      "\n",
      "start 1999:    09/08/2020 14:34:40\n",
      "create_df    09/08/2020 14:36:32\n",
      "\tnew_vars UA Code    09/08/2020 14:48:41\n",
      "\tnew_vars UA Type    09/08/2020 14:48:43\n",
      "\tnew_vars Full Census Tract    09/08/2020 15:04:31\n",
      "new_vars    09/08/2020 15:04:33\n",
      "finished    09/08/2020 15:07:20\n",
      "\n",
      "start 2000:    09/08/2020 15:07:20\n",
      "create_df    09/08/2020 15:09:21\n",
      "\tnew_vars UA Code    09/08/2020 15:21:51\n",
      "\tnew_vars UA Type    09/08/2020 15:21:54\n",
      "\tnew_vars Full Census Tract    09/08/2020 15:37:29\n",
      "new_vars    09/08/2020 15:37:32\n",
      "finished    09/08/2020 15:40:23\n",
      "\n",
      "start 2001:    09/08/2020 15:40:23\n",
      "create_df    09/08/2020 15:42:41\n",
      "\tnew_vars UA Code    09/08/2020 15:58:00\n",
      "\tnew_vars UA Type    09/08/2020 15:58:03\n",
      "\tnew_vars Full Census Tract    09/08/2020 16:15:51\n",
      "new_vars    09/08/2020 16:15:54\n",
      "finished    09/08/2020 16:18:48\n",
      "\n",
      "start 2002:    09/08/2020 16:18:48\n",
      "create_df    09/08/2020 16:21:05\n",
      "\tnew_vars UA Code    09/08/2020 16:35:17\n",
      "\tnew_vars UA Type    09/08/2020 16:35:20\n",
      "\tnew_vars Full Census Tract    09/08/2020 16:53:44\n",
      "new_vars    09/08/2020 16:53:47\n",
      "finished    09/08/2020 16:57:26\n",
      "\n",
      "start 2003:    09/08/2020 16:57:26\n",
      "create_df    09/08/2020 16:59:41\n",
      "\tnew_vars UA Code    09/08/2020 17:13:59\n",
      "\tnew_vars UA Type    09/08/2020 17:14:02\n",
      "\tnew_vars Full Census Tract    09/08/2020 17:32:03\n",
      "new_vars    09/08/2020 17:32:07\n",
      "finished    09/08/2020 17:34:54\n",
      "\n",
      "start 2004:    09/08/2020 17:34:54\n",
      "create_df    09/08/2020 17:37:04\n",
      "\tnew_vars UA Code    09/08/2020 17:51:30\n",
      "\tnew_vars UA Type    09/08/2020 17:51:33\n",
      "\tnew_vars Full Census Tract    09/08/2020 18:09:24\n",
      "new_vars    09/08/2020 18:09:27\n",
      "finished    09/08/2020 18:12:38\n",
      "\n",
      "start 2005:    09/08/2020 18:12:38\n",
      "create_df    09/08/2020 18:14:55\n",
      "\tnew_vars UA Code    09/08/2020 18:31:06\n",
      "\tnew_vars UA Type    09/08/2020 18:31:09\n",
      "\tnew_vars Full Census Tract    09/08/2020 18:49:50\n",
      "new_vars    09/08/2020 18:49:54\n",
      "finished    09/08/2020 18:53:21\n",
      "\n",
      "start 2006:    09/08/2020 18:53:21\n",
      "create_df    09/08/2020 18:55:33\n",
      "\tnew_vars UA Code    09/08/2020 19:10:36\n",
      "\tnew_vars UA Type    09/08/2020 19:10:39\n",
      "\tnew_vars Full Census Tract    09/08/2020 19:29:17\n",
      "new_vars    09/08/2020 19:29:21\n",
      "finished    09/08/2020 19:32:37\n",
      "\n",
      "start 2007:    09/08/2020 19:32:37\n",
      "create_df    09/08/2020 19:34:43\n",
      "\tnew_vars UA Code    09/08/2020 19:49:54\n",
      "\tnew_vars UA Type    09/08/2020 19:49:57\n",
      "\tnew_vars Full Census Tract    09/08/2020 20:09:13\n",
      "new_vars    09/08/2020 20:09:17\n",
      "finished    09/08/2020 20:12:45\n",
      "\n",
      "start 2008:    09/08/2020 20:12:45\n",
      "create_df    09/08/2020 20:15:11\n",
      "\tnew_vars UA Code    09/08/2020 20:30:48\n",
      "\tnew_vars UA Type    09/08/2020 20:30:51\n",
      "\tnew_vars Full Census Tract    09/08/2020 20:50:24\n",
      "new_vars    09/08/2020 20:50:28\n",
      "finished    09/08/2020 20:53:49\n",
      "\n",
      "start 2009:    09/08/2020 20:53:49\n",
      "create_df    09/08/2020 20:56:06\n",
      "\tnew_vars UA Code    09/08/2020 21:11:08\n",
      "\tnew_vars UA Type    09/08/2020 21:11:11\n",
      "\tnew_vars Full Census Tract    09/08/2020 21:30:24\n",
      "new_vars    09/08/2020 21:30:28\n",
      "finished    09/08/2020 21:33:58\n",
      "\n",
      "start 2010:    09/08/2020 21:33:58\n",
      "create_df    09/08/2020 21:36:14\n",
      "\tnew_vars UA Code    09/08/2020 21:51:32\n",
      "\tnew_vars UA Type    09/08/2020 21:51:35\n",
      "\tnew_vars Full Census Tract    09/08/2020 22:10:59\n",
      "new_vars    09/08/2020 22:11:03\n",
      "finished    09/08/2020 22:14:12\n",
      "\n",
      "start 2011:    09/08/2020 22:14:12\n",
      "create_df    09/08/2020 22:16:04\n",
      "\tnew_vars UA Code    09/08/2020 22:30:39\n",
      "\tnew_vars UA Type    09/08/2020 22:30:42\n",
      "\tnew_vars Full Census Tract    09/08/2020 22:49:51\n",
      "new_vars    09/08/2020 22:49:55\n",
      "finished    09/08/2020 22:52:54\n",
      "\n",
      "start 2012:    09/08/2020 22:52:54\n",
      "create_df    09/08/2020 22:55:20\n",
      "\tnew_vars UA Code    09/08/2020 23:11:21\n",
      "\tnew_vars UA Type    09/08/2020 23:11:24\n",
      "\tnew_vars Full Census Tract    09/08/2020 23:32:09\n",
      "new_vars    09/08/2020 23:32:12\n",
      "finished    09/08/2020 23:35:41\n",
      "\n",
      "start 2013:    09/08/2020 23:35:41\n",
      "create_df    09/08/2020 23:38:22\n",
      "\tnew_vars UA Code    09/08/2020 23:55:39\n",
      "\tnew_vars UA Type    09/08/2020 23:55:43\n",
      "\tnew_vars Full Census Tract    10/08/2020 00:18:40\n",
      "new_vars    10/08/2020 00:18:44\n",
      "finished    10/08/2020 00:22:52\n",
      "\n",
      "start 2014:    10/08/2020 00:22:52\n",
      "create_df    10/08/2020 00:25:16\n",
      "\tnew_vars UA Code    10/08/2020 00:42:29\n",
      "\tnew_vars UA Type    10/08/2020 00:42:33\n",
      "\tnew_vars Full Census Tract    10/08/2020 01:04:45\n",
      "new_vars    10/08/2020 01:04:50\n",
      "finished    10/08/2020 01:08:48\n",
      "\n",
      "start 2015:    10/08/2020 01:08:48\n",
      "create_df    10/08/2020 01:11:23\n",
      "\tnew_vars UA Code    10/08/2020 01:28:04\n",
      "\tnew_vars UA Type    10/08/2020 01:28:08\n",
      "\tnew_vars Full Census Tract    10/08/2020 01:50:07\n",
      "new_vars    10/08/2020 01:50:12\n",
      "finished    10/08/2020 01:54:25\n",
      "\n",
      "start 2016:    10/08/2020 01:54:25\n",
      "create_df    10/08/2020 01:57:06\n",
      "\tnew_vars UA Code    10/08/2020 02:13:51\n",
      "\tnew_vars UA Type    10/08/2020 02:13:54\n",
      "\tnew_vars Full Census Tract    10/08/2020 02:37:16\n",
      "new_vars    10/08/2020 02:37:20\n",
      "finished    10/08/2020 02:41:14\n",
      "\n",
      "start 2017:    10/08/2020 02:41:14\n",
      "create_df    10/08/2020 02:43:43\n",
      "\tnew_vars UA Code    10/08/2020 03:03:18\n",
      "\tnew_vars UA Type    10/08/2020 03:03:22\n",
      "\tnew_vars Full Census Tract    10/08/2020 03:24:16\n",
      "new_vars    10/08/2020 03:24:21\n",
      "finished    10/08/2020 03:28:18\n"
     ]
    }
   ],
   "source": [
    "for yr in range(1997,2018):\n",
    "    showtime(f'\\nstart {yr}:')\n",
    "    df = create_df(yr)\n",
    "    showtime('create_df')\n",
    "    newvars_df = new_vars(df)\n",
    "    showtime('new_vars')\n",
    "    newvars_df.to_csv(f'/InfoGroup/data/rurality/step2_{yr}.csv',index=None)\n",
    "    showtime('finished')"
   ]
  },
  {
   "cell_type": "code",
   "execution_count": 13,
   "metadata": {
    "ExecuteTime": {
     "end_time": "2020-08-05T20:14:06.093576Z",
     "start_time": "2020-08-05T20:14:06.090700Z"
    }
   },
   "outputs": [],
   "source": [
    "logfile.close()"
   ]
  },
  {
   "cell_type": "code",
   "execution_count": null,
   "metadata": {},
   "outputs": [],
   "source": []
  }
 ],
 "metadata": {
  "kernelspec": {
   "display_name": "Python 3",
   "language": "python",
   "name": "python3"
  },
  "language_info": {
   "codemirror_mode": {
    "name": "ipython",
    "version": 3
   },
   "file_extension": ".py",
   "mimetype": "text/x-python",
   "name": "python",
   "nbconvert_exporter": "python",
   "pygments_lexer": "ipython3",
   "version": "3.8.2"
  }
 },
 "nbformat": 4,
 "nbformat_minor": 2
}

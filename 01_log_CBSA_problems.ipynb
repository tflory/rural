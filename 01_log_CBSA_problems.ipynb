{
 "cells": [
  {
   "cell_type": "code",
   "execution_count": null,
   "metadata": {},
   "outputs": [],
   "source": [
    "# default_exp log_cbsa_missing"
   ]
  },
  {
   "cell_type": "markdown",
   "metadata": {},
   "source": [
    " # Log 'CBSA Level' Missing Data\n",
    "> Finds and logs correctable anomalies in the 'CBSA Level' variable."
   ]
  },
  {
   "cell_type": "code",
   "execution_count": null,
   "metadata": {},
   "outputs": [],
   "source": [
    "import pandas as pd\n",
    "import warnings\n",
    "warnings.filterwarnings(\"ignore\")"
   ]
  },
  {
   "cell_type": "code",
   "execution_count": null,
   "metadata": {},
   "outputs": [],
   "source": [
    "def count_nans(s):\n",
    "    \"\"\"Count the number of missing values in a set of floats\"\"\"\n",
    "    c = [str(item) for item in list(s)]\n",
    "    return c.count('nan')"
   ]
  },
  {
   "cell_type": "code",
   "execution_count": null,
   "metadata": {},
   "outputs": [],
   "source": [
    "# Open a logging file\n",
    "logfile = open('001-CBSA.log','a')"
   ]
  },
  {
   "cell_type": "code",
   "execution_count": null,
   "metadata": {},
   "outputs": [],
   "source": [
    "for yr in range(1997,2018):\n",
    "    fname = f'/InfoGroup/data/rurality/df_{yr}_uncorrected.csv'\n",
    "    df = pd.read_csv(fname,dtype=object)\n",
    "    unknown = df[(df['CBSA Code']!='00000') & (df['CBSA Level']=='0')]\n",
    "    \n",
    "    # 'unknown' is a dataframe containing cases in with there is a valid CBSA Code but a\n",
    "    # missing CBSA Level value. If unknown is empty, not further action is needed in this\n",
    "    # module for that year.\n",
    "    logfile.write(f'\\nNumber of unknown cases in {yr}: ' + str(len(unknown)) + \"\\n\")\n",
    "    \n",
    "    # 'unk_cbsas' is the set of values on 'CBSA Code' among records with a non-zero CBSA Code and\n",
    "    # CBSA Level value of zero. It is expected that this will always be {nan}, requiring some \n",
    "    # lookup of proper identifiers for the small number of cases in each year. If unk_cbsas is \n",
    "    # an empty list, no corrections are necessary.\n",
    "    unk_cbsas = unknown['CBSA Code'].tolist()\n",
    "    unk_cbsas = set(unk_cbsas)\n",
    "    unknowns = len(unk_cbsas)\n",
    "    if unknowns == 0:\n",
    "        logfile.write(f'No unknowns in {yr}' + \"\\n\")\n",
    "    else:\n",
    "        logfile.write(f'Number of unknown values in {yr}: ' + str(len(unk_cbsas)) + \"\\n\")\n",
    "        nans = count_nans(unk_cbsas)\n",
    "        if nans == unknowns:\n",
    "            logfile.write('\\tAll are missing' + \"\\n\")\n",
    "        else:\n",
    "            logfile.write('\\tNot all are missing' + \"\\n\")"
   ]
  },
  {
   "cell_type": "code",
   "execution_count": null,
   "metadata": {},
   "outputs": [],
   "source": [
    "logfile.close()"
   ]
  },
  {
   "cell_type": "code",
   "execution_count": null,
   "metadata": {},
   "outputs": [],
   "source": []
  }
 ],
 "metadata": {
  "kernelspec": {
   "display_name": "Python 3",
   "language": "python",
   "name": "python3"
  }
 },
 "nbformat": 4,
 "nbformat_minor": 4
}

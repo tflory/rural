{
 "cells": [
  {
   "cell_type": "code",
   "execution_count": 1,
   "metadata": {
    "ExecuteTime": {
     "end_time": "2020-03-22T16:59:14.901825Z",
     "start_time": "2020-03-22T16:59:13.206972Z"
    }
   },
   "outputs": [],
   "source": [
    "%matplotlib inline\n",
    "import matplotlib.pyplot as plt\n",
    "import pandas as pd\n",
    "import geopandas as gpd\n",
    "import keplergl\n",
    "#from shapely.geometry import Point, Polygon"
   ]
  },
  {
   "cell_type": "raw",
   "metadata": {},
   "source": [
    "kepler.gl only supports the projection coordinate system: Web Mercator EPSG:3857 -- WGS84"
   ]
  },
  {
   "cell_type": "code",
   "execution_count": 2,
   "metadata": {
    "ExecuteTime": {
     "end_time": "2020-03-22T16:59:20.123689Z",
     "start_time": "2020-03-22T16:59:20.118608Z"
    }
   },
   "outputs": [],
   "source": [
    "# DONE:\n",
    "# Add employment data.\n",
    "# Create 'ag' firm flag which can be changed to a different criterion at any time.\n",
    "# ag-firm flag, rural flag, and employment in each spatial unit.\n",
    "\n",
    "# What do I want?\n",
    "# 1. Total employment in ag firms in the urban and non-urban areas of each state.\n",
    "# 2. The ratio of urban to rural employment in ag firms in each county."
   ]
  },
  {
   "cell_type": "code",
   "execution_count": 3,
   "metadata": {
    "ExecuteTime": {
     "end_time": "2020-03-22T17:00:48.881707Z",
     "start_time": "2020-03-22T16:59:20.126119Z"
    }
   },
   "outputs": [
    {
     "name": "stdout",
     "output_type": "stream",
     "text": [
      "CPU times: user 1min 11s, sys: 57.2 s, total: 2min 8s\n",
      "Wall time: 1min 28s\n"
     ]
    },
    {
     "data": {
      "text/plain": [
       "Index(['Company', 'Address Line 1', 'City', 'State', 'ZipCode', 'County Code',\n",
       "       'Primary NAICS Code', 'Employee Size (5) - Location', 'Census Tract',\n",
       "       'Census Block', 'Latitude', 'Longitude', 'CBSA Code', 'CBSA Level',\n",
       "       'CSA Code', 'FIPS Code', 'State FIPS', 'NAICS2', 'NAICS2 desc', 'UA',\n",
       "       'NAICS6', 'NAICS6 desc', 'rural_OMB', 'rural_Census',\n",
       "       'Full Census Tract', 'rural_HRSA', 'ag_flag'],\n",
       "      dtype='object')"
      ]
     },
     "execution_count": 3,
     "metadata": {},
     "output_type": "execute_result"
    }
   ],
   "source": [
    "%%time\n",
    "year = 2017\n",
    "infile = 'data/df_%d_OMB_Census_HRSA_with_ag_flag.csv' % year\n",
    "df = pd.read_csv(infile)\n",
    "df['Longitude'] = df['Longitude'].astype(float)\n",
    "df['Latitude'] = df['Latitude'].astype(float)\n",
    "df.columns"
   ]
  },
  {
   "cell_type": "code",
   "execution_count": 4,
   "metadata": {
    "ExecuteTime": {
     "end_time": "2020-03-22T17:00:52.867902Z",
     "start_time": "2020-03-22T17:00:48.884689Z"
    }
   },
   "outputs": [],
   "source": [
    "# Remove Alaska and Hawaii for now.\n",
    "df = df[~df['State'].isin(['HI','AK'])]"
   ]
  },
  {
   "cell_type": "code",
   "execution_count": 5,
   "metadata": {
    "ExecuteTime": {
     "end_time": "2020-03-22T17:00:52.873576Z",
     "start_time": "2020-03-22T17:00:52.870720Z"
    }
   },
   "outputs": [],
   "source": [
    "# BEGIN -- state-level files with and without the rural_Census distinction with the locational\n",
    "# variables being versions of the geographical midpoint of each state. Used for hexbin keplergl maps."
   ]
  },
  {
   "cell_type": "code",
   "execution_count": 6,
   "metadata": {
    "ExecuteTime": {
     "end_time": "2020-03-22T17:00:53.003923Z",
     "start_time": "2020-03-22T17:00:52.875731Z"
    }
   },
   "outputs": [
    {
     "name": "stdout",
     "output_type": "stream",
     "text": [
      "14621688 original records. 50091 ag firms selected.\n"
     ]
    }
   ],
   "source": [
    "# Select only the ag businesses. These are defined very exclusively by NAICS in an earlier notebook and will be\n",
    "# more numerous in the future when we have a better definition.\n",
    "df_len = len(df)\n",
    "ag_df = df[df['ag_flag'] == True]\n",
    "print(str(df_len),'original records.', str(len(ag_df)),'ag firms selected.')"
   ]
  },
  {
   "cell_type": "code",
   "execution_count": 7,
   "metadata": {
    "ExecuteTime": {
     "end_time": "2020-03-22T17:00:53.038022Z",
     "start_time": "2020-03-22T17:00:53.006267Z"
    }
   },
   "outputs": [],
   "source": [
    "# State midpoint coordinates are from Wikipedia.\n",
    "state_midpoints = {\n",
    "'Alabama' : [32.7794,-86.8287],\n",
    "'Alaska' : [64.0685,-152.2782],\n",
    "'Arizona' : [34.2744,-111.6602],\n",
    "'Arkansas' : [34.8938,-92.4426],\n",
    "'California' : [37.1841,-119.4696],\n",
    "'Colorado' : [38.9972,-105.5478],\n",
    "'Connecticut' : [41.6219,-72.7273],\n",
    "'Delaware' : [38.9896,-75.5050],\n",
    "'District of Columbia' : [38.9101,-77.0147],\n",
    "'Florida' : [28.6305,-82.4497],\n",
    "'Georgia' : [32.6415,-83.4426],\n",
    "'Hawaii' : [20.2927,-156.3737],\n",
    "'Idaho' : [44.3509,-114.6130],\n",
    "'Illinois' : [40.0417,-89.1965],\n",
    "'Indiana' : [39.8942,-86.2816],\n",
    "'Iowa' : [42.0751,-93.4960],\n",
    "'Kansas' : [38.4937,-98.3804],\n",
    "'Kentucky' : [37.5347,-85.3021],\n",
    "'Louisiana' : [31.0689,-91.9968],\n",
    "'Maine' : [45.3695,-69.2428],\n",
    "'Maryland' : [39.0550,-76.7909],\n",
    "'Massachusetts' : [42.2596,-71.8083],\n",
    "'Michigan' : [44.3467,-85.4102],\n",
    "'Minnesota' : [46.2807,-94.3053],\n",
    "'Mississippi' : [32.7364,-89.6678],\n",
    "'Missouri' : [38.3566,-92.4580],\n",
    "'Montana' : [47.0527,-109.6333],\n",
    "'Nebraska' : [41.5378,-99.7951],\n",
    "'Nevada' : [39.3289,-116.6312],\n",
    "'New Hampshire' : [43.6805,-71.5811],\n",
    "'New Jersey' : [40.1907,-74.6728],\n",
    "'New Mexico' : [34.4071,-106.1126],\n",
    "'New York' : [42.9538,-75.5268],\n",
    "'North Carolina' : [35.5557,-79.3877],\n",
    "'North Dakota' : [47.4501,-100.4659],\n",
    "'Ohio' : [40.2862,-82.7937],\n",
    "'Oklahoma' : [35.5889,-97.4943],\n",
    "'Oregon' : [43.9336,-120.5583],\n",
    "'Pennsylvania' : [40.8781,-77.7996],\n",
    "'Rhode Island' : [41.6762,-71.5562],\n",
    "'South Carolina' : [33.9169,-80.8964],\n",
    "'South Dakota' : [44.4443,-100.2263],\n",
    "'Tennessee' : [35.8580,-86.3505],\n",
    "'Texas' : [31.4757,-99.3312],\n",
    "'Utah' : [39.3055,-111.6703],\n",
    "'Vermont' : [44.0687,-72.6658],\n",
    "'Virginia' : [37.5215,-78.8537],\n",
    "'Washington' : [47.3826,-120.4472],\n",
    "'West Virginia' : [38.6409,-80.6227],\n",
    "'Wisconsin' : [44.6243,-89.9941],\n",
    "'Wyoming' : [42.9957,-107.551],\n",
    "}\n",
    "\n",
    "state_abbrevs = {\n",
    "'AL':'Alabama',\n",
    "'AK':'Alaska',\n",
    "'AZ':'Arizona',\n",
    "'AR':'Arkansas',\n",
    "'CA':'California',\n",
    "'CO':'Colorado',\n",
    "'CT':'Connecticut',\n",
    "'DE':'Delaware',\n",
    "'DC':'District of Columbia',\n",
    "'FL':'Florida',\n",
    "'GA':'Georgia',\n",
    "'HI':'Hawaii',\n",
    "'ID':'Idaho',\n",
    "'IL':'Illinois',\n",
    "'IN':'Indiana',\n",
    "'IA':'Iowa',\n",
    "'KS':'Kansas',\n",
    "'KY':'Kentucky',\n",
    "'LA':'Louisiana',\n",
    "'ME':'Maine',\n",
    "'MD':'Maryland',\n",
    "'MA':'Massachusetts',\n",
    "'MI':'Michigan',\n",
    "'MN':'Minnesota',\n",
    "'MS':'Mississippi',\n",
    "'MO':'Missouri',\n",
    "'MT':'Montana',\n",
    "'NE':'Nebraska',\n",
    "'NV':'Nevada',\n",
    "'NH':'New Hampshire',\n",
    "'NJ':'New Jersey',\n",
    "'NM':'New Mexico',\n",
    "'NY':'New York',\n",
    "'NC':'North Carolina',\n",
    "'ND':'North Dakota',\n",
    "'OH':'Ohio',\n",
    "'OK':'Oklahoma',\n",
    "'OR':'Oregon',\n",
    "'PA':'Pennsylvania',\n",
    "'RI':'Rhode Island',\n",
    "'SC':'South Carolina',\n",
    "'SD':'South Dakota',\n",
    "'TN':'Tennessee',\n",
    "'TX':'Texas',\n",
    "'UT':'Utah',\n",
    "'VT':'Vermont',\n",
    "'VA':'Virginia',\n",
    "'WA':'Washington',\n",
    "'WV':'West Virginia',\n",
    "'WI':'Wisconsin',\n",
    "'WY':'Wyoming'\n",
    "}\n",
    "\n",
    "# How to get coordinates with only the abbreviation\n",
    "#for k in state_abbrevs:\n",
    "#    print(k, state_midpoints[state_abbrevs[k]])"
   ]
  },
  {
   "cell_type": "code",
   "execution_count": 8,
   "metadata": {
    "ExecuteTime": {
     "end_time": "2020-03-22T17:00:53.054999Z",
     "start_time": "2020-03-22T17:00:53.040192Z"
    }
   },
   "outputs": [],
   "source": [
    "# Eliminate unnecessary variables\n",
    "ag_df2 = ag_df[['State','rural_Census','Employee Size (5) - Location']]"
   ]
  },
  {
   "cell_type": "code",
   "execution_count": 9,
   "metadata": {
    "ExecuteTime": {
     "end_time": "2020-03-22T17:00:53.072083Z",
     "start_time": "2020-03-22T17:00:53.059502Z"
    }
   },
   "outputs": [
    {
     "data": {
      "text/plain": [
       "Index(['State', 'rural_Census', 'Employee Size (5) - Location'], dtype='object')"
      ]
     },
     "execution_count": 9,
     "metadata": {},
     "output_type": "execute_result"
    }
   ],
   "source": [
    "ag_df2.columns"
   ]
  },
  {
   "cell_type": "code",
   "execution_count": 10,
   "metadata": {
    "ExecuteTime": {
     "end_time": "2020-03-22T17:00:53.082349Z",
     "start_time": "2020-03-22T17:00:53.075790Z"
    }
   },
   "outputs": [],
   "source": [
    "# Get Polygon coordinates for each state."
   ]
  },
  {
   "cell_type": "raw",
   "metadata": {},
   "source": [
    "states_gdf = gpd.read_file('map_files/tl_2017_us_state.shp')\n",
    "states_df = pd.DataFrame(states_gdf)\n",
    "to_omit = set(['AS','GU','MP','PR','VI','HI','AK'])\n",
    "states_df = states_df[~states_df['STUSPS'].isin(to_omit)]\n",
    "states_df.columns"
   ]
  },
  {
   "cell_type": "markdown",
   "metadata": {},
   "source": [
    "states_df = states_df[['STUSPS','geometry']]\n",
    "states_df.rename(columns={'STUSPS': 'State'},inplace=True)"
   ]
  },
  {
   "cell_type": "code",
   "execution_count": 11,
   "metadata": {
    "ExecuteTime": {
     "end_time": "2020-03-22T17:00:53.177483Z",
     "start_time": "2020-03-22T17:00:53.085169Z"
    }
   },
   "outputs": [],
   "source": [
    "# 1. Total employment in ag firms in the urban and non-urban areas of each state.\n",
    "ag_state_grouped = ag_df2.groupby(['State']).agg({'Employee Size (5) - Location' : 'sum'}).reset_index()\n",
    "ag_rural_grouped = ag_df2.groupby(['State','rural_Census']).agg({'Employee Size (5) - Location' : 'sum'}).reset_index()"
   ]
  },
  {
   "cell_type": "code",
   "execution_count": 12,
   "metadata": {
    "ExecuteTime": {
     "end_time": "2020-03-22T17:00:53.212736Z",
     "start_time": "2020-03-22T17:00:53.179690Z"
    }
   },
   "outputs": [
    {
     "data": {
      "text/html": [
       "<div>\n",
       "<style scoped>\n",
       "    .dataframe tbody tr th:only-of-type {\n",
       "        vertical-align: middle;\n",
       "    }\n",
       "\n",
       "    .dataframe tbody tr th {\n",
       "        vertical-align: top;\n",
       "    }\n",
       "\n",
       "    .dataframe thead th {\n",
       "        text-align: right;\n",
       "    }\n",
       "</style>\n",
       "<table border=\"1\" class=\"dataframe\">\n",
       "  <thead>\n",
       "    <tr style=\"text-align: right;\">\n",
       "      <th></th>\n",
       "      <th>State</th>\n",
       "      <th>rural_Census</th>\n",
       "      <th>Employee Size (5) - Location</th>\n",
       "    </tr>\n",
       "  </thead>\n",
       "  <tbody>\n",
       "    <tr>\n",
       "      <td>0</td>\n",
       "      <td>AL</td>\n",
       "      <td>0</td>\n",
       "      <td>5999.0</td>\n",
       "    </tr>\n",
       "    <tr>\n",
       "      <td>1</td>\n",
       "      <td>AL</td>\n",
       "      <td>1</td>\n",
       "      <td>1416.0</td>\n",
       "    </tr>\n",
       "    <tr>\n",
       "      <td>2</td>\n",
       "      <td>AR</td>\n",
       "      <td>0</td>\n",
       "      <td>9254.0</td>\n",
       "    </tr>\n",
       "    <tr>\n",
       "      <td>3</td>\n",
       "      <td>AR</td>\n",
       "      <td>1</td>\n",
       "      <td>2640.0</td>\n",
       "    </tr>\n",
       "    <tr>\n",
       "      <td>4</td>\n",
       "      <td>AZ</td>\n",
       "      <td>0</td>\n",
       "      <td>9713.0</td>\n",
       "    </tr>\n",
       "  </tbody>\n",
       "</table>\n",
       "</div>"
      ],
      "text/plain": [
       "  State  rural_Census  Employee Size (5) - Location\n",
       "0    AL             0                        5999.0\n",
       "1    AL             1                        1416.0\n",
       "2    AR             0                        9254.0\n",
       "3    AR             1                        2640.0\n",
       "4    AZ             0                        9713.0"
      ]
     },
     "execution_count": 12,
     "metadata": {},
     "output_type": "execute_result"
    }
   ],
   "source": [
    "ag_rural_grouped.head()"
   ]
  },
  {
   "cell_type": "raw",
   "metadata": {},
   "source": [
    "ag_state_grouped2 = ag_state_grouped.merge(states_df,on='State',how='left')\n",
    "ag_rural_grouped2 = ag_rural_grouped.merge(states_df,on='State',how='left')"
   ]
  },
  {
   "cell_type": "code",
   "execution_count": 13,
   "metadata": {
    "ExecuteTime": {
     "end_time": "2020-03-22T17:00:53.226450Z",
     "start_time": "2020-03-22T17:00:53.214969Z"
    }
   },
   "outputs": [
    {
     "data": {
      "text/html": [
       "<div>\n",
       "<style scoped>\n",
       "    .dataframe tbody tr th:only-of-type {\n",
       "        vertical-align: middle;\n",
       "    }\n",
       "\n",
       "    .dataframe tbody tr th {\n",
       "        vertical-align: top;\n",
       "    }\n",
       "\n",
       "    .dataframe thead th {\n",
       "        text-align: right;\n",
       "    }\n",
       "</style>\n",
       "<table border=\"1\" class=\"dataframe\">\n",
       "  <thead>\n",
       "    <tr style=\"text-align: right;\">\n",
       "      <th></th>\n",
       "      <th>State</th>\n",
       "      <th>Total Employment</th>\n",
       "    </tr>\n",
       "  </thead>\n",
       "  <tbody>\n",
       "    <tr>\n",
       "      <td>0</td>\n",
       "      <td>AL</td>\n",
       "      <td>7415.0</td>\n",
       "    </tr>\n",
       "    <tr>\n",
       "      <td>1</td>\n",
       "      <td>AR</td>\n",
       "      <td>11894.0</td>\n",
       "    </tr>\n",
       "    <tr>\n",
       "      <td>2</td>\n",
       "      <td>AZ</td>\n",
       "      <td>10118.0</td>\n",
       "    </tr>\n",
       "    <tr>\n",
       "      <td>3</td>\n",
       "      <td>CA</td>\n",
       "      <td>103383.0</td>\n",
       "    </tr>\n",
       "    <tr>\n",
       "      <td>4</td>\n",
       "      <td>CO</td>\n",
       "      <td>10206.0</td>\n",
       "    </tr>\n",
       "  </tbody>\n",
       "</table>\n",
       "</div>"
      ],
      "text/plain": [
       "  State  Total Employment\n",
       "0    AL            7415.0\n",
       "1    AR           11894.0\n",
       "2    AZ           10118.0\n",
       "3    CA          103383.0\n",
       "4    CO           10206.0"
      ]
     },
     "execution_count": 13,
     "metadata": {},
     "output_type": "execute_result"
    }
   ],
   "source": [
    "ag_state_grouped.rename(columns={'Employee Size (5) - Location': 'Total Employment'},inplace=True)\n",
    "ag_state_grouped.head()"
   ]
  },
  {
   "cell_type": "code",
   "execution_count": 14,
   "metadata": {
    "ExecuteTime": {
     "end_time": "2020-03-22T17:00:53.246770Z",
     "start_time": "2020-03-22T17:00:53.228405Z"
    }
   },
   "outputs": [
    {
     "data": {
      "text/html": [
       "<div>\n",
       "<style scoped>\n",
       "    .dataframe tbody tr th:only-of-type {\n",
       "        vertical-align: middle;\n",
       "    }\n",
       "\n",
       "    .dataframe tbody tr th {\n",
       "        vertical-align: top;\n",
       "    }\n",
       "\n",
       "    .dataframe thead th {\n",
       "        text-align: right;\n",
       "    }\n",
       "</style>\n",
       "<table border=\"1\" class=\"dataframe\">\n",
       "  <thead>\n",
       "    <tr style=\"text-align: right;\">\n",
       "      <th></th>\n",
       "      <th>State</th>\n",
       "      <th>rural_Census</th>\n",
       "      <th>Category Employment</th>\n",
       "    </tr>\n",
       "  </thead>\n",
       "  <tbody>\n",
       "    <tr>\n",
       "      <td>0</td>\n",
       "      <td>AL</td>\n",
       "      <td>0</td>\n",
       "      <td>5999.0</td>\n",
       "    </tr>\n",
       "    <tr>\n",
       "      <td>1</td>\n",
       "      <td>AL</td>\n",
       "      <td>1</td>\n",
       "      <td>1416.0</td>\n",
       "    </tr>\n",
       "    <tr>\n",
       "      <td>2</td>\n",
       "      <td>AR</td>\n",
       "      <td>0</td>\n",
       "      <td>9254.0</td>\n",
       "    </tr>\n",
       "    <tr>\n",
       "      <td>3</td>\n",
       "      <td>AR</td>\n",
       "      <td>1</td>\n",
       "      <td>2640.0</td>\n",
       "    </tr>\n",
       "    <tr>\n",
       "      <td>4</td>\n",
       "      <td>AZ</td>\n",
       "      <td>0</td>\n",
       "      <td>9713.0</td>\n",
       "    </tr>\n",
       "  </tbody>\n",
       "</table>\n",
       "</div>"
      ],
      "text/plain": [
       "  State  rural_Census  Category Employment\n",
       "0    AL             0               5999.0\n",
       "1    AL             1               1416.0\n",
       "2    AR             0               9254.0\n",
       "3    AR             1               2640.0\n",
       "4    AZ             0               9713.0"
      ]
     },
     "execution_count": 14,
     "metadata": {},
     "output_type": "execute_result"
    }
   ],
   "source": [
    "ag_rural_grouped.rename(columns={'Employee Size (5) - Location': 'Category Employment'},inplace=True)\n",
    "ag_rural_grouped.head()"
   ]
  },
  {
   "cell_type": "code",
   "execution_count": 15,
   "metadata": {
    "ExecuteTime": {
     "end_time": "2020-03-22T17:00:53.267251Z",
     "start_time": "2020-03-22T17:00:53.248690Z"
    }
   },
   "outputs": [],
   "source": [
    "# Apply state total to each rural_Census category in each state, then compute the percentage of the total \n",
    "# in each category.\n",
    "ag_rural_grouped2 = ag_rural_grouped.merge(ag_state_grouped,on='State',how='inner')"
   ]
  },
  {
   "cell_type": "raw",
   "metadata": {},
   "source": [
    "ag_rural_grouped3.drop(columns=['geometry_y'],inplace=True)\n",
    "ag_rural_grouped3.rename(columns={'geometry_x':'geometry'},inplace=True)"
   ]
  },
  {
   "cell_type": "code",
   "execution_count": 16,
   "metadata": {
    "ExecuteTime": {
     "end_time": "2020-03-22T17:00:53.305758Z",
     "start_time": "2020-03-22T17:00:53.270005Z"
    }
   },
   "outputs": [],
   "source": [
    "def pct(row):\n",
    "    return round(row['Category Employment'] / row['Total Employment'] * 100.0,2)\n",
    "ag_rural_grouped2['Category Percentage'] = ag_rural_grouped2.apply(pct,axis=1)"
   ]
  },
  {
   "cell_type": "code",
   "execution_count": 17,
   "metadata": {
    "ExecuteTime": {
     "end_time": "2020-03-22T17:00:53.313461Z",
     "start_time": "2020-03-22T17:00:53.307857Z"
    }
   },
   "outputs": [],
   "source": [
    "# For the first map, retain just the Category Percentage.\n",
    "ag_rural_grouped2.drop(columns=['Category Employment','Total Employment'],inplace=True)"
   ]
  },
  {
   "cell_type": "raw",
   "metadata": {},
   "source": [
    "ag_gdf = gpd.GeoDataFrame(ag_rural_grouped2,crs={'init' :'epsg:3857'}) # 4326"
   ]
  },
  {
   "cell_type": "code",
   "execution_count": 18,
   "metadata": {
    "ExecuteTime": {
     "end_time": "2020-03-22T17:00:53.329281Z",
     "start_time": "2020-03-22T17:00:53.315525Z"
    }
   },
   "outputs": [],
   "source": [
    "urban_pct_df = ag_rural_grouped2[ag_rural_grouped2['rural_Census'] == 0].copy()\n",
    "urban_pct_df.drop('rural_Census',axis=1,inplace=True)"
   ]
  },
  {
   "cell_type": "code",
   "execution_count": 19,
   "metadata": {
    "ExecuteTime": {
     "end_time": "2020-03-22T17:00:53.345993Z",
     "start_time": "2020-03-22T17:00:53.331457Z"
    }
   },
   "outputs": [],
   "source": [
    "rural_pct_df = ag_rural_grouped2[ag_rural_grouped2['rural_Census'] == 1].copy()\n",
    "rural_pct_df.drop('rural_Census',axis=1,inplace=True)"
   ]
  },
  {
   "cell_type": "code",
   "execution_count": 20,
   "metadata": {
    "ExecuteTime": {
     "end_time": "2020-03-22T17:00:53.359788Z",
     "start_time": "2020-03-22T17:00:53.348663Z"
    }
   },
   "outputs": [],
   "source": [
    "# Add midpoint coordinates to rural_pct_df and an adjacent point coordinates to urban_pct_df"
   ]
  },
  {
   "cell_type": "code",
   "execution_count": 21,
   "metadata": {
    "ExecuteTime": {
     "end_time": "2020-03-22T17:00:53.382512Z",
     "start_time": "2020-03-22T17:00:53.362457Z"
    }
   },
   "outputs": [],
   "source": [
    "def add_rural_x(abb):\n",
    "    return state_midpoints[state_abbrevs[abb]][0]\n",
    "def add_rural_y(abb):\n",
    "    return state_midpoints[state_abbrevs[abb]][1]\n",
    "\n",
    "rural_pct_df['Latitude'] = rural_pct_df['State'].apply(add_rural_x)\n",
    "rural_pct_df['Longitude'] = rural_pct_df['State'].apply(add_rural_y)"
   ]
  },
  {
   "cell_type": "code",
   "execution_count": 22,
   "metadata": {
    "ExecuteTime": {
     "end_time": "2020-03-22T17:00:53.405449Z",
     "start_time": "2020-03-22T17:00:53.385469Z"
    }
   },
   "outputs": [
    {
     "data": {
      "text/html": [
       "<div>\n",
       "<style scoped>\n",
       "    .dataframe tbody tr th:only-of-type {\n",
       "        vertical-align: middle;\n",
       "    }\n",
       "\n",
       "    .dataframe tbody tr th {\n",
       "        vertical-align: top;\n",
       "    }\n",
       "\n",
       "    .dataframe thead th {\n",
       "        text-align: right;\n",
       "    }\n",
       "</style>\n",
       "<table border=\"1\" class=\"dataframe\">\n",
       "  <thead>\n",
       "    <tr style=\"text-align: right;\">\n",
       "      <th></th>\n",
       "      <th>State</th>\n",
       "      <th>Category Percentage</th>\n",
       "      <th>Latitude</th>\n",
       "      <th>Longitude</th>\n",
       "    </tr>\n",
       "  </thead>\n",
       "  <tbody>\n",
       "    <tr>\n",
       "      <td>1</td>\n",
       "      <td>AL</td>\n",
       "      <td>19.10</td>\n",
       "      <td>32.7794</td>\n",
       "      <td>-86.8287</td>\n",
       "    </tr>\n",
       "    <tr>\n",
       "      <td>3</td>\n",
       "      <td>AR</td>\n",
       "      <td>22.20</td>\n",
       "      <td>34.8938</td>\n",
       "      <td>-92.4426</td>\n",
       "    </tr>\n",
       "    <tr>\n",
       "      <td>5</td>\n",
       "      <td>AZ</td>\n",
       "      <td>4.00</td>\n",
       "      <td>34.2744</td>\n",
       "      <td>-111.6602</td>\n",
       "    </tr>\n",
       "    <tr>\n",
       "      <td>7</td>\n",
       "      <td>CA</td>\n",
       "      <td>2.87</td>\n",
       "      <td>37.1841</td>\n",
       "      <td>-119.4696</td>\n",
       "    </tr>\n",
       "    <tr>\n",
       "      <td>9</td>\n",
       "      <td>CO</td>\n",
       "      <td>6.83</td>\n",
       "      <td>38.9972</td>\n",
       "      <td>-105.5478</td>\n",
       "    </tr>\n",
       "  </tbody>\n",
       "</table>\n",
       "</div>"
      ],
      "text/plain": [
       "  State  Category Percentage  Latitude  Longitude\n",
       "1    AL                19.10   32.7794   -86.8287\n",
       "3    AR                22.20   34.8938   -92.4426\n",
       "5    AZ                 4.00   34.2744  -111.6602\n",
       "7    CA                 2.87   37.1841  -119.4696\n",
       "9    CO                 6.83   38.9972  -105.5478"
      ]
     },
     "execution_count": 22,
     "metadata": {},
     "output_type": "execute_result"
    }
   ],
   "source": [
    "rural_pct_df.head()"
   ]
  },
  {
   "cell_type": "code",
   "execution_count": 23,
   "metadata": {
    "ExecuteTime": {
     "end_time": "2020-03-22T17:00:53.418756Z",
     "start_time": "2020-03-22T17:00:53.407930Z"
    }
   },
   "outputs": [],
   "source": [
    "def add_urban_x(abb):\n",
    "    return state_midpoints[state_abbrevs[abb]][0] + 0.4\n",
    "def add_urban_y(abb):\n",
    "    return state_midpoints[state_abbrevs[abb]][1] - 0.4\n",
    "\n",
    "urban_pct_df['Latitude'] = urban_pct_df['State'].apply(add_urban_x)\n",
    "urban_pct_df['Longitude'] = urban_pct_df['State'].apply(add_urban_y)"
   ]
  },
  {
   "cell_type": "code",
   "execution_count": 24,
   "metadata": {
    "ExecuteTime": {
     "end_time": "2020-03-22T17:00:53.441061Z",
     "start_time": "2020-03-22T17:00:53.426120Z"
    }
   },
   "outputs": [
    {
     "data": {
      "text/html": [
       "<div>\n",
       "<style scoped>\n",
       "    .dataframe tbody tr th:only-of-type {\n",
       "        vertical-align: middle;\n",
       "    }\n",
       "\n",
       "    .dataframe tbody tr th {\n",
       "        vertical-align: top;\n",
       "    }\n",
       "\n",
       "    .dataframe thead th {\n",
       "        text-align: right;\n",
       "    }\n",
       "</style>\n",
       "<table border=\"1\" class=\"dataframe\">\n",
       "  <thead>\n",
       "    <tr style=\"text-align: right;\">\n",
       "      <th></th>\n",
       "      <th>State</th>\n",
       "      <th>Category Percentage</th>\n",
       "      <th>Latitude</th>\n",
       "      <th>Longitude</th>\n",
       "    </tr>\n",
       "  </thead>\n",
       "  <tbody>\n",
       "    <tr>\n",
       "      <td>0</td>\n",
       "      <td>AL</td>\n",
       "      <td>80.90</td>\n",
       "      <td>33.1794</td>\n",
       "      <td>-87.2287</td>\n",
       "    </tr>\n",
       "    <tr>\n",
       "      <td>2</td>\n",
       "      <td>AR</td>\n",
       "      <td>77.80</td>\n",
       "      <td>35.2938</td>\n",
       "      <td>-92.8426</td>\n",
       "    </tr>\n",
       "    <tr>\n",
       "      <td>4</td>\n",
       "      <td>AZ</td>\n",
       "      <td>96.00</td>\n",
       "      <td>34.6744</td>\n",
       "      <td>-112.0602</td>\n",
       "    </tr>\n",
       "    <tr>\n",
       "      <td>6</td>\n",
       "      <td>CA</td>\n",
       "      <td>97.13</td>\n",
       "      <td>37.5841</td>\n",
       "      <td>-119.8696</td>\n",
       "    </tr>\n",
       "    <tr>\n",
       "      <td>8</td>\n",
       "      <td>CO</td>\n",
       "      <td>93.17</td>\n",
       "      <td>39.3972</td>\n",
       "      <td>-105.9478</td>\n",
       "    </tr>\n",
       "  </tbody>\n",
       "</table>\n",
       "</div>"
      ],
      "text/plain": [
       "  State  Category Percentage  Latitude  Longitude\n",
       "0    AL                80.90   33.1794   -87.2287\n",
       "2    AR                77.80   35.2938   -92.8426\n",
       "4    AZ                96.00   34.6744  -112.0602\n",
       "6    CA                97.13   37.5841  -119.8696\n",
       "8    CO                93.17   39.3972  -105.9478"
      ]
     },
     "execution_count": 24,
     "metadata": {},
     "output_type": "execute_result"
    }
   ],
   "source": [
    "urban_pct_df.head()"
   ]
  },
  {
   "cell_type": "code",
   "execution_count": 25,
   "metadata": {
    "ExecuteTime": {
     "end_time": "2020-03-22T17:00:53.468097Z",
     "start_time": "2020-03-22T17:00:53.444955Z"
    }
   },
   "outputs": [],
   "source": [
    "rural_pct_df.to_csv('maps/rural_pct_df.csv',index=None)\n",
    "urban_pct_df.to_csv('maps/urban_pct_df.csv',index=None)"
   ]
  },
  {
   "cell_type": "code",
   "execution_count": 26,
   "metadata": {
    "ExecuteTime": {
     "end_time": "2020-03-22T17:00:53.473343Z",
     "start_time": "2020-03-22T17:00:53.470548Z"
    }
   },
   "outputs": [],
   "source": [
    "# Bars of different heights indicating relative values of 'Category Percentage' for each combination of State\n",
    "# and rural_Census. Configs created interactively on the website and modified as (or if) necessary to get\n",
    "# the same maps to appear in the notebook."
   ]
  },
  {
   "cell_type": "code",
   "execution_count": 29,
   "metadata": {
    "ExecuteTime": {
     "end_time": "2020-03-22T17:19:39.178016Z",
     "start_time": "2020-03-22T17:19:39.173542Z"
    }
   },
   "outputs": [],
   "source": [
    "# Make a basic map, modify it interactively, save the modified config, make a final map from that.\n",
    "# Config output from the interactive website:\n",
    "#  maps/urban-rural-bars-by-state.json\n",
    "#  maps/rural-bars-by-state.json\n",
    "#\n",
    "# An interactive html map of the urban-rural-bars-by-state map:\n",
    "# ../maps/urban-rural-bars-by-state.html"
   ]
  },
  {
   "cell_type": "code",
   "execution_count": 30,
   "metadata": {
    "ExecuteTime": {
     "end_time": "2020-03-22T17:19:40.200177Z",
     "start_time": "2020-03-22T17:19:40.196014Z"
    }
   },
   "outputs": [],
   "source": [
    "# END -- state-level files with and without the rural_Census distinction with the locational\n",
    "# variables being versions of the coordinates of the geographical midpoint of each state. "
   ]
  },
  {
   "cell_type": "code",
   "execution_count": 31,
   "metadata": {
    "ExecuteTime": {
     "end_time": "2020-03-22T17:19:40.962468Z",
     "start_time": "2020-03-22T17:19:40.958118Z"
    }
   },
   "outputs": [],
   "source": [
    "# BEGIN -- state-level files with and without the rural_Census distinction with the locational\n",
    "# variables being a geoDataFrame Polygon. Suitable for choropleth maps."
   ]
  },
  {
   "cell_type": "code",
   "execution_count": 32,
   "metadata": {
    "ExecuteTime": {
     "end_time": "2020-03-22T17:19:41.719882Z",
     "start_time": "2020-03-22T17:19:41.711306Z"
    }
   },
   "outputs": [
    {
     "data": {
      "text/plain": [
       "Index(['Company', 'Address Line 1', 'City', 'State', 'ZipCode', 'County Code',\n",
       "       'Primary NAICS Code', 'Employee Size (5) - Location', 'Census Tract',\n",
       "       'Census Block', 'Latitude', 'Longitude', 'CBSA Code', 'CBSA Level',\n",
       "       'CSA Code', 'FIPS Code', 'State FIPS', 'NAICS2', 'NAICS2 desc', 'UA',\n",
       "       'NAICS6', 'NAICS6 desc', 'rural_OMB', 'rural_Census',\n",
       "       'Full Census Tract', 'rural_HRSA', 'ag_flag'],\n",
       "      dtype='object')"
      ]
     },
     "execution_count": 32,
     "metadata": {},
     "output_type": "execute_result"
    }
   ],
   "source": [
    "df.columns"
   ]
  },
  {
   "cell_type": "code",
   "execution_count": 33,
   "metadata": {
    "ExecuteTime": {
     "end_time": "2020-03-22T17:19:44.808691Z",
     "start_time": "2020-03-22T17:19:43.185579Z"
    }
   },
   "outputs": [
    {
     "data": {
      "text/plain": [
       "Index(['State', 'Employees', 'rural_Census'], dtype='object')"
      ]
     },
     "execution_count": 33,
     "metadata": {},
     "output_type": "execute_result"
    }
   ],
   "source": [
    "df = df[['State','Employee Size (5) - Location','rural_Census']]\n",
    "df.rename(columns={'Employee Size (5) - Location':'Employees'},inplace=True)\n",
    "df.columns"
   ]
  },
  {
   "cell_type": "code",
   "execution_count": 34,
   "metadata": {
    "ExecuteTime": {
     "end_time": "2020-03-22T17:19:45.265549Z",
     "start_time": "2020-03-22T17:19:44.812032Z"
    }
   },
   "outputs": [],
   "source": [
    "# For now, just whole states...\n",
    "state_file = 'map_files/tl_2017_us_state.shp'\n",
    "states_gdf = gpd.read_file(state_file)"
   ]
  },
  {
   "cell_type": "code",
   "execution_count": 35,
   "metadata": {
    "ExecuteTime": {
     "end_time": "2020-03-22T17:19:48.077335Z",
     "start_time": "2020-03-22T17:19:46.562627Z"
    }
   },
   "outputs": [
    {
     "data": {
      "text/html": [
       "<div>\n",
       "<style scoped>\n",
       "    .dataframe tbody tr th:only-of-type {\n",
       "        vertical-align: middle;\n",
       "    }\n",
       "\n",
       "    .dataframe tbody tr th {\n",
       "        vertical-align: top;\n",
       "    }\n",
       "\n",
       "    .dataframe thead th {\n",
       "        text-align: right;\n",
       "    }\n",
       "</style>\n",
       "<table border=\"1\" class=\"dataframe\">\n",
       "  <thead>\n",
       "    <tr style=\"text-align: right;\">\n",
       "      <th></th>\n",
       "      <th>State</th>\n",
       "      <th>geometry</th>\n",
       "    </tr>\n",
       "  </thead>\n",
       "  <tbody>\n",
       "    <tr>\n",
       "      <td>0</td>\n",
       "      <td>WV</td>\n",
       "      <td>POLYGON ((-81.747254 39.095379, -81.746354 39....</td>\n",
       "    </tr>\n",
       "    <tr>\n",
       "      <td>1</td>\n",
       "      <td>FL</td>\n",
       "      <td>(POLYGON ((-82.987477 24.625379, -82.987477 24...</td>\n",
       "    </tr>\n",
       "    <tr>\n",
       "      <td>2</td>\n",
       "      <td>IL</td>\n",
       "      <td>POLYGON ((-91.185295 40.637803, -91.1751 40.64...</td>\n",
       "    </tr>\n",
       "    <tr>\n",
       "      <td>3</td>\n",
       "      <td>MN</td>\n",
       "      <td>POLYGON ((-96.784381 46.63050399999999, -96.78...</td>\n",
       "    </tr>\n",
       "    <tr>\n",
       "      <td>4</td>\n",
       "      <td>MD</td>\n",
       "      <td>POLYGON ((-77.45880799999999 39.22027, -77.458...</td>\n",
       "    </tr>\n",
       "  </tbody>\n",
       "</table>\n",
       "</div>"
      ],
      "text/plain": [
       "  State                                           geometry\n",
       "0    WV  POLYGON ((-81.747254 39.095379, -81.746354 39....\n",
       "1    FL  (POLYGON ((-82.987477 24.625379, -82.987477 24...\n",
       "2    IL  POLYGON ((-91.185295 40.637803, -91.1751 40.64...\n",
       "3    MN  POLYGON ((-96.784381 46.63050399999999, -96.78...\n",
       "4    MD  POLYGON ((-77.45880799999999 39.22027, -77.458..."
      ]
     },
     "execution_count": 35,
     "metadata": {},
     "output_type": "execute_result"
    }
   ],
   "source": [
    "states_gdf = states_gdf[['STUSPS','geometry']]\n",
    "states_gdf.rename(columns={'STUSPS':'State'},inplace=True)\n",
    "states_gdf.head()"
   ]
  },
  {
   "cell_type": "code",
   "execution_count": 36,
   "metadata": {
    "ExecuteTime": {
     "end_time": "2020-03-22T17:19:49.455735Z",
     "start_time": "2020-03-22T17:19:48.079780Z"
    }
   },
   "outputs": [],
   "source": [
    "grouped = df.groupby(['State','rural_Census']).agg({'Employees':'sum'})"
   ]
  },
  {
   "cell_type": "code",
   "execution_count": 37,
   "metadata": {
    "ExecuteTime": {
     "end_time": "2020-03-22T17:19:49.981429Z",
     "start_time": "2020-03-22T17:19:49.964778Z"
    }
   },
   "outputs": [
    {
     "data": {
      "text/html": [
       "<div>\n",
       "<style scoped>\n",
       "    .dataframe tbody tr th:only-of-type {\n",
       "        vertical-align: middle;\n",
       "    }\n",
       "\n",
       "    .dataframe tbody tr th {\n",
       "        vertical-align: top;\n",
       "    }\n",
       "\n",
       "    .dataframe thead th {\n",
       "        text-align: right;\n",
       "    }\n",
       "</style>\n",
       "<table border=\"1\" class=\"dataframe\">\n",
       "  <thead>\n",
       "    <tr style=\"text-align: right;\">\n",
       "      <th></th>\n",
       "      <th>State</th>\n",
       "      <th>rural_Census</th>\n",
       "      <th>Employees</th>\n",
       "    </tr>\n",
       "  </thead>\n",
       "  <tbody>\n",
       "    <tr>\n",
       "      <td>0</td>\n",
       "      <td>AL</td>\n",
       "      <td>0</td>\n",
       "      <td>1804744.0</td>\n",
       "    </tr>\n",
       "    <tr>\n",
       "      <td>1</td>\n",
       "      <td>AL</td>\n",
       "      <td>1</td>\n",
       "      <td>499509.0</td>\n",
       "    </tr>\n",
       "    <tr>\n",
       "      <td>2</td>\n",
       "      <td>AR</td>\n",
       "      <td>0</td>\n",
       "      <td>1059959.0</td>\n",
       "    </tr>\n",
       "    <tr>\n",
       "      <td>3</td>\n",
       "      <td>AR</td>\n",
       "      <td>1</td>\n",
       "      <td>448406.0</td>\n",
       "    </tr>\n",
       "    <tr>\n",
       "      <td>4</td>\n",
       "      <td>AZ</td>\n",
       "      <td>0</td>\n",
       "      <td>2822020.0</td>\n",
       "    </tr>\n",
       "  </tbody>\n",
       "</table>\n",
       "</div>"
      ],
      "text/plain": [
       "  State  rural_Census  Employees\n",
       "0    AL             0  1804744.0\n",
       "1    AL             1   499509.0\n",
       "2    AR             0  1059959.0\n",
       "3    AR             1   448406.0\n",
       "4    AZ             0  2822020.0"
      ]
     },
     "execution_count": 37,
     "metadata": {},
     "output_type": "execute_result"
    }
   ],
   "source": [
    "grouped.reset_index(inplace=True)\n",
    "grouped.head()"
   ]
  },
  {
   "cell_type": "code",
   "execution_count": 38,
   "metadata": {
    "ExecuteTime": {
     "end_time": "2020-03-22T17:19:53.707401Z",
     "start_time": "2020-03-22T17:19:53.586602Z"
    }
   },
   "outputs": [],
   "source": [
    "merged = grouped.merge(states_gdf,on='State',how='outer',indicator=True)"
   ]
  },
  {
   "cell_type": "code",
   "execution_count": 39,
   "metadata": {
    "ExecuteTime": {
     "end_time": "2020-03-22T17:19:55.235920Z",
     "start_time": "2020-03-22T17:19:55.220517Z"
    }
   },
   "outputs": [
    {
     "data": {
      "text/plain": [
       "both          93\n",
       "right_only     7\n",
       "left_only      0\n",
       "Name: _merge, dtype: int64"
      ]
     },
     "execution_count": 39,
     "metadata": {},
     "output_type": "execute_result"
    }
   ],
   "source": [
    "merged['_merge'].value_counts()"
   ]
  },
  {
   "cell_type": "code",
   "execution_count": 40,
   "metadata": {
    "ExecuteTime": {
     "end_time": "2020-03-22T17:19:59.713739Z",
     "start_time": "2020-03-22T17:19:59.431048Z"
    }
   },
   "outputs": [
    {
     "data": {
      "text/html": [
       "<div>\n",
       "<style scoped>\n",
       "    .dataframe tbody tr th:only-of-type {\n",
       "        vertical-align: middle;\n",
       "    }\n",
       "\n",
       "    .dataframe tbody tr th {\n",
       "        vertical-align: top;\n",
       "    }\n",
       "\n",
       "    .dataframe thead th {\n",
       "        text-align: right;\n",
       "    }\n",
       "</style>\n",
       "<table border=\"1\" class=\"dataframe\">\n",
       "  <thead>\n",
       "    <tr style=\"text-align: right;\">\n",
       "      <th></th>\n",
       "      <th>State</th>\n",
       "      <th>rural_Census</th>\n",
       "      <th>Employees</th>\n",
       "      <th>geometry</th>\n",
       "      <th>_merge</th>\n",
       "    </tr>\n",
       "  </thead>\n",
       "  <tbody>\n",
       "    <tr>\n",
       "      <td>93</td>\n",
       "      <td>HI</td>\n",
       "      <td>NaN</td>\n",
       "      <td>NaN</td>\n",
       "      <td>(POLYGON ((-166.386532 23.846363, -166.384284 ...</td>\n",
       "      <td>right_only</td>\n",
       "    </tr>\n",
       "    <tr>\n",
       "      <td>94</td>\n",
       "      <td>VI</td>\n",
       "      <td>NaN</td>\n",
       "      <td>NaN</td>\n",
       "      <td>(POLYGON ((-64.95671399999999 17.678977, -64.9...</td>\n",
       "      <td>right_only</td>\n",
       "    </tr>\n",
       "    <tr>\n",
       "      <td>95</td>\n",
       "      <td>MP</td>\n",
       "      <td>NaN</td>\n",
       "      <td>NaN</td>\n",
       "      <td>(POLYGON ((145.558836 16.374152, 145.571326 16...</td>\n",
       "      <td>right_only</td>\n",
       "    </tr>\n",
       "    <tr>\n",
       "      <td>96</td>\n",
       "      <td>GU</td>\n",
       "      <td>NaN</td>\n",
       "      <td>NaN</td>\n",
       "      <td>POLYGON ((144.563426 13.448065, 144.563574 13....</td>\n",
       "      <td>right_only</td>\n",
       "    </tr>\n",
       "    <tr>\n",
       "      <td>97</td>\n",
       "      <td>AK</td>\n",
       "      <td>NaN</td>\n",
       "      <td>NaN</td>\n",
       "      <td>(POLYGON ((172.34934 52.922194, 172.353886 52....</td>\n",
       "      <td>right_only</td>\n",
       "    </tr>\n",
       "    <tr>\n",
       "      <td>98</td>\n",
       "      <td>AS</td>\n",
       "      <td>NaN</td>\n",
       "      <td>NaN</td>\n",
       "      <td>(POLYGON ((-171.141181 -11.046608, -171.141162...</td>\n",
       "      <td>right_only</td>\n",
       "    </tr>\n",
       "    <tr>\n",
       "      <td>99</td>\n",
       "      <td>PR</td>\n",
       "      <td>NaN</td>\n",
       "      <td>NaN</td>\n",
       "      <td>(POLYGON ((-67.99869099999999 18.17076, -67.99...</td>\n",
       "      <td>right_only</td>\n",
       "    </tr>\n",
       "  </tbody>\n",
       "</table>\n",
       "</div>"
      ],
      "text/plain": [
       "   State  rural_Census  Employees  \\\n",
       "93    HI           NaN        NaN   \n",
       "94    VI           NaN        NaN   \n",
       "95    MP           NaN        NaN   \n",
       "96    GU           NaN        NaN   \n",
       "97    AK           NaN        NaN   \n",
       "98    AS           NaN        NaN   \n",
       "99    PR           NaN        NaN   \n",
       "\n",
       "                                             geometry      _merge  \n",
       "93  (POLYGON ((-166.386532 23.846363, -166.384284 ...  right_only  \n",
       "94  (POLYGON ((-64.95671399999999 17.678977, -64.9...  right_only  \n",
       "95  (POLYGON ((145.558836 16.374152, 145.571326 16...  right_only  \n",
       "96  POLYGON ((144.563426 13.448065, 144.563574 13....  right_only  \n",
       "97  (POLYGON ((172.34934 52.922194, 172.353886 52....  right_only  \n",
       "98  (POLYGON ((-171.141181 -11.046608, -171.141162...  right_only  \n",
       "99  (POLYGON ((-67.99869099999999 18.17076, -67.99...  right_only  "
      ]
     },
     "execution_count": 40,
     "metadata": {},
     "output_type": "execute_result"
    }
   ],
   "source": [
    "merged[merged['_merge']=='right_only']"
   ]
  },
  {
   "cell_type": "code",
   "execution_count": 44,
   "metadata": {
    "ExecuteTime": {
     "end_time": "2020-03-22T17:20:17.029536Z",
     "start_time": "2020-03-22T17:20:16.938724Z"
    }
   },
   "outputs": [
    {
     "ename": "KeyError",
     "evalue": "'_merge'",
     "output_type": "error",
     "traceback": [
      "\u001b[0;31m---------------------------------------------------------------------------\u001b[0m",
      "\u001b[0;31mKeyError\u001b[0m                                  Traceback (most recent call last)",
      "\u001b[0;32m~/anaconda3/lib/python3.7/site-packages/pandas/core/indexes/base.py\u001b[0m in \u001b[0;36mget_loc\u001b[0;34m(self, key, method, tolerance)\u001b[0m\n\u001b[1;32m   2896\u001b[0m             \u001b[0;32mtry\u001b[0m\u001b[0;34m:\u001b[0m\u001b[0;34m\u001b[0m\u001b[0;34m\u001b[0m\u001b[0m\n\u001b[0;32m-> 2897\u001b[0;31m                 \u001b[0;32mreturn\u001b[0m \u001b[0mself\u001b[0m\u001b[0;34m.\u001b[0m\u001b[0m_engine\u001b[0m\u001b[0;34m.\u001b[0m\u001b[0mget_loc\u001b[0m\u001b[0;34m(\u001b[0m\u001b[0mkey\u001b[0m\u001b[0;34m)\u001b[0m\u001b[0;34m\u001b[0m\u001b[0;34m\u001b[0m\u001b[0m\n\u001b[0m\u001b[1;32m   2898\u001b[0m             \u001b[0;32mexcept\u001b[0m \u001b[0mKeyError\u001b[0m\u001b[0;34m:\u001b[0m\u001b[0;34m\u001b[0m\u001b[0;34m\u001b[0m\u001b[0m\n",
      "\u001b[0;32mpandas/_libs/index.pyx\u001b[0m in \u001b[0;36mpandas._libs.index.IndexEngine.get_loc\u001b[0;34m()\u001b[0m\n",
      "\u001b[0;32mpandas/_libs/index.pyx\u001b[0m in \u001b[0;36mpandas._libs.index.IndexEngine.get_loc\u001b[0;34m()\u001b[0m\n",
      "\u001b[0;32mpandas/_libs/hashtable_class_helper.pxi\u001b[0m in \u001b[0;36mpandas._libs.hashtable.PyObjectHashTable.get_item\u001b[0;34m()\u001b[0m\n",
      "\u001b[0;32mpandas/_libs/hashtable_class_helper.pxi\u001b[0m in \u001b[0;36mpandas._libs.hashtable.PyObjectHashTable.get_item\u001b[0;34m()\u001b[0m\n",
      "\u001b[0;31mKeyError\u001b[0m: '_merge'",
      "\nDuring handling of the above exception, another exception occurred:\n",
      "\u001b[0;31mKeyError\u001b[0m                                  Traceback (most recent call last)",
      "\u001b[0;32m<ipython-input-44-49bce4c4b2a1>\u001b[0m in \u001b[0;36m<module>\u001b[0;34m\u001b[0m\n\u001b[0;32m----> 1\u001b[0;31m \u001b[0mmerged\u001b[0m \u001b[0;34m=\u001b[0m \u001b[0mmerged\u001b[0m\u001b[0;34m[\u001b[0m\u001b[0mmerged\u001b[0m\u001b[0;34m[\u001b[0m\u001b[0;34m'_merge'\u001b[0m\u001b[0;34m]\u001b[0m\u001b[0;34m==\u001b[0m\u001b[0;34m'both'\u001b[0m\u001b[0;34m]\u001b[0m\u001b[0;34m\u001b[0m\u001b[0;34m\u001b[0m\u001b[0m\n\u001b[0m\u001b[1;32m      2\u001b[0m \u001b[0mmerged\u001b[0m\u001b[0;34m.\u001b[0m\u001b[0mdrop\u001b[0m\u001b[0;34m(\u001b[0m\u001b[0;34m'_merge'\u001b[0m\u001b[0;34m,\u001b[0m\u001b[0maxis\u001b[0m\u001b[0;34m=\u001b[0m\u001b[0;36m1\u001b[0m\u001b[0;34m,\u001b[0m\u001b[0minplace\u001b[0m\u001b[0;34m=\u001b[0m\u001b[0;32mTrue\u001b[0m\u001b[0;34m)\u001b[0m\u001b[0;34m\u001b[0m\u001b[0;34m\u001b[0m\u001b[0m\n\u001b[1;32m      3\u001b[0m \u001b[0mmerged\u001b[0m\u001b[0;34m.\u001b[0m\u001b[0mhead\u001b[0m\u001b[0;34m(\u001b[0m\u001b[0;34m)\u001b[0m\u001b[0;34m\u001b[0m\u001b[0;34m\u001b[0m\u001b[0m\n\u001b[1;32m      4\u001b[0m \u001b[0;31m# 'rural_Census' indicates whether the firm is within a Census-defined Urban Area or Urban Cluster (0)\u001b[0m\u001b[0;34m\u001b[0m\u001b[0;34m\u001b[0m\u001b[0;34m\u001b[0m\u001b[0m\n\u001b[1;32m      5\u001b[0m \u001b[0;31m# or not (1).\u001b[0m\u001b[0;34m\u001b[0m\u001b[0;34m\u001b[0m\u001b[0;34m\u001b[0m\u001b[0m\n",
      "\u001b[0;32m~/anaconda3/lib/python3.7/site-packages/pandas/core/frame.py\u001b[0m in \u001b[0;36m__getitem__\u001b[0;34m(self, key)\u001b[0m\n\u001b[1;32m   2978\u001b[0m             \u001b[0;32mif\u001b[0m \u001b[0mself\u001b[0m\u001b[0;34m.\u001b[0m\u001b[0mcolumns\u001b[0m\u001b[0;34m.\u001b[0m\u001b[0mnlevels\u001b[0m \u001b[0;34m>\u001b[0m \u001b[0;36m1\u001b[0m\u001b[0;34m:\u001b[0m\u001b[0;34m\u001b[0m\u001b[0;34m\u001b[0m\u001b[0m\n\u001b[1;32m   2979\u001b[0m                 \u001b[0;32mreturn\u001b[0m \u001b[0mself\u001b[0m\u001b[0;34m.\u001b[0m\u001b[0m_getitem_multilevel\u001b[0m\u001b[0;34m(\u001b[0m\u001b[0mkey\u001b[0m\u001b[0;34m)\u001b[0m\u001b[0;34m\u001b[0m\u001b[0;34m\u001b[0m\u001b[0m\n\u001b[0;32m-> 2980\u001b[0;31m             \u001b[0mindexer\u001b[0m \u001b[0;34m=\u001b[0m \u001b[0mself\u001b[0m\u001b[0;34m.\u001b[0m\u001b[0mcolumns\u001b[0m\u001b[0;34m.\u001b[0m\u001b[0mget_loc\u001b[0m\u001b[0;34m(\u001b[0m\u001b[0mkey\u001b[0m\u001b[0;34m)\u001b[0m\u001b[0;34m\u001b[0m\u001b[0;34m\u001b[0m\u001b[0m\n\u001b[0m\u001b[1;32m   2981\u001b[0m             \u001b[0;32mif\u001b[0m \u001b[0mis_integer\u001b[0m\u001b[0;34m(\u001b[0m\u001b[0mindexer\u001b[0m\u001b[0;34m)\u001b[0m\u001b[0;34m:\u001b[0m\u001b[0;34m\u001b[0m\u001b[0;34m\u001b[0m\u001b[0m\n\u001b[1;32m   2982\u001b[0m                 \u001b[0mindexer\u001b[0m \u001b[0;34m=\u001b[0m \u001b[0;34m[\u001b[0m\u001b[0mindexer\u001b[0m\u001b[0;34m]\u001b[0m\u001b[0;34m\u001b[0m\u001b[0;34m\u001b[0m\u001b[0m\n",
      "\u001b[0;32m~/anaconda3/lib/python3.7/site-packages/pandas/core/indexes/base.py\u001b[0m in \u001b[0;36mget_loc\u001b[0;34m(self, key, method, tolerance)\u001b[0m\n\u001b[1;32m   2897\u001b[0m                 \u001b[0;32mreturn\u001b[0m \u001b[0mself\u001b[0m\u001b[0;34m.\u001b[0m\u001b[0m_engine\u001b[0m\u001b[0;34m.\u001b[0m\u001b[0mget_loc\u001b[0m\u001b[0;34m(\u001b[0m\u001b[0mkey\u001b[0m\u001b[0;34m)\u001b[0m\u001b[0;34m\u001b[0m\u001b[0;34m\u001b[0m\u001b[0m\n\u001b[1;32m   2898\u001b[0m             \u001b[0;32mexcept\u001b[0m \u001b[0mKeyError\u001b[0m\u001b[0;34m:\u001b[0m\u001b[0;34m\u001b[0m\u001b[0;34m\u001b[0m\u001b[0m\n\u001b[0;32m-> 2899\u001b[0;31m                 \u001b[0;32mreturn\u001b[0m \u001b[0mself\u001b[0m\u001b[0;34m.\u001b[0m\u001b[0m_engine\u001b[0m\u001b[0;34m.\u001b[0m\u001b[0mget_loc\u001b[0m\u001b[0;34m(\u001b[0m\u001b[0mself\u001b[0m\u001b[0;34m.\u001b[0m\u001b[0m_maybe_cast_indexer\u001b[0m\u001b[0;34m(\u001b[0m\u001b[0mkey\u001b[0m\u001b[0;34m)\u001b[0m\u001b[0;34m)\u001b[0m\u001b[0;34m\u001b[0m\u001b[0;34m\u001b[0m\u001b[0m\n\u001b[0m\u001b[1;32m   2900\u001b[0m         \u001b[0mindexer\u001b[0m \u001b[0;34m=\u001b[0m \u001b[0mself\u001b[0m\u001b[0;34m.\u001b[0m\u001b[0mget_indexer\u001b[0m\u001b[0;34m(\u001b[0m\u001b[0;34m[\u001b[0m\u001b[0mkey\u001b[0m\u001b[0;34m]\u001b[0m\u001b[0;34m,\u001b[0m \u001b[0mmethod\u001b[0m\u001b[0;34m=\u001b[0m\u001b[0mmethod\u001b[0m\u001b[0;34m,\u001b[0m \u001b[0mtolerance\u001b[0m\u001b[0;34m=\u001b[0m\u001b[0mtolerance\u001b[0m\u001b[0;34m)\u001b[0m\u001b[0;34m\u001b[0m\u001b[0;34m\u001b[0m\u001b[0m\n\u001b[1;32m   2901\u001b[0m         \u001b[0;32mif\u001b[0m \u001b[0mindexer\u001b[0m\u001b[0;34m.\u001b[0m\u001b[0mndim\u001b[0m \u001b[0;34m>\u001b[0m \u001b[0;36m1\u001b[0m \u001b[0;32mor\u001b[0m \u001b[0mindexer\u001b[0m\u001b[0;34m.\u001b[0m\u001b[0msize\u001b[0m \u001b[0;34m>\u001b[0m \u001b[0;36m1\u001b[0m\u001b[0;34m:\u001b[0m\u001b[0;34m\u001b[0m\u001b[0;34m\u001b[0m\u001b[0m\n",
      "\u001b[0;32mpandas/_libs/index.pyx\u001b[0m in \u001b[0;36mpandas._libs.index.IndexEngine.get_loc\u001b[0;34m()\u001b[0m\n",
      "\u001b[0;32mpandas/_libs/index.pyx\u001b[0m in \u001b[0;36mpandas._libs.index.IndexEngine.get_loc\u001b[0;34m()\u001b[0m\n",
      "\u001b[0;32mpandas/_libs/hashtable_class_helper.pxi\u001b[0m in \u001b[0;36mpandas._libs.hashtable.PyObjectHashTable.get_item\u001b[0;34m()\u001b[0m\n",
      "\u001b[0;32mpandas/_libs/hashtable_class_helper.pxi\u001b[0m in \u001b[0;36mpandas._libs.hashtable.PyObjectHashTable.get_item\u001b[0;34m()\u001b[0m\n",
      "\u001b[0;31mKeyError\u001b[0m: '_merge'"
     ]
    }
   ],
   "source": [
    "merged = merged[merged['_merge']=='both']\n",
    "merged.drop('_merge',axis=1,inplace=True)\n",
    "merged.head()\n",
    "# 'rural_Census' indicates whether the firm is within a Census-defined Urban Area or Urban Cluster (0)\n",
    "# or not (1)."
   ]
  },
  {
   "cell_type": "code",
   "execution_count": 45,
   "metadata": {
    "ExecuteTime": {
     "end_time": "2020-03-22T17:20:19.764686Z",
     "start_time": "2020-03-22T17:20:19.748881Z"
    }
   },
   "outputs": [
    {
     "data": {
      "text/plain": [
       "0    49\n",
       "1    44\n",
       "Name: rural_Census, dtype: int64"
      ]
     },
     "execution_count": 45,
     "metadata": {},
     "output_type": "execute_result"
    }
   ],
   "source": [
    "merged['rural_Census'] = merged['rural_Census'].astype(int)\n",
    "merged['rural_Census'].value_counts()"
   ]
  },
  {
   "cell_type": "code",
   "execution_count": 46,
   "metadata": {
    "ExecuteTime": {
     "end_time": "2020-03-22T17:20:25.536694Z",
     "start_time": "2020-03-22T17:20:25.530028Z"
    }
   },
   "outputs": [],
   "source": [
    "gdf = gpd.GeoDataFrame(merged,crs={'init':'EPSG:3857'})"
   ]
  },
  {
   "cell_type": "code",
   "execution_count": 47,
   "metadata": {
    "ExecuteTime": {
     "end_time": "2020-03-22T17:20:26.924689Z",
     "start_time": "2020-03-22T17:20:26.920171Z"
    }
   },
   "outputs": [],
   "source": [
    "# Compute the urban and rural employment percentages for each state."
   ]
  },
  {
   "cell_type": "code",
   "execution_count": 48,
   "metadata": {
    "ExecuteTime": {
     "end_time": "2020-03-22T17:20:27.776528Z",
     "start_time": "2020-03-22T17:20:27.757652Z"
    }
   },
   "outputs": [
    {
     "data": {
      "text/html": [
       "<div>\n",
       "<style scoped>\n",
       "    .dataframe tbody tr th:only-of-type {\n",
       "        vertical-align: middle;\n",
       "    }\n",
       "\n",
       "    .dataframe tbody tr th {\n",
       "        vertical-align: top;\n",
       "    }\n",
       "\n",
       "    .dataframe thead th {\n",
       "        text-align: right;\n",
       "    }\n",
       "</style>\n",
       "<table border=\"1\" class=\"dataframe\">\n",
       "  <thead>\n",
       "    <tr style=\"text-align: right;\">\n",
       "      <th></th>\n",
       "      <th>Employees</th>\n",
       "    </tr>\n",
       "    <tr>\n",
       "      <th>State</th>\n",
       "      <th></th>\n",
       "    </tr>\n",
       "  </thead>\n",
       "  <tbody>\n",
       "    <tr>\n",
       "      <td>AL</td>\n",
       "      <td>2304253.0</td>\n",
       "    </tr>\n",
       "    <tr>\n",
       "      <td>AR</td>\n",
       "      <td>1508365.0</td>\n",
       "    </tr>\n",
       "    <tr>\n",
       "      <td>AZ</td>\n",
       "      <td>2911669.0</td>\n",
       "    </tr>\n",
       "    <tr>\n",
       "      <td>CA</td>\n",
       "      <td>17089702.0</td>\n",
       "    </tr>\n",
       "    <tr>\n",
       "      <td>CO</td>\n",
       "      <td>2893058.0</td>\n",
       "    </tr>\n",
       "  </tbody>\n",
       "</table>\n",
       "</div>"
      ],
      "text/plain": [
       "        Employees\n",
       "State            \n",
       "AL      2304253.0\n",
       "AR      1508365.0\n",
       "AZ      2911669.0\n",
       "CA     17089702.0\n",
       "CO      2893058.0"
      ]
     },
     "execution_count": 48,
     "metadata": {},
     "output_type": "execute_result"
    }
   ],
   "source": [
    "temp_df = gdf.groupby(['State']).agg({\"Employees\":'sum'})\n",
    "temp_df.head()"
   ]
  },
  {
   "cell_type": "code",
   "execution_count": 49,
   "metadata": {
    "ExecuteTime": {
     "end_time": "2020-03-22T17:20:30.144684Z",
     "start_time": "2020-03-22T17:20:29.319419Z"
    }
   },
   "outputs": [
    {
     "data": {
      "text/html": [
       "<div>\n",
       "<style scoped>\n",
       "    .dataframe tbody tr th:only-of-type {\n",
       "        vertical-align: middle;\n",
       "    }\n",
       "\n",
       "    .dataframe tbody tr th {\n",
       "        vertical-align: top;\n",
       "    }\n",
       "\n",
       "    .dataframe thead th {\n",
       "        text-align: right;\n",
       "    }\n",
       "</style>\n",
       "<table border=\"1\" class=\"dataframe\">\n",
       "  <thead>\n",
       "    <tr style=\"text-align: right;\">\n",
       "      <th></th>\n",
       "      <th>State</th>\n",
       "      <th>rural_Census</th>\n",
       "      <th>Employees</th>\n",
       "      <th>geometry</th>\n",
       "      <th>Total Employees</th>\n",
       "    </tr>\n",
       "  </thead>\n",
       "  <tbody>\n",
       "    <tr>\n",
       "      <td>0</td>\n",
       "      <td>AL</td>\n",
       "      <td>0</td>\n",
       "      <td>1804744.0</td>\n",
       "      <td>POLYGON ((-88.139988 34.581703, -88.1399689999...</td>\n",
       "      <td>2304253.0</td>\n",
       "    </tr>\n",
       "    <tr>\n",
       "      <td>1</td>\n",
       "      <td>AL</td>\n",
       "      <td>1</td>\n",
       "      <td>499509.0</td>\n",
       "      <td>POLYGON ((-88.139988 34.581703, -88.1399689999...</td>\n",
       "      <td>2304253.0</td>\n",
       "    </tr>\n",
       "    <tr>\n",
       "      <td>2</td>\n",
       "      <td>AR</td>\n",
       "      <td>0</td>\n",
       "      <td>1059959.0</td>\n",
       "      <td>POLYGON ((-94.55217999999999 36.102236, -94.55...</td>\n",
       "      <td>1508365.0</td>\n",
       "    </tr>\n",
       "    <tr>\n",
       "      <td>3</td>\n",
       "      <td>AR</td>\n",
       "      <td>1</td>\n",
       "      <td>448406.0</td>\n",
       "      <td>POLYGON ((-94.55217999999999 36.102236, -94.55...</td>\n",
       "      <td>1508365.0</td>\n",
       "    </tr>\n",
       "    <tr>\n",
       "      <td>4</td>\n",
       "      <td>AZ</td>\n",
       "      <td>0</td>\n",
       "      <td>2822020.0</td>\n",
       "      <td>POLYGON ((-114.516454 33.027617, -114.516639 3...</td>\n",
       "      <td>2911669.0</td>\n",
       "    </tr>\n",
       "  </tbody>\n",
       "</table>\n",
       "</div>"
      ],
      "text/plain": [
       "  State  rural_Census  Employees  \\\n",
       "0    AL             0  1804744.0   \n",
       "1    AL             1   499509.0   \n",
       "2    AR             0  1059959.0   \n",
       "3    AR             1   448406.0   \n",
       "4    AZ             0  2822020.0   \n",
       "\n",
       "                                            geometry  Total Employees  \n",
       "0  POLYGON ((-88.139988 34.581703, -88.1399689999...        2304253.0  \n",
       "1  POLYGON ((-88.139988 34.581703, -88.1399689999...        2304253.0  \n",
       "2  POLYGON ((-94.55217999999999 36.102236, -94.55...        1508365.0  \n",
       "3  POLYGON ((-94.55217999999999 36.102236, -94.55...        1508365.0  \n",
       "4  POLYGON ((-114.516454 33.027617, -114.516639 3...        2911669.0  "
      ]
     },
     "execution_count": 49,
     "metadata": {},
     "output_type": "execute_result"
    }
   ],
   "source": [
    "state_gdf = gdf.merge(temp_df,on='State',how='inner')\n",
    "state_gdf.rename(columns={'Employees_x':'Employees','Employees_y':'Total Employees'},inplace=True)\n",
    "state_gdf.head()"
   ]
  },
  {
   "cell_type": "code",
   "execution_count": 50,
   "metadata": {
    "ExecuteTime": {
     "end_time": "2020-03-22T17:20:32.276258Z",
     "start_time": "2020-03-22T17:20:31.457755Z"
    }
   },
   "outputs": [
    {
     "data": {
      "text/html": [
       "<div>\n",
       "<style scoped>\n",
       "    .dataframe tbody tr th:only-of-type {\n",
       "        vertical-align: middle;\n",
       "    }\n",
       "\n",
       "    .dataframe tbody tr th {\n",
       "        vertical-align: top;\n",
       "    }\n",
       "\n",
       "    .dataframe thead th {\n",
       "        text-align: right;\n",
       "    }\n",
       "</style>\n",
       "<table border=\"1\" class=\"dataframe\">\n",
       "  <thead>\n",
       "    <tr style=\"text-align: right;\">\n",
       "      <th></th>\n",
       "      <th>State</th>\n",
       "      <th>rural_Census</th>\n",
       "      <th>Employees</th>\n",
       "      <th>geometry</th>\n",
       "      <th>Total Employees</th>\n",
       "      <th>Emp Pct</th>\n",
       "    </tr>\n",
       "  </thead>\n",
       "  <tbody>\n",
       "    <tr>\n",
       "      <td>0</td>\n",
       "      <td>AL</td>\n",
       "      <td>0</td>\n",
       "      <td>1804744.0</td>\n",
       "      <td>POLYGON ((-88.139988 34.581703, -88.1399689999...</td>\n",
       "      <td>2304253.0</td>\n",
       "      <td>78.322302</td>\n",
       "    </tr>\n",
       "    <tr>\n",
       "      <td>1</td>\n",
       "      <td>AL</td>\n",
       "      <td>1</td>\n",
       "      <td>499509.0</td>\n",
       "      <td>POLYGON ((-88.139988 34.581703, -88.1399689999...</td>\n",
       "      <td>2304253.0</td>\n",
       "      <td>21.677698</td>\n",
       "    </tr>\n",
       "    <tr>\n",
       "      <td>2</td>\n",
       "      <td>AR</td>\n",
       "      <td>0</td>\n",
       "      <td>1059959.0</td>\n",
       "      <td>POLYGON ((-94.55217999999999 36.102236, -94.55...</td>\n",
       "      <td>1508365.0</td>\n",
       "      <td>70.272050</td>\n",
       "    </tr>\n",
       "    <tr>\n",
       "      <td>3</td>\n",
       "      <td>AR</td>\n",
       "      <td>1</td>\n",
       "      <td>448406.0</td>\n",
       "      <td>POLYGON ((-94.55217999999999 36.102236, -94.55...</td>\n",
       "      <td>1508365.0</td>\n",
       "      <td>29.727950</td>\n",
       "    </tr>\n",
       "    <tr>\n",
       "      <td>4</td>\n",
       "      <td>AZ</td>\n",
       "      <td>0</td>\n",
       "      <td>2822020.0</td>\n",
       "      <td>POLYGON ((-114.516454 33.027617, -114.516639 3...</td>\n",
       "      <td>2911669.0</td>\n",
       "      <td>96.921044</td>\n",
       "    </tr>\n",
       "  </tbody>\n",
       "</table>\n",
       "</div>"
      ],
      "text/plain": [
       "  State  rural_Census  Employees  \\\n",
       "0    AL             0  1804744.0   \n",
       "1    AL             1   499509.0   \n",
       "2    AR             0  1059959.0   \n",
       "3    AR             1   448406.0   \n",
       "4    AZ             0  2822020.0   \n",
       "\n",
       "                                            geometry  Total Employees  \\\n",
       "0  POLYGON ((-88.139988 34.581703, -88.1399689999...        2304253.0   \n",
       "1  POLYGON ((-88.139988 34.581703, -88.1399689999...        2304253.0   \n",
       "2  POLYGON ((-94.55217999999999 36.102236, -94.55...        1508365.0   \n",
       "3  POLYGON ((-94.55217999999999 36.102236, -94.55...        1508365.0   \n",
       "4  POLYGON ((-114.516454 33.027617, -114.516639 3...        2911669.0   \n",
       "\n",
       "     Emp Pct  \n",
       "0  78.322302  \n",
       "1  21.677698  \n",
       "2  70.272050  \n",
       "3  29.727950  \n",
       "4  96.921044  "
      ]
     },
     "execution_count": 50,
     "metadata": {},
     "output_type": "execute_result"
    }
   ],
   "source": [
    "state_gdf['Emp Pct'] = (state_gdf['Employees'] / state_gdf['Total Employees']) * 100.0\n",
    "state_gdf.head()"
   ]
  },
  {
   "cell_type": "code",
   "execution_count": 51,
   "metadata": {
    "ExecuteTime": {
     "end_time": "2020-03-22T17:20:43.356563Z",
     "start_time": "2020-03-22T17:20:32.382595Z"
    },
    "scrolled": true
   },
   "outputs": [
    {
     "name": "stdout",
     "output_type": "stream",
     "text": [
      "User Guide: https://github.com/keplergl/kepler.gl/blob/master/docs/keplergl-jupyter/user-guide.md\n"
     ]
    }
   ],
   "source": [
    "map = keplergl.KeplerGl(height=500,data={'states':state_gdf})"
   ]
  },
  {
   "cell_type": "code",
   "execution_count": 52,
   "metadata": {
    "ExecuteTime": {
     "end_time": "2020-03-22T17:20:44.335200Z",
     "start_time": "2020-03-22T17:20:43.359145Z"
    },
    "scrolled": false
   },
   "outputs": [
    {
     "data": {
      "application/vnd.jupyter.widget-view+json": {
       "model_id": "54ad522929674c0f8d889bd420859dd1",
       "version_major": 2,
       "version_minor": 0
      },
      "text/plain": [
       "KeplerGl(data={'states':    State  rural_Census  Employees  \\\n",
       "0     AL             0  1804744.0   \n",
       "1     AL   …"
      ]
     },
     "metadata": {},
     "output_type": "display_data"
    }
   ],
   "source": [
    "map"
   ]
  },
  {
   "cell_type": "code",
   "execution_count": 53,
   "metadata": {
    "ExecuteTime": {
     "end_time": "2020-03-22T17:20:44.341716Z",
     "start_time": "2020-03-22T17:20:44.337868Z"
    }
   },
   "outputs": [],
   "source": [
    "map_config = map.config"
   ]
  },
  {
   "cell_type": "code",
   "execution_count": 54,
   "metadata": {
    "ExecuteTime": {
     "end_time": "2020-03-22T17:20:44.371630Z",
     "start_time": "2020-03-22T17:20:44.344696Z"
    }
   },
   "outputs": [
    {
     "data": {
      "text/plain": [
       "{}"
      ]
     },
     "execution_count": 54,
     "metadata": {},
     "output_type": "execute_result"
    }
   ],
   "source": [
    "map_config"
   ]
  },
  {
   "cell_type": "code",
   "execution_count": 55,
   "metadata": {
    "ExecuteTime": {
     "end_time": "2020-03-22T17:20:44.398592Z",
     "start_time": "2020-03-22T17:20:44.374296Z"
    }
   },
   "outputs": [
    {
     "ename": "KeyError",
     "evalue": "'config'",
     "output_type": "error",
     "traceback": [
      "\u001b[0;31m---------------------------------------------------------------------------\u001b[0m",
      "\u001b[0;31mKeyError\u001b[0m                                  Traceback (most recent call last)",
      "\u001b[0;32m<ipython-input-55-479d67023535>\u001b[0m in \u001b[0;36m<module>\u001b[0;34m\u001b[0m\n\u001b[1;32m      1\u001b[0m \u001b[0;31m# This established the filter requiring the value of 1 on the 'rural_Census' variable.\u001b[0m\u001b[0;34m\u001b[0m\u001b[0;34m\u001b[0m\u001b[0;34m\u001b[0m\u001b[0m\n\u001b[0;32m----> 2\u001b[0;31m \u001b[0mmap_config\u001b[0m\u001b[0;34m[\u001b[0m\u001b[0;34m'config'\u001b[0m\u001b[0;34m]\u001b[0m\u001b[0;34m[\u001b[0m\u001b[0;34m'visState'\u001b[0m\u001b[0;34m]\u001b[0m\u001b[0;34m[\u001b[0m\u001b[0;34m'filters'\u001b[0m\u001b[0;34m]\u001b[0m\u001b[0;34m[\u001b[0m\u001b[0;36m0\u001b[0m\u001b[0;34m]\u001b[0m\u001b[0;34m[\u001b[0m\u001b[0;34m'value'\u001b[0m\u001b[0;34m]\u001b[0m \u001b[0;34m=\u001b[0m \u001b[0;34m[\u001b[0m\u001b[0;36m1\u001b[0m\u001b[0;34m,\u001b[0m\u001b[0;36m1\u001b[0m\u001b[0;34m]\u001b[0m\u001b[0;34m\u001b[0m\u001b[0;34m\u001b[0m\u001b[0m\n\u001b[0m",
      "\u001b[0;31mKeyError\u001b[0m: 'config'"
     ]
    }
   ],
   "source": [
    "# This established the filter requiring the value of 1 on the 'rural_Census' variable.\n",
    "map_config['config']['visState']['filters'][0]['value'] = [1,1]"
   ]
  },
  {
   "cell_type": "code",
   "execution_count": null,
   "metadata": {
    "ExecuteTime": {
     "end_time": "2020-03-22T17:20:44.400864Z",
     "start_time": "2020-03-22T17:20:36.203Z"
    }
   },
   "outputs": [],
   "source": [
    "map_config['config']['visState']"
   ]
  },
  {
   "cell_type": "code",
   "execution_count": null,
   "metadata": {
    "ExecuteTime": {
     "end_time": "2020-03-22T17:20:44.402449Z",
     "start_time": "2020-03-22T17:20:36.821Z"
    }
   },
   "outputs": [],
   "source": [
    "map_2 = keplergl.KeplerGl(height=500,data={'states':state_gdf},config=map_config)"
   ]
  },
  {
   "cell_type": "code",
   "execution_count": null,
   "metadata": {
    "ExecuteTime": {
     "end_time": "2020-03-22T17:20:44.404004Z",
     "start_time": "2020-03-22T17:20:37.647Z"
    }
   },
   "outputs": [],
   "source": [
    "map_2"
   ]
  },
  {
   "cell_type": "code",
   "execution_count": null,
   "metadata": {
    "ExecuteTime": {
     "end_time": "2020-03-22T17:00:54.089661Z",
     "start_time": "2020-03-22T16:59:20.360Z"
    }
   },
   "outputs": [],
   "source": [
    "# The above is a choropleth map showing the percentage of employment in rural areas by state.\n",
    "\n",
    "# From the user manual\n",
    "# \"this will save map with provided data and config\"\n",
    "# \"map_1.save_to_html(data={'data_1': df}, config=config, file_name='first_map.html')\"\n",
    "\n",
    "# \"You need to manually select Widget > Save Notebook Widget State before shut downing the kernel \n",
    "# to make sure it will be reloaded.\"\""
   ]
  },
  {
   "cell_type": "code",
   "execution_count": null,
   "metadata": {
    "ExecuteTime": {
     "end_time": "2020-03-22T17:00:54.091041Z",
     "start_time": "2020-03-22T16:59:20.363Z"
    }
   },
   "outputs": [],
   "source": [
    "map_2.save_to_html(data={'states':state_gdf},config=map_config,data_file='maps/rural_emp_by_state.html')"
   ]
  },
  {
   "cell_type": "code",
   "execution_count": null,
   "metadata": {
    "ExecuteTime": {
     "end_time": "2020-03-22T17:00:54.092342Z",
     "start_time": "2020-03-22T16:59:20.365Z"
    }
   },
   "outputs": [],
   "source": [
    "# BEGIN --  The ratio of urban to rural employment in ag firms in each county."
   ]
  },
  {
   "cell_type": "code",
   "execution_count": null,
   "metadata": {
    "ExecuteTime": {
     "end_time": "2020-03-22T17:00:54.093523Z",
     "start_time": "2020-03-22T16:59:20.369Z"
    }
   },
   "outputs": [],
   "source": [
    "%%time\n",
    "year = 2017\n",
    "infile = 'data/df_%d_OMB_Census_HRSA_with_ag_flag.csv' % year\n",
    "df = pd.read_csv(infile,dtype=object)\n",
    "df['Longitude'] = df['Longitude'].astype(float)\n",
    "df['Latitude'] = df['Latitude'].astype(float)"
   ]
  },
  {
   "cell_type": "code",
   "execution_count": null,
   "metadata": {
    "ExecuteTime": {
     "end_time": "2020-03-22T17:00:54.094930Z",
     "start_time": "2020-03-22T16:59:20.371Z"
    }
   },
   "outputs": [],
   "source": [
    "# Remove Alaska and Hawaii for now.\n",
    "df = df[~df['State'].isin(['HI','AK'])]"
   ]
  },
  {
   "cell_type": "code",
   "execution_count": null,
   "metadata": {
    "ExecuteTime": {
     "end_time": "2020-03-22T17:00:54.096416Z",
     "start_time": "2020-03-22T16:59:20.375Z"
    }
   },
   "outputs": [],
   "source": [
    "df['rural_OMB'].value_counts()"
   ]
  },
  {
   "cell_type": "code",
   "execution_count": null,
   "metadata": {
    "ExecuteTime": {
     "end_time": "2020-03-22T17:00:54.097804Z",
     "start_time": "2020-03-22T16:59:20.377Z"
    }
   },
   "outputs": [],
   "source": [
    "df['rural_Census'].value_counts()"
   ]
  },
  {
   "cell_type": "code",
   "execution_count": null,
   "metadata": {
    "ExecuteTime": {
     "end_time": "2020-03-22T17:00:54.099129Z",
     "start_time": "2020-03-22T16:59:20.379Z"
    }
   },
   "outputs": [],
   "source": [
    "df['rural_HRSA'].value_counts()"
   ]
  },
  {
   "cell_type": "code",
   "execution_count": null,
   "metadata": {
    "ExecuteTime": {
     "end_time": "2020-03-22T17:00:54.100498Z",
     "start_time": "2020-03-22T16:59:20.382Z"
    }
   },
   "outputs": [],
   "source": [
    "df['Employee Size (5) - Location'] = df['Employee Size (5) - Location'].astype(float)"
   ]
  },
  {
   "cell_type": "code",
   "execution_count": null,
   "metadata": {
    "ExecuteTime": {
     "end_time": "2020-03-22T17:00:54.101761Z",
     "start_time": "2020-03-22T16:59:20.385Z"
    }
   },
   "outputs": [],
   "source": [
    "rural_OMB_grouped = df.groupby('rural_OMB').agg({'Employee Size (5) - Location':'sum'})\n",
    "rural_OMB_grouped.head()"
   ]
  },
  {
   "cell_type": "code",
   "execution_count": null,
   "metadata": {
    "ExecuteTime": {
     "end_time": "2020-03-22T17:00:54.103055Z",
     "start_time": "2020-03-22T16:59:20.388Z"
    }
   },
   "outputs": [],
   "source": [
    "rural_Census_grouped = df.groupby('rural_Census').agg({'Employee Size (5) - Location':'sum'})\n",
    "rural_Census_grouped.head()"
   ]
  },
  {
   "cell_type": "code",
   "execution_count": null,
   "metadata": {
    "ExecuteTime": {
     "end_time": "2020-03-22T17:00:54.104422Z",
     "start_time": "2020-03-22T16:59:20.391Z"
    }
   },
   "outputs": [],
   "source": [
    "rural_HRSA_grouped = df.groupby('rural_HRSA').agg({'Employee Size (5) - Location':'sum'})\n",
    "rural_HRSA_grouped.head()"
   ]
  },
  {
   "cell_type": "code",
   "execution_count": null,
   "metadata": {
    "ExecuteTime": {
     "end_time": "2020-03-22T17:00:54.105804Z",
     "start_time": "2020-03-22T16:59:20.394Z"
    }
   },
   "outputs": [],
   "source": [
    "# All of the above show that the Census Bureau's definition of rural (actually non-UA) includes the largest\n",
    "# number of InfoGroup firms and the largest quantity of rural employment."
   ]
  },
  {
   "cell_type": "code",
   "execution_count": null,
   "metadata": {
    "ExecuteTime": {
     "end_time": "2020-03-22T17:00:54.107117Z",
     "start_time": "2020-03-22T16:59:20.397Z"
    }
   },
   "outputs": [],
   "source": [
    "xdf = df[['State FIPS','FIPS Code','Employee Size (5) - Location','rural_Census']].copy()\n",
    "xdf.rename(columns={'Employee Size (5) - Location':'Employment'},inplace=True)"
   ]
  },
  {
   "cell_type": "code",
   "execution_count": null,
   "metadata": {
    "ExecuteTime": {
     "end_time": "2020-03-22T17:00:54.108408Z",
     "start_time": "2020-03-22T16:59:20.400Z"
    }
   },
   "outputs": [],
   "source": [
    "agr_df = xdf[xdf['rural_Census']=='1']"
   ]
  },
  {
   "cell_type": "code",
   "execution_count": null,
   "metadata": {
    "ExecuteTime": {
     "end_time": "2020-03-22T17:00:54.109717Z",
     "start_time": "2020-03-22T16:59:20.403Z"
    }
   },
   "outputs": [],
   "source": [
    "non_agr_df = xdf[xdf['rural_Census']=='0']\n",
    "print(len(non_agr_df))\n",
    "print(len(agr_df))"
   ]
  },
  {
   "cell_type": "code",
   "execution_count": null,
   "metadata": {},
   "outputs": [],
   "source": []
  },
  {
   "cell_type": "code",
   "execution_count": null,
   "metadata": {
    "ExecuteTime": {
     "end_time": "2020-03-22T17:00:54.111244Z",
     "start_time": "2020-03-22T16:59:20.408Z"
    }
   },
   "outputs": [],
   "source": [
    "xdf['FIPS Code'] = xdf['FIPS Code'].astype(str).apply(lambda x: x[:-2])\n",
    "xdf.head()"
   ]
  },
  {
   "cell_type": "code",
   "execution_count": null,
   "metadata": {
    "ExecuteTime": {
     "end_time": "2020-03-22T17:00:54.112607Z",
     "start_time": "2020-03-22T16:59:20.410Z"
    }
   },
   "outputs": [],
   "source": [
    "def prepend(code, num):\n",
    "    if len(code) == num:\n",
    "        return '0' + code\n",
    "    else:\n",
    "        return code"
   ]
  },
  {
   "cell_type": "code",
   "execution_count": null,
   "metadata": {
    "ExecuteTime": {
     "end_time": "2020-03-22T17:00:54.113916Z",
     "start_time": "2020-03-22T16:59:20.414Z"
    }
   },
   "outputs": [],
   "source": [
    "xdf['State FIPS'] = xdf['State FIPS'].apply(prepend,args=(1,))\n",
    "xdf['FIPS Code'] = xdf['FIPS Code'].apply(prepend,args=(4,))"
   ]
  },
  {
   "cell_type": "code",
   "execution_count": null,
   "metadata": {
    "ExecuteTime": {
     "end_time": "2020-03-22T17:00:54.115246Z",
     "start_time": "2020-03-22T16:59:20.418Z"
    }
   },
   "outputs": [],
   "source": [
    "xdf.dtypes"
   ]
  },
  {
   "cell_type": "code",
   "execution_count": null,
   "metadata": {
    "ExecuteTime": {
     "end_time": "2020-03-22T17:00:54.116829Z",
     "start_time": "2020-03-22T16:59:20.421Z"
    }
   },
   "outputs": [],
   "source": [
    "xdf['Employment'] = xdf['Employment'].astype(float).fillna(0.0)"
   ]
  },
  {
   "cell_type": "code",
   "execution_count": null,
   "metadata": {
    "ExecuteTime": {
     "end_time": "2020-03-22T17:00:54.118105Z",
     "start_time": "2020-03-22T16:59:20.424Z"
    }
   },
   "outputs": [],
   "source": [
    "grouped = xdf.groupby(['State FIPS','FIPS Code','rural_Census']).agg({'Employment':'sum'})"
   ]
  },
  {
   "cell_type": "code",
   "execution_count": null,
   "metadata": {
    "ExecuteTime": {
     "end_time": "2020-03-22T17:00:54.119515Z",
     "start_time": "2020-03-22T16:59:20.427Z"
    }
   },
   "outputs": [],
   "source": [
    "grouped.reset_index(inplace=True)"
   ]
  },
  {
   "cell_type": "code",
   "execution_count": null,
   "metadata": {
    "ExecuteTime": {
     "end_time": "2020-03-22T17:00:54.121103Z",
     "start_time": "2020-03-22T16:59:20.430Z"
    }
   },
   "outputs": [],
   "source": [
    "len(grouped['FIPS Code'].drop_duplicates())"
   ]
  },
  {
   "cell_type": "code",
   "execution_count": null,
   "metadata": {
    "ExecuteTime": {
     "end_time": "2020-03-22T17:00:54.122440Z",
     "start_time": "2020-03-22T16:59:20.433Z"
    }
   },
   "outputs": [],
   "source": [
    "len(grouped)"
   ]
  },
  {
   "cell_type": "code",
   "execution_count": null,
   "metadata": {
    "ExecuteTime": {
     "end_time": "2020-03-22T17:00:54.124232Z",
     "start_time": "2020-03-22T16:59:20.437Z"
    }
   },
   "outputs": [],
   "source": [
    "# Add the Polygon geometry.\n",
    "counties = gpd.read_file('map_files/tl_2017_us_county.shp')"
   ]
  },
  {
   "cell_type": "code",
   "execution_count": null,
   "metadata": {
    "ExecuteTime": {
     "end_time": "2020-03-22T17:00:54.125633Z",
     "start_time": "2020-03-22T16:59:20.440Z"
    }
   },
   "outputs": [],
   "source": [
    "counties = counties[['GEOID','geometry']]"
   ]
  },
  {
   "cell_type": "code",
   "execution_count": null,
   "metadata": {
    "ExecuteTime": {
     "end_time": "2020-03-22T17:00:54.126939Z",
     "start_time": "2020-03-22T16:59:20.443Z"
    }
   },
   "outputs": [],
   "source": [
    "merged = grouped.merge(counties,left_on='FIPS Code',right_on='GEOID',how='left')"
   ]
  },
  {
   "cell_type": "code",
   "execution_count": null,
   "metadata": {
    "ExecuteTime": {
     "end_time": "2020-03-22T17:00:54.128260Z",
     "start_time": "2020-03-22T16:59:20.445Z"
    }
   },
   "outputs": [],
   "source": [
    "merged.drop('GEOID',axis=1,inplace=True)"
   ]
  },
  {
   "cell_type": "code",
   "execution_count": null,
   "metadata": {
    "ExecuteTime": {
     "end_time": "2020-03-22T17:00:54.129522Z",
     "start_time": "2020-03-22T16:59:20.448Z"
    }
   },
   "outputs": [],
   "source": [
    "merged.head()"
   ]
  },
  {
   "cell_type": "code",
   "execution_count": null,
   "metadata": {
    "ExecuteTime": {
     "end_time": "2020-03-22T17:00:54.131462Z",
     "start_time": "2020-03-22T16:59:20.452Z"
    }
   },
   "outputs": [],
   "source": [
    "total = merged.groupby('FIPS Code').agg({'Employment':'sum'})\n",
    "len(total)"
   ]
  },
  {
   "cell_type": "code",
   "execution_count": null,
   "metadata": {
    "ExecuteTime": {
     "end_time": "2020-03-22T17:00:54.133465Z",
     "start_time": "2020-03-22T16:59:20.455Z"
    }
   },
   "outputs": [],
   "source": [
    "merged['rural_Census'].value_counts()\n",
    "# Thus there are only 411 counties (or parts of counties) with any InfoGroup agricultural employment."
   ]
  },
  {
   "cell_type": "code",
   "execution_count": null,
   "metadata": {
    "ExecuteTime": {
     "end_time": "2020-03-22T17:00:54.134752Z",
     "start_time": "2020-03-22T16:59:20.458Z"
    }
   },
   "outputs": [],
   "source": [
    "total.head()"
   ]
  },
  {
   "cell_type": "code",
   "execution_count": null,
   "metadata": {},
   "outputs": [],
   "source": []
  }
 ],
 "metadata": {
  "kernelspec": {
   "display_name": "Python 3",
   "language": "python",
   "name": "python3"
  },
  "language_info": {
   "codemirror_mode": {
    "name": "ipython",
    "version": 3
   },
   "file_extension": ".py",
   "mimetype": "text/x-python",
   "name": "python",
   "nbconvert_exporter": "python",
   "pygments_lexer": "ipython3",
   "version": "3.7.4"
  }
 },
 "nbformat": 4,
 "nbformat_minor": 2
}

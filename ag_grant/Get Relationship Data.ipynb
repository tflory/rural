{
 "cells": [
  {
   "cell_type": "code",
   "execution_count": 1,
   "metadata": {},
   "outputs": [],
   "source": [
    "import requests"
   ]
  },
  {
   "cell_type": "code",
   "execution_count": 2,
   "metadata": {},
   "outputs": [],
   "source": [
    "urls = ['https://www2.census.gov/geo/docs/maps-data/data/rel/ua_zcta_rel_10.txt?#',\n",
    "        'https://www2.census.gov/geo/docs/maps-data/data/rel/ua_cbsa_rel_10.txt?#',\n",
    "        'https://www2.census.gov/geo/docs/maps-data/data/rel/zcta_tract_rel_10.txt?#',\n",
    "        'https://www2.census.gov/geo/docs/maps-data/data/rel/zcta_cbsa_rel_10.txt?#']\n",
    "outfiles = ['Urban_Area_to_ZCTA.csv','Urban_Area_to_Metro_Micro_Area.csv',\n",
    "           'ZCTA_to_Census_Tract.csv','ZCTA_to_Metro_Micro_Area.csv']"
   ]
  },
  {
   "cell_type": "code",
   "execution_count": 6,
   "metadata": {},
   "outputs": [],
   "source": [
    "for i in range(0,4):\n",
    "    r = requests.get(urls[i])\n",
    "    with open('/home/tflory/Relationship_Files/' + outfiles[i], 'wb') as f:\n",
    "        f.write(r.content)"
   ]
  },
  {
   "cell_type": "code",
   "execution_count": 2,
   "metadata": {},
   "outputs": [],
   "source": [
    "url = 'https://www2.census.gov/geo/docs/maps-data/data/rel/2010_Census_Tract_to_2010_PUMA.txt'\n",
    "outfile = 'Census_Tract_to_PUMA.csv'"
   ]
  },
  {
   "cell_type": "code",
   "execution_count": 3,
   "metadata": {},
   "outputs": [],
   "source": [
    "r = requests.get(url)\n",
    "with open('/home/tflory/Relationship_Files/' + outfile, 'wb') as f:\n",
    "    f.write(r.content)"
   ]
  },
  {
   "cell_type": "code",
   "execution_count": null,
   "metadata": {},
   "outputs": [],
   "source": []
  }
 ],
 "metadata": {
  "anaconda-cloud": {},
  "kernelspec": {
   "display_name": "Python 3",
   "language": "python",
   "name": "python3"
  },
  "language_info": {
   "codemirror_mode": {
    "name": "ipython",
    "version": 3
   },
   "file_extension": ".py",
   "mimetype": "text/x-python",
   "name": "python",
   "nbconvert_exporter": "python",
   "pygments_lexer": "ipython3",
   "version": "3.7.7"
  }
 },
 "nbformat": 4,
 "nbformat_minor": 2
}

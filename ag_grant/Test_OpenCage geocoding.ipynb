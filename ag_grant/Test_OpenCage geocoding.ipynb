{
 "cells": [
  {
   "cell_type": "code",
   "execution_count": 1,
   "metadata": {},
   "outputs": [],
   "source": [
    "from opencage.geocoder import OpenCageGeocode\n",
    "import pandas as pd"
   ]
  },
  {
   "cell_type": "code",
   "execution_count": 2,
   "metadata": {},
   "outputs": [],
   "source": [
    "key = 'ec835d3be64547f8bb252358d2b4518d'\n",
    "geocoder = OpenCageGeocode(key)"
   ]
  },
  {
   "cell_type": "code",
   "execution_count": 3,
   "metadata": {},
   "outputs": [],
   "source": [
    "address = 'BROWN COUNTY FARM BUREAU COOPERATIVE,1241 JOHN Q HAMMONS DR,MADISON,WI'"
   ]
  },
  {
   "cell_type": "code",
   "execution_count": 14,
   "metadata": {},
   "outputs": [],
   "source": [
    "results = geocoder.geocode(address)"
   ]
  },
  {
   "cell_type": "code",
   "execution_count": 15,
   "metadata": {},
   "outputs": [
    {
     "data": {
      "text/plain": [
       "[{'annotations': {'DMS': {'lat': \"43° 4' 58.21320'' N\",\n",
       "    'lng': \"89° 31' 26.70960'' W\"},\n",
       "   'FIPS': {'state': '55'},\n",
       "   'MGRS': '16TBN9453773106',\n",
       "   'Maidenhead': 'EN53fb79cv',\n",
       "   'Mercator': {'x': -9965775.667, 'y': 5295393.714},\n",
       "   'OSM': {'url': 'https://www.openstreetmap.org/?mlat=43.08284&mlon=-89.52409#map=16/43.08284/-89.52409'},\n",
       "   'UN_M49': {'regions': {'AMERICAS': '019',\n",
       "     'NORTHERN_AMERICA': '021',\n",
       "     'US': '840',\n",
       "     'WORLD': '001'},\n",
       "    'statistical_groupings': ['MEDC']},\n",
       "   'callingcode': 1,\n",
       "   'currency': {'alternate_symbols': ['US$'],\n",
       "    'decimal_mark': '.',\n",
       "    'disambiguate_symbol': 'US$',\n",
       "    'html_entity': '$',\n",
       "    'iso_code': 'USD',\n",
       "    'iso_numeric': '840',\n",
       "    'name': 'United States Dollar',\n",
       "    'smallest_denomination': 1,\n",
       "    'subunit': 'Cent',\n",
       "    'subunit_to_unit': 100,\n",
       "    'symbol': '$',\n",
       "    'symbol_first': 1,\n",
       "    'thousands_separator': ','},\n",
       "   'flag': '🇺🇸',\n",
       "   'geohash': 'dp8m4ffx9wgjnrexmf3f',\n",
       "   'qibla': 47.06,\n",
       "   'roadinfo': {'drive_on': 'right',\n",
       "    'road': 'John Q Hammons Dr',\n",
       "    'speed_in': 'mph'},\n",
       "   'sun': {'rise': {'apparent': 1568633880,\n",
       "     'astronomical': 1568628120,\n",
       "     'civil': 1568632200,\n",
       "     'nautical': 1568630160},\n",
       "    'set': {'apparent': 1568592240,\n",
       "     'astronomical': 1568598060,\n",
       "     'civil': 1568593980,\n",
       "     'nautical': 1568595960}},\n",
       "   'timezone': {'name': 'America/Chicago',\n",
       "    'now_in_dst': 1,\n",
       "    'offset_sec': -18000,\n",
       "    'offset_string': '-0500',\n",
       "    'short_name': 'CDT'},\n",
       "   'what3words': {'words': 'abolishing.adapt.nodded'}},\n",
       "  'components': {'ISO_3166-1_alpha-2': 'US',\n",
       "   'ISO_3166-1_alpha-3': 'USA',\n",
       "   '_type': 'road',\n",
       "   'continent': 'North America',\n",
       "   'country': 'United States of America',\n",
       "   'country_code': 'us',\n",
       "   'road': 'John Q Hammons Dr',\n",
       "   'state': 'Wisconsin',\n",
       "   'state_code': 'WI',\n",
       "   'town': 'Madison'},\n",
       "  'confidence': 9,\n",
       "  'formatted': 'John Q Hammons Dr, Madison, WI, United States of America',\n",
       "  'geometry': {'lat': 43.082837, 'lng': -89.524086}},\n",
       " {'annotations': {'DMS': {'lat': \"43° 4' 22.98000'' N\",\n",
       "    'lng': \"89° 24' 4.42800'' W\"},\n",
       "   'FIPS': {'county': '55025', 'state': '55'},\n",
       "   'MGRS': '16TCN0450771725',\n",
       "   'Maidenhead': 'EN53hb17um',\n",
       "   'Mercator': {'x': -9952099.4, 'y': 5293907.483},\n",
       "   'OSM': {'url': 'https://www.openstreetmap.org/?mlat=43.07305&mlon=-89.40123#map=16/43.07305/-89.40123'},\n",
       "   'UN_M49': {'regions': {'AMERICAS': '019',\n",
       "     'NORTHERN_AMERICA': '021',\n",
       "     'US': '840',\n",
       "     'WORLD': '001'},\n",
       "    'statistical_groupings': ['MEDC']},\n",
       "   'callingcode': 1,\n",
       "   'currency': {'alternate_symbols': ['US$'],\n",
       "    'decimal_mark': '.',\n",
       "    'disambiguate_symbol': 'US$',\n",
       "    'html_entity': '$',\n",
       "    'iso_code': 'USD',\n",
       "    'iso_numeric': '840',\n",
       "    'name': 'United States Dollar',\n",
       "    'smallest_denomination': 1,\n",
       "    'subunit': 'Cent',\n",
       "    'subunit_to_unit': 100,\n",
       "    'symbol': '$',\n",
       "    'symbol_first': 1,\n",
       "    'thousands_separator': ','},\n",
       "   'flag': '🇺🇸',\n",
       "   'geohash': 'dp8mj9hn8q7r88qsz0q5',\n",
       "   'qibla': 47.15,\n",
       "   'roadinfo': {'drive_on': 'right', 'speed_in': 'mph'},\n",
       "   'sun': {'rise': {'apparent': 1568633880,\n",
       "     'astronomical': 1568628060,\n",
       "     'civil': 1568632140,\n",
       "     'nautical': 1568630160},\n",
       "    'set': {'apparent': 1568592240,\n",
       "     'astronomical': 1568598000,\n",
       "     'civil': 1568593920,\n",
       "     'nautical': 1568595960}},\n",
       "   'timezone': {'name': 'America/Chicago',\n",
       "    'now_in_dst': 1,\n",
       "    'offset_sec': -18000,\n",
       "    'offset_string': '-0500',\n",
       "    'short_name': 'CDT'},\n",
       "   'what3words': {'words': 'fats.later.store'}},\n",
       "  'bounds': {'northeast': {'lat': 43.171916, 'lng': -89.246846},\n",
       "   'southwest': {'lat': 42.998071, 'lng': -89.566672}},\n",
       "  'components': {'ISO_3166-1_alpha-2': 'US',\n",
       "   'ISO_3166-1_alpha-3': 'USA',\n",
       "   '_type': 'city',\n",
       "   'continent': 'North America',\n",
       "   'country': 'United States of America',\n",
       "   'country_code': 'us',\n",
       "   'county': 'Dane County',\n",
       "   'state': 'Wisconsin',\n",
       "   'state_code': 'WI',\n",
       "   'town': 'Madison'},\n",
       "  'confidence': 4,\n",
       "  'formatted': 'Madison, WI, United States of America',\n",
       "  'geometry': {'lat': 43.07305, 'lng': -89.40123}}]"
      ]
     },
     "execution_count": 15,
     "metadata": {},
     "output_type": "execute_result"
    }
   ],
   "source": [
    "results"
   ]
  },
  {
   "cell_type": "code",
   "execution_count": null,
   "metadata": {
    "collapsed": true
   },
   "outputs": [],
   "source": []
  }
 ],
 "metadata": {
  "anaconda-cloud": {},
  "kernelspec": {
   "display_name": "Python [anaconda3]",
   "language": "python",
   "name": "Python [anaconda3]"
  },
  "language_info": {
   "codemirror_mode": {
    "name": "ipython",
    "version": 3
   },
   "file_extension": ".py",
   "mimetype": "text/x-python",
   "name": "python",
   "nbconvert_exporter": "python",
   "pygments_lexer": "ipython3",
   "version": "3.5.5"
  }
 },
 "nbformat": 4,
 "nbformat_minor": 1
}

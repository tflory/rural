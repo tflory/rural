{
 "cells": [
  {
   "cell_type": "code",
   "execution_count": 1,
   "metadata": {},
   "outputs": [],
   "source": [
    "import pandas as pd"
   ]
  },
  {
   "cell_type": "code",
   "execution_count": 2,
   "metadata": {},
   "outputs": [
    {
     "name": "stdout",
     "output_type": "stream",
     "text": [
      "CPU times: user 45.6 s, sys: 6.3 s, total: 51.9 s\n",
      "Wall time: 44.9 s\n"
     ]
    }
   ],
   "source": [
    "%%time\n",
    "year = 2017\n",
    "infile = 'data/df_%d_OMB_Census_HRSA.csv' % year\n",
    "df = pd.read_csv(infile)"
   ]
  },
  {
   "cell_type": "code",
   "execution_count": 3,
   "metadata": {},
   "outputs": [],
   "source": [
    "# dict from notebook #3 used to apply descriptions to certain 6-digit NAICS codes that are considered\n",
    "# unambiguously ag-related.\n",
    "ag_naics = {'112112':'Cattle Feedlots',\n",
    "            '115111':'Cotton Ginning',\n",
    "            '115112':'Soil Preparation, Planting and Cultivating',\n",
    "            '115113':'Crop Harvesting, Primarily by Machine',\n",
    "            '115114':'Postharvest Crop Activities except Cotton Ginning',\n",
    "            '115115':'Farm Labor Contractors and Crew Leaders',\n",
    "            '115116':'Farm Management Services',\n",
    "            '423820':'Farm and Garden Machinery and Equipment Merchant Wholesalers',\n",
    "            '424430':'Dairy Product Merchant Wholesalers',\n",
    "            '424440':'Poultry and Poultry Product Merchant Wholesalers',\n",
    "            '424480':'Fresh Fruit and Vegetable Merchant Wholesalers',\n",
    "            '424510':'Grain and Field Bean Merchant Wholesalers',\n",
    "            '424520':'Livestock Merchant Wholesalers',\n",
    "            '424590':'Other Farm Product Raw Material Merchant Wholesalers',\n",
    "            '424910':'Farm Supplies Merchant Wholesalers',\n",
    "            '493130':'Farm Product Warehousing and Storage'}\n",
    "# For selection of records with ag-related NAICS codes, use thise set:\n",
    "ag_naics_codes = set(ag_naics.keys())"
   ]
  },
  {
   "cell_type": "code",
   "execution_count": 4,
   "metadata": {},
   "outputs": [],
   "source": [
    "df['ag_flag'] = df['NAICS6'].isin(ag_naics_codes)"
   ]
  },
  {
   "cell_type": "code",
   "execution_count": 5,
   "metadata": {},
   "outputs": [],
   "source": [
    "outfile = 'data/df_{}_OMB_Census_HRSA_with_ag_flag.csv'.format(year)"
   ]
  },
  {
   "cell_type": "code",
   "execution_count": 6,
   "metadata": {},
   "outputs": [],
   "source": [
    "df.to_csv(outfile,index=None)"
   ]
  },
  {
   "cell_type": "code",
   "execution_count": null,
   "metadata": {},
   "outputs": [],
   "source": []
  }
 ],
 "metadata": {
  "kernelspec": {
   "display_name": "Python 3",
   "language": "python",
   "name": "python3"
  },
  "language_info": {
   "codemirror_mode": {
    "name": "ipython",
    "version": 3
   },
   "file_extension": ".py",
   "mimetype": "text/x-python",
   "name": "python",
   "nbconvert_exporter": "python",
   "pygments_lexer": "ipython3",
   "version": "3.7.4"
  }
 },
 "nbformat": 4,
 "nbformat_minor": 2
}

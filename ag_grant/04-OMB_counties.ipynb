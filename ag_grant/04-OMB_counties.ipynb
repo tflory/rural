{
 "cells": [
  {
   "cell_type": "raw",
   "metadata": {},
   "source": [
    "NON-PROD"
   ]
  },
  {
   "cell_type": "code",
   "execution_count": 1,
   "metadata": {},
   "outputs": [],
   "source": [
    "# default_exp OMB_counties"
   ]
  },
  {
   "cell_type": "code",
   "execution_count": 2,
   "metadata": {},
   "outputs": [],
   "source": [
    "# The OMB urban concept has two categories: Metropolitan Areas and Micropolitan Areas, both created from counties\n",
    "# according to criteria described here: \n",
    "# https://www.govinfo.gov/content/pkg/FR-2010-06-28/pdf/2010-15605.pdf.\n",
    "\n",
    "# This notebook defines and maps counties that are\n",
    "# metropolitan, micropolitan, and neither (\"rural\")."
   ]
  },
  {
   "cell_type": "code",
   "execution_count": 3,
   "metadata": {},
   "outputs": [],
   "source": [
    "# export\n",
    "import pandas as pd"
   ]
  },
  {
   "cell_type": "code",
   "execution_count": 4,
   "metadata": {},
   "outputs": [],
   "source": [
    "# export\n",
    "words = {'0':'rural','1':'micropolitan','2':'metropolitan'}\n",
    "def make_word(code):\n",
    "    \"\"\"Apply a text description to the CBSA Level code.\"\"\"\n",
    "    return words[code]\n",
    "\n",
    "def is_it_rural(code):\n",
    "    \"\"\"Create a 1/0 rural/urban flag.\"\"\"\n",
    "    if code == '0':\n",
    "        return '1'\n",
    "    else:\n",
    "        return '0'"
   ]
  },
  {
   "cell_type": "code",
   "execution_count": 5,
   "metadata": {},
   "outputs": [],
   "source": [
    "# export\n",
    "# open a log file\n",
    "logfile = open('004-OMB.log','a')"
   ]
  },
  {
   "cell_type": "code",
   "execution_count": null,
   "metadata": {},
   "outputs": [],
   "source": [
    "# export\n",
    "for yr in range(1997,2018):\n",
    "    print(f'\\n{yr}:',file=logfile)\n",
    "    data_file = f'/InfoGroup/data/rurality/InfoGroup_final_{yr}.csv'\n",
    "    df = pd.read_csv(data_file,dtype=object)\n",
    "    df['CBSA Level desc'] = df['CBSA Level'].apply(make_word)\n",
    "    df['rural_OMB'] = df['CBSA Level'].apply(is_it_rural)\n",
    "    print(f'rural/urban by OMB standard:')\n",
    "    print(df['rural_OMB'].value_counts(),file=logfile)\n",
    "    print(df['rural_OMB'].value_counts(normalize=True) * 100,file=logfile)\n",
    "    # Write a new file\n",
    "    outfile = f'/InfoGroup/data/rurality/InfoGroup_final_OMB_{yr}.csv'\n",
    "    df.to_csv(outfile,index=None)"
   ]
  },
  {
   "cell_type": "code",
   "execution_count": null,
   "metadata": {},
   "outputs": [],
   "source": [
    "# export\n",
    "logfile.close()"
   ]
  }
 ],
 "metadata": {
  "anaconda-cloud": {},
  "kernelspec": {
   "display_name": "Python 3",
   "language": "python",
   "name": "python3"
  },
  "language_info": {
   "codemirror_mode": {
    "name": "ipython",
    "version": 3
   },
   "file_extension": ".py",
   "mimetype": "text/x-python",
   "name": "python",
   "nbconvert_exporter": "python",
   "pygments_lexer": "ipython3",
   "version": "3.8.2"
  }
 },
 "nbformat": 4,
 "nbformat_minor": 2
}

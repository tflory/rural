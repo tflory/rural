{
 "cells": [
  {
   "cell_type": "code",
   "execution_count": null,
   "metadata": {},
   "outputs": [],
   "source": [
    "import pandas as pd"
   ]
  },
  {
   "cell_type": "code",
   "execution_count": null,
   "metadata": {},
   "outputs": [],
   "source": [
    "infile = 'data/df_%d_OMB_Census_HRSA.csv' % year\n",
    "df = pd.read_csv(infile,dtype=object)"
   ]
  },
  {
   "cell_type": "code",
   "execution_count": null,
   "metadata": {},
   "outputs": [],
   "source": [
    "# dict from notebook #3 used to apply descriptions to certain 6-digit NAICS codes that are considered\n",
    "# unambiguously ag-related.\n",
    "ag_naics = {'112112':'Cattle Feedlots',\n",
    "            '115111':'Cotton Ginning',\n",
    "            '115112':'Soil Preparation, Planting and Cultivating',\n",
    "            '115113':'Crop Harvesting, Primarily by Machine',\n",
    "            '115114':'Postharvest Crop Activities except Cotton Ginning',\n",
    "            '115115':'Farm Labor Contractors and Crew Leaders',\n",
    "            '115116':'Farm Management Services',\n",
    "            '423820':'Farm and Garden Machinery and Equipment Merchant Wholesalers',\n",
    "            '424430':'Dairy Product Merchant Wholesalers',\n",
    "            '424440':'Poultry and Poultry Product Merchant Wholesalers',\n",
    "            '424480':'Fresh Fruit and Vegetable Merchant Wholesalers',\n",
    "            '424510':'Grain and Field Bean Merchant Wholesalers',\n",
    "            '424520':'Livestock Merchant Wholesalers',\n",
    "            '424590':'Other Farm Product Raw Material Merchant Wholesalers',\n",
    "            '424910':'Farm Supplies Merchant Wholesalers',\n",
    "            '493130':'Farm Product Warehousing and Storage'}\n",
    "# For selection of records with ag-related NAICS codes, use thise set:\n",
    "ag_naics_codes = set(ag_naics.keys())\n",
    "# There are many other NAICS codes that apply to establishments that may be ag-related but aren't necessarily.\n",
    "# We'll have to deal with those after more filtering to identify such establishments by other means."
   ]
  }
 ],
 "metadata": {
  "anaconda-cloud": {},
  "kernelspec": {
   "display_name": "Python [Root]",
   "language": "python",
   "name": "Python [Root]"
  },
  "language_info": {
   "codemirror_mode": {
    "name": "ipython",
    "version": 3
   },
   "file_extension": ".py",
   "mimetype": "text/x-python",
   "name": "python",
   "nbconvert_exporter": "python",
   "pygments_lexer": "ipython3",
   "version": "3.5.5"
  }
 },
 "nbformat": 4,
 "nbformat_minor": 2
}

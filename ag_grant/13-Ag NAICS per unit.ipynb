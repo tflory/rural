{
 "cells": [
  {
   "cell_type": "code",
   "execution_count": 1,
   "metadata": {},
   "outputs": [],
   "source": [
    "import pandas as pd"
   ]
  },
  {
   "cell_type": "code",
   "execution_count": 3,
   "metadata": {},
   "outputs": [],
   "source": [
    "year = 2017\n",
    "infile = 'data/df_%d_OMB_Census_HRSA.csv' % year\n",
    "df = pd.read_csv(infile,dtype=object)"
   ]
  },
  {
   "cell_type": "code",
   "execution_count": 4,
   "metadata": {},
   "outputs": [
    {
     "data": {
      "text/plain": [
       "Index(['Company', 'Address Line 1', 'City', 'State', 'ZipCode', 'County Code',\n",
       "       'Primary NAICS Code', 'Census Tract', 'Census Block', 'Latitude',\n",
       "       'Longitude', 'CBSA Code', 'CBSA Level', 'CSA Code', 'FIPS Code',\n",
       "       'State FIPS', 'NAICS2', 'NAICS2 desc', 'UA', 'NAICS6', 'NAICS6 desc',\n",
       "       'rural_OMB', 'rural_Census', 'Full Census Tract', 'rural_HRSA'],\n",
       "      dtype='object')"
      ]
     },
     "execution_count": 4,
     "metadata": {},
     "output_type": "execute_result"
    }
   ],
   "source": [
    "df.columns"
   ]
  },
  {
   "cell_type": "code",
   "execution_count": null,
   "metadata": {},
   "outputs": [],
   "source": [
    "# dict from notebook #3 used to apply descriptions to certain 6-digit NAICS codes that are considered\n",
    "# unambiguously ag-related.\n",
    "ag_naics = {'112112':'Cattle Feedlots',\n",
    "            '115111':'Cotton Ginning',\n",
    "            '115112':'Soil Preparation, Planting and Cultivating',\n",
    "            '115113':'Crop Harvesting, Primarily by Machine',\n",
    "            '115114':'Postharvest Crop Activities except Cotton Ginning',\n",
    "            '115115':'Farm Labor Contractors and Crew Leaders',\n",
    "            '115116':'Farm Management Services',\n",
    "            '423820':'Farm and Garden Machinery and Equipment Merchant Wholesalers',\n",
    "            '424430':'Dairy Product Merchant Wholesalers',\n",
    "            '424440':'Poultry and Poultry Product Merchant Wholesalers',\n",
    "            '424480':'Fresh Fruit and Vegetable Merchant Wholesalers',\n",
    "            '424510':'Grain and Field Bean Merchant Wholesalers',\n",
    "            '424520':'Livestock Merchant Wholesalers',\n",
    "            '424590':'Other Farm Product Raw Material Merchant Wholesalers',\n",
    "            '424910':'Farm Supplies Merchant Wholesalers',\n",
    "            '493130':'Farm Product Warehousing and Storage'}\n",
    "# For selection of records with ag-related NAICS codes, use thise set:\n",
    "ag_naics_codes = set(ag_naics.keys())"
   ]
  },
  {
   "cell_type": "code",
   "execution_count": null,
   "metadata": {},
   "outputs": [],
   "source": [
    "maybe_ag_naics = {'221310':'Water Supply and Irrigation Systems',\n",
    "                  '236220':'Commercial and Institutional Building Construction',\n",
    "                  '444220':'Nursery, Garden Center, and Farm Supply Stores',\n",
    "                  '484220':'Specialized Freight Trucking, Local',\n",
    "                  '484230':'Specialized Freight Trucking, Long-Distance',\n",
    "                  '522220':'Sales Financing',\n",
    "                  '522292':'Real Estate Credit',\n",
    "                  '522294','Secondary Market Financing',\n",
    "                  '522298','All Other Nondepository Credit Intermediation',\n",
    "                  '532490':'Other Commercial and Industrial Machinery and Equipment Rental and Leasing',\n",
    "                  '811310':'Commercial and Industrial Machinery and Equipment (except Automotive and Electronic) Repair and Maintenance'}\n",
    "maybe_ag_naics_codes = set(maybe_ag_naics.keys())"
   ]
  }
 ],
 "metadata": {
  "anaconda-cloud": {},
  "kernelspec": {
   "display_name": "Python 3",
   "language": "python",
   "name": "python3"
  },
  "language_info": {
   "codemirror_mode": {
    "name": "ipython",
    "version": 3
   },
   "file_extension": ".py",
   "mimetype": "text/x-python",
   "name": "python",
   "nbconvert_exporter": "python",
   "pygments_lexer": "ipython3",
   "version": "3.7.4"
  }
 },
 "nbformat": 4,
 "nbformat_minor": 2
}

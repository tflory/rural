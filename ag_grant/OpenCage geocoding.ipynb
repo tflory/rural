{
 "cells": [
  {
   "cell_type": "code",
   "execution_count": 1,
   "metadata": {
    "collapsed": true
   },
   "outputs": [],
   "source": [
    "from opencage.geocoder import OpenCageGeocode\n",
    "import pandas as pd"
   ]
  },
  {
   "cell_type": "code",
   "execution_count": 2,
   "metadata": {
    "collapsed": true
   },
   "outputs": [],
   "source": [
    "key = 'ec835d3be64547f8bb252358d2b4518d'\n",
    "geocoder = OpenCageGeocode(key)"
   ]
  },
  {
   "cell_type": "code",
   "execution_count": 3,
   "metadata": {
    "collapsed": true
   },
   "outputs": [],
   "source": [
    "def do_it(address):\n",
    "    results = geocoder.geocode(address)\n",
    "    try:\n",
    "        county = results[0]['components']['county'][:-7].strip().upper()\n",
    "    except KeyError:\n",
    "        county = results[1]['components']['county'][:-7].strip().upper()\n",
    "    except:\n",
    "        print('Could not find county name for',address)\n",
    "        county = ''\n",
    "    return([[results[0]['geometry']['lat'],results[0]['geometry']['lng']],county])\n",
    "    # returns a list in which list[0] is a list of coordinates and list[1] is the county name"
   ]
  },
  {
   "cell_type": "code",
   "execution_count": 4,
   "metadata": {},
   "outputs": [],
   "source": [
    "def expand_address(row):\n",
    "    if str(row['Address']) == 'nan': \n",
    "        return row['City'] + ',' + 'WI' + ' ' + row['Zip']\n",
    "    else:\n",
    "        return str(row['Address']) + ',' + row['City'] + ',' + 'WI' + ' ' + row['Zip']"
   ]
  },
  {
   "cell_type": "code",
   "execution_count": 5,
   "metadata": {
    "collapsed": true
   },
   "outputs": [],
   "source": [
    "def county(row):\n",
    "    return row['Coordinates'][1]"
   ]
  },
  {
   "cell_type": "code",
   "execution_count": 6,
   "metadata": {},
   "outputs": [],
   "source": [
    "infiles = ['../data/DFI_co-ops_complete.csv','../data/additions_to_DFI.csv']\n",
    "#infiles = ['../data/test_DFI.csv','../data/test_additions.csv']\n",
    "co_ops_df = pd.DataFrame()\n",
    "\n",
    "for file in infiles:\n",
    "    df = pd.read_csv(file,dtype=object)\n",
    "    df['Zip'] = df['Zip'].apply(lambda z : z[0:5])\n",
    "    df['Full_address'] = df.apply(expand_address,axis=1)\n",
    "    df['Coordinates'] = df['Full_address'].apply(do_it)\n",
    "    co_ops_df = pd.concat([co_ops_df,df], ignore_index=True, sort=False)"
   ]
  },
  {
   "cell_type": "code",
   "execution_count": 7,
   "metadata": {},
   "outputs": [],
   "source": [
    "# Extract the county name from the Coordinates column and overwrite the County column with the result.\n",
    "co_ops_df['County'] = co_ops_df.apply(county,axis=1)\n",
    "\n",
    "# Remove the county name from the Coordinates column\n",
    "co_ops_df['Coordinates'] = co_ops_df['Coordinates'].apply(lambda li : li[0])"
   ]
  },
  {
   "cell_type": "code",
   "execution_count": 8,
   "metadata": {},
   "outputs": [
    {
     "data": {
      "text/plain": [
       "759"
      ]
     },
     "execution_count": 8,
     "metadata": {},
     "output_type": "execute_result"
    }
   ],
   "source": [
    "len(co_ops_df)"
   ]
  },
  {
   "cell_type": "code",
   "execution_count": 9,
   "metadata": {
    "collapsed": true
   },
   "outputs": [],
   "source": [
    "outfile = \"../data/co-ops_2019_all_sources.csv\"\n",
    "co_ops_df.to_csv(outfile,index=None)"
   ]
  },
  {
   "cell_type": "code",
   "execution_count": null,
   "metadata": {
    "collapsed": true
   },
   "outputs": [],
   "source": []
  }
 ],
 "metadata": {
  "anaconda-cloud": {},
  "kernelspec": {
   "display_name": "Python [anaconda3]",
   "language": "python",
   "name": "Python [anaconda3]"
  },
  "language_info": {
   "codemirror_mode": {
    "name": "ipython",
    "version": 3
   },
   "file_extension": ".py",
   "mimetype": "text/x-python",
   "name": "python",
   "nbconvert_exporter": "python",
   "pygments_lexer": "ipython3",
   "version": "3.5.5"
  }
 },
 "nbformat": 4,
 "nbformat_minor": 1
}

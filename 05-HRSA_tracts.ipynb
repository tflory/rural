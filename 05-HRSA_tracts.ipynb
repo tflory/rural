{
 "cells": [
  {
   "cell_type": "code",
   "execution_count": 1,
   "metadata": {
    "ExecuteTime": {
     "end_time": "2020-07-14T05:20:53.954308Z",
     "start_time": "2020-07-14T05:20:53.950432Z"
    }
   },
   "outputs": [],
   "source": [
    "#default_exp HRSA_tracts"
   ]
  },
  {
   "cell_type": "code",
   "execution_count": 2,
   "metadata": {
    "ExecuteTime": {
     "end_time": "2020-07-14T05:20:54.038761Z",
     "start_time": "2020-07-14T05:20:53.958793Z"
    }
   },
   "outputs": [],
   "source": [
    "# \"There are measurement challenges with both the Census and OMB definitions. Some policy \n",
    "# experts note that the Census definition classifies quite a bit of suburban area as rural. \n",
    "# The OMB definition includes rural areas in Metropolitan counties including, for example, \n",
    "# the Grand Canyon which is located in a Metro county. Consequently, one could argue that the \n",
    "# Census Bureau standard includes an overcount of the rural population whereas the OMB standard \n",
    "# represents an undercount.\" \n",
    "\n",
    "# To get the locations that are rural by HRSA definition, add these census tracts in metro/micro \n",
    "# counties to the non-metro/micro counties in the OMB definition. (HRSA is the Health Resources \n",
    "# and Services Administration. A unit of HRSA is the Federal Office of Rural Health Policy \n",
    "# (FORHP). FORHP is the unit that defines 'rural' in a way that is different from OMB and Census.\n",
    "\n",
    "# The HRSA definition, in other words, is a refinement on the OMB definition. The Census \n",
    "# definition is unrelated to either and later notebooks show that it incorporates the largest \n",
    "# number of InfoGroup firms and the largest quantity of rural employment.\n",
    "\n",
    "# from: https://www.hrsa.gov/rural-health/about-us/definition/index.html(the first paragraph is \n",
    "# also from this source):\n",
    "# \"The FORHP accepts all non-Metro counties as rural and uses an additional method of determining \n",
    "# rurality called the Rural-Urban Commuting Area (RUCA) codes.\" RUCA codes are computed from \n",
    "# Census data. See \n",
    "# https://www.ers.usda.gov/topics/rural-economy-population.aspx and \n",
    "# https://www.ers.usda.gov/data-products/rural-urban-commuting-area-codes/"
   ]
  },
  {
   "cell_type": "code",
   "execution_count": 3,
   "metadata": {
    "ExecuteTime": {
     "end_time": "2020-07-14T05:20:54.051464Z",
     "start_time": "2020-07-14T05:20:54.041508Z"
    }
   },
   "outputs": [],
   "source": [
    "# This is not the same universe as the ACP project. They \"focus on the counties in which more than 80% of a given \n",
    "# county falls into the HRSA rural definition.\" This is not clear. 80% of what? Probably area, but in any case, \n",
    "# their definition applies to whole counties.\n",
    "\n",
    "# To the extent that our analysis is based on individual businesses, we can locate observations within\n",
    "# areas that are wholly rural; i.e., non-metro counties and rural census tracts in metro counties as defined by\n",
    "# HRSA/FORHP. \n",
    "\n",
    "# At the bottom of this notebook we add flags to identify a record as 'rural' in each of the three \n",
    "# (OMB, Census, HRSA) criteria."
   ]
  },
  {
   "cell_type": "code",
   "execution_count": 4,
   "metadata": {
    "ExecuteTime": {
     "end_time": "2020-07-14T05:20:56.083150Z",
     "start_time": "2020-07-14T05:20:54.055115Z"
    }
   },
   "outputs": [],
   "source": [
    "import PyPDF2\n",
    "import pandas as pd\n",
    "import numpy as np"
   ]
  },
  {
   "cell_type": "code",
   "execution_count": 5,
   "metadata": {
    "ExecuteTime": {
     "end_time": "2020-07-14T05:20:56.094424Z",
     "start_time": "2020-07-14T05:20:56.086095Z"
    }
   },
   "outputs": [],
   "source": [
    "def combo(row):\n",
    "    if row['FIPS Code'] == 99999 or row['Census Tract'] == 999999:\n",
    "        return np.nan\n",
    "    else:\n",
    "        #try:\n",
    "        return str(row['FIPS Code']) + str(row['Census Tract'])\n",
    "        #except TypeError:\n",
    "        #    fips = str(int(row['FIPS Code']))\n",
    "        #    tract = str(int(row['Census Tract']))\n",
    "        #    return fips + tract\n",
    "        \n",
    "def rur3(row):\n",
    "    if int(row['CBSA Level']) == 0 or row['Full Census Tract'] in rural_tracts:\n",
    "        return 1\n",
    "    return 0"
   ]
  },
  {
   "cell_type": "code",
   "execution_count": 6,
   "metadata": {
    "ExecuteTime": {
     "end_time": "2020-07-14T05:20:58.701335Z",
     "start_time": "2020-07-14T05:20:56.096494Z"
    }
   },
   "outputs": [],
   "source": [
    "# Source: \n",
    "# https://www.hrsa.gov/sites/default/files/hrsa/ruralhealth/resources/forhpeligibleareas.pdf\n",
    "infile = '/InfoGroup/data/rurality/FORHP_eligibleareas.pdf'\n",
    "# pdf file object\n",
    "pdfFileObj = open(infile, 'rb')\n",
    "# pdf reader object\n",
    "pdfReader = PyPDF2.PdfFileReader(pdfFileObj)\n",
    "npages = pdfReader.numPages\n",
    "# There are 48 pages in the pdf document. Tract data begins on page 19.\n",
    "pages = []\n",
    "for pg in range(0,npages):\n",
    "    # a page object\n",
    "    pageObj = pdfReader.getPage(pg)\n",
    "    # extracting text from page.\n",
    "    pages.append(pageObj.extractText())\n",
    "    \n",
    "pdfFileObj.close()"
   ]
  },
  {
   "cell_type": "code",
   "execution_count": 7,
   "metadata": {
    "ExecuteTime": {
     "end_time": "2020-07-14T05:20:58.708905Z",
     "start_time": "2020-07-14T05:20:58.703995Z"
    }
   },
   "outputs": [],
   "source": [
    "# hide\n",
    "with open('/InfoGroup/data/rurality/tract_data.txt','w') as fout:\n",
    "    for pg in range(19,48):\n",
    "        fout.write(pages[pg])"
   ]
  },
  {
   "cell_type": "code",
   "execution_count": 8,
   "metadata": {
    "ExecuteTime": {
     "end_time": "2020-07-14T05:20:58.827594Z",
     "start_time": "2020-07-14T05:20:58.711175Z"
    }
   },
   "outputs": [],
   "source": [
    "# Extract just the tract IDs into a list. First 5 digits of Tract IDs are the same as \n",
    "# the State/County FIPS code.\n",
    "rural_tracts = []\n",
    "\n",
    "with open('/InfoGroup/data/rurality/tract_data.txt','r') as fin:\n",
    "    for line in fin:\n",
    "        if line[0] != chr(32):\n",
    "            continue\n",
    "        else:\n",
    "            line = line.strip()\n",
    "            try:\n",
    "                if line[0].isnumeric(): \n",
    "                    rural_tracts.append(line)\n",
    "            except IndexError:\n",
    "                pass"
   ]
  },
  {
   "cell_type": "code",
   "execution_count": 9,
   "metadata": {
    "ExecuteTime": {
     "end_time": "2020-07-14T05:20:58.934227Z",
     "start_time": "2020-07-14T05:20:58.829845Z"
    }
   },
   "outputs": [],
   "source": [
    "# hide\n",
    "with open('/InfoGroup/data/rurality/rural_census_tracts.lis','w') as fout:\n",
    "    for t in rural_tracts:\n",
    "        fout.write(t+'\\n')"
   ]
  },
  {
   "cell_type": "code",
   "execution_count": 10,
   "metadata": {
    "ExecuteTime": {
     "end_time": "2020-07-14T05:20:58.990548Z",
     "start_time": "2020-07-14T05:20:58.937929Z"
    }
   },
   "outputs": [],
   "source": [
    "logfile = open('005-HRSA.log','w')"
   ]
  },
  {
   "cell_type": "code",
   "execution_count": 11,
   "metadata": {
    "ExecuteTime": {
     "end_time": "2020-07-14T21:18:01.401800Z",
     "start_time": "2020-07-14T05:20:58.994115Z"
    }
   },
   "outputs": [],
   "source": [
    "for yr in range(1997,2018):\n",
    "    print(f'{yr}:',file=logfile)\n",
    "    infile = f'/InfoGroup/data/rurality/InfoGroup_{yr}_nb04.csv'\n",
    "    df = pd.read_csv(infile,dtype=object) \n",
    "    df['Census Tract'].fillna('999999',inplace=True)\n",
    "    df['FIPS Code'].fillna('99999',inplace=True)\n",
    "    df['Full Census Tract'] = df.apply(combo,axis=1)\n",
    "    df['rural_HRSA'] = df.apply(rur3,axis=1)\n",
    "    print(df['rural_HRSA'].value_counts(),file=logfile)\n",
    "    print(df['rural_HRSA'].value_counts(normalize=True) * 100,file=logfile)\n",
    "    # write a new file\n",
    "    outfile = f'/InfoGroup/data/rurality/InfoGroup_{yr}_nb05.csv'\n",
    "    df.to_csv(outfile,index=None)"
   ]
  },
  {
   "cell_type": "code",
   "execution_count": 12,
   "metadata": {
    "ExecuteTime": {
     "end_time": "2020-07-14T21:18:01.794297Z",
     "start_time": "2020-07-14T21:18:01.667002Z"
    }
   },
   "outputs": [],
   "source": [
    "logfile.close()"
   ]
  },
  {
   "cell_type": "code",
   "execution_count": 13,
   "metadata": {
    "ExecuteTime": {
     "end_time": "2020-07-14T21:18:03.780087Z",
     "start_time": "2020-07-14T21:18:01.796959Z"
    }
   },
   "outputs": [],
   "source": [
    "# hide\n",
    "# InfoGroup for 2017 has data on 82,385 census tracts for all (above). The HRSA/FORHP file \n",
    "# of rural units lists 2,302 rural census tracts in addition to all those in non-Metro \n",
    "# counties. The Census's Zip Code-to-Census Tracts relationship file identifies 74,091 \n",
    "# census tracts in all states(below).\n",
    "# The ID of a census tract is the combination of the state FIPS, county FIPS, and tract number.\n",
    "# infile = '/home/tflory/Relationship_Files/Census_Tract_to_PUMA.csv'\n",
    "# ct_df = pd.read_csv(infile,usecols=['STATEFP','COUNTYFP','TRACTCE']).drop_duplicates()"
   ]
  },
  {
   "cell_type": "code",
   "execution_count": null,
   "metadata": {},
   "outputs": [],
   "source": []
  }
 ],
 "metadata": {
  "anaconda-cloud": {},
  "kernelspec": {
   "display_name": "Python 3",
   "language": "python",
   "name": "python3"
  },
  "language_info": {
   "codemirror_mode": {
    "name": "ipython",
    "version": 3
   },
   "file_extension": ".py",
   "mimetype": "text/x-python",
   "name": "python",
   "nbconvert_exporter": "python",
   "pygments_lexer": "ipython3",
   "version": "3.8.2"
  }
 },
 "nbformat": 4,
 "nbformat_minor": 4
}

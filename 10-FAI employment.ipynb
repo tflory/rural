{
 "cells": [
  {
   "cell_type": "code",
   "execution_count": null,
   "metadata": {},
   "outputs": [],
   "source": [
    "import pandas as pd\n",
    "import os\n",
    "import glob"
   ]
  },
  {
   "cell_type": "code",
   "execution_count": null,
   "metadata": {},
   "outputs": [],
   "source": [
    "dat = '/InfoGroup/data/original/'"
   ]
  },
  {
   "cell_type": "code",
   "execution_count": null,
   "metadata": {},
   "outputs": [],
   "source": [
    "filelist = glob.glob(os.path.join(dat, '2*.csv'))"
   ]
  },
  {
   "cell_type": "code",
   "execution_count": null,
   "metadata": {},
   "outputs": [],
   "source": [
    "# Total employment by year\n",
    "emp = {}\n",
    "for f in filelist:\n",
    "    year = f[25:29]\n",
    "    ser = pd.read_csv(f,usecols=['Employee Size (5) - Location'],dtype=float)\n",
    "    tot = ser['Employee Size (5) - Location'].sum()\n",
    "    emp[year] = tot"
   ]
  },
  {
   "cell_type": "code",
   "execution_count": null,
   "metadata": {},
   "outputs": [],
   "source": [
    "scores = set([2362,2382,3111,3112,3114,3115,3116,3117,3119,3222,3251,3253,3261,3272,3332,3333,\n",
    "          3339,3352,3369,3371,4234,4238,4241,4244,4246,4249,4451,4452,4461,4471,4529,4543,\n",
    "          5413,5417,6242,7223,7225,8113,9231,9261,1151,1152,2371,2379,3219,3254,3322,3323,\n",
    "          3324,3326,3331,3399,4245,4442,4842,4931,5222,5324,5419,7121,8129,8134,8139])"
   ]
  },
  {
   "cell_type": "code",
   "execution_count": null,
   "metadata": {},
   "outputs": [
    {
     "name": "stdout",
     "output_type": "stream",
     "text": [
      "13196449 rows in full DataFrame for 2005\n",
      "\t12775717 rows left after removing NaN on NAICS Code and Employment\n",
      "\t2790254 rows left after selecting those in FAI NAICS categories\n",
      "12743180 rows in full DataFrame for 2003\n",
      "\t12363031 rows left after removing NaN on NAICS Code and Employment\n",
      "\t2674539 rows left after selecting those in FAI NAICS categories\n",
      "12616724 rows in full DataFrame for 2004\n",
      "\t12291698 rows left after removing NaN on NAICS Code and Employment\n",
      "\t2668554 rows left after selecting those in FAI NAICS categories\n",
      "15716633 rows in full DataFrame for 2016\n",
      "\t14636174 rows left after removing NaN on NAICS Code and Employment\n",
      "\t2948212 rows left after selecting those in FAI NAICS categories\n",
      "15916903 rows in full DataFrame for 2014\n",
      "\t15243173 rows left after removing NaN on NAICS Code and Employment\n",
      "\t3138632 rows left after selecting those in FAI NAICS categories\n",
      "15954358 rows in full DataFrame for 2013\n",
      "\t15553212 rows left after removing NaN on NAICS Code and Employment\n",
      "\t3148797 rows left after selecting those in FAI NAICS categories\n",
      "13834280 rows in full DataFrame for 2010\n",
      "\t13501595 rows left after removing NaN on NAICS Code and Employment\n",
      "\t2802357 rows left after selecting those in FAI NAICS categories\n",
      "14827152 rows in full DataFrame for 2017\n",
      "\t13861193 rows left after removing NaN on NAICS Code and Employment\n",
      "\t2786566 rows left after selecting those in FAI NAICS categories\n",
      "13468613 rows in full DataFrame for 2011\n",
      "\t13133129 rows left after removing NaN on NAICS Code and Employment\n",
      "\t2707839 rows left after selecting those in FAI NAICS categories\n",
      "13669081 rows in full DataFrame for 2009\n",
      "\t13600101 rows left after removing NaN on NAICS Code and Employment\n",
      "\t2844221 rows left after selecting those in FAI NAICS categories\n",
      "13350450 rows in full DataFrame for 2006\n",
      "\t12931448 rows left after removing NaN on NAICS Code and Employment\n",
      "\t2808585 rows left after selecting those in FAI NAICS categories\n",
      "13701376 rows in full DataFrame for 2007\n",
      "\t13643073 rows left after removing NaN on NAICS Code and Employment\n",
      "\t2894604 rows left after selecting those in FAI NAICS categories\n",
      "15628916 rows in full DataFrame for 2015\n",
      "\t14829723 rows left after removing NaN on NAICS Code and Employment\n",
      "\t3018096 rows left after selecting those in FAI NAICS categories\n",
      "13887803 rows in full DataFrame for 2008\n",
      "\t13820553 rows left after removing NaN on NAICS Code and Employment\n",
      "\t2893445 rows left after selecting those in FAI NAICS categories\n",
      "14715368 rows in full DataFrame for 2012\n",
      "\t14134090 rows left after removing NaN on NAICS Code and Employment\n",
      "\t2916687 rows left after selecting those in FAI NAICS categories\n"
     ]
    }
   ],
   "source": [
    "df_fai_list = [] \n",
    "for f in filelist:\n",
    "    year = f[25:29]\n",
    "    df= pd.read_csv(f,usecols=['Primary NAICS Code', 'Employee Size (5) - Location', 'CBSA Level'], \\\n",
    "                    dtype='object')\n",
    "    print(str(len(df)),'rows in full DataFrame for',year)\n",
    "    df['CBSA Level'].fillna('0',inplace=True)\n",
    "    df['year'] = year\n",
    "\n",
    "    df = df.dropna()\n",
    "    print('\\t'+str(len(df)),'rows left after removing NaN on NAICS Code and Employment')\n",
    "    df['Primary NAICS Code'] = df['Primary NAICS Code'].astype(int)\n",
    "\n",
    "    df['Short NAICS'] = df['Primary NAICS Code'].apply(lambda x: int(x/10000))\n",
    "    df = df[df['Short NAICS'].isin(scores)]\n",
    "    print('\\t'+str(len(df)),'rows left after selecting those in FAI NAICS categories')\n",
    "    \n",
    "    df_fai_list.extend(df[['year','Employee Size (5) - Location','CBSA Level']].values.tolist())\n"
   ]
  },
  {
   "cell_type": "code",
   "execution_count": null,
   "metadata": {},
   "outputs": [
    {
     "name": "stdout",
     "output_type": "stream",
     "text": [
      "0.19732331017832985\n",
      "0.020109995541075783\n",
      "0.013144864123599675\n"
     ]
    }
   ],
   "source": [
    "# 2017\n",
    "metro = df[df['CBSA Level']=='2']\n",
    "micro = df[df['CBSA Level']=='1']\n",
    "rur = df[df['CBSA Level']=='0']\n",
    "xsum = metro['Employee Size (5) - Location'].astype(float).sum()\n",
    "print(xsum/emp['2017'])\n",
    "xsum = micro['Employee Size (5) - Location'].astype(float).sum()\n",
    "print(xsum/emp['2017'])\n",
    "xsum = rur['Employee Size (5) - Location'].astype(float).sum()\n",
    "print(xsum/emp['2017'])"
   ]
  },
  {
   "cell_type": "code",
   "execution_count": null,
   "metadata": {},
   "outputs": [
    {
     "name": "stdout",
     "output_type": "stream",
     "text": [
      "<class 'pandas.core.frame.DataFrame'>\n",
      "RangeIndex: 43041388 entries, 0 to 43041387\n",
      "Data columns (total 3 columns):\n",
      "year          object\n",
      "Employees     float64\n",
      "CBSA Level    object\n",
      "dtypes: float64(1), object(2)\n",
      "memory usage: 985.1+ MB\n"
     ]
    }
   ],
   "source": [
    "df_fai = pd.DataFrame(df_fai_list,columns=['year','Employees','CBSA Level'],dtype=object)\n",
    "df_fai['Employees'] = df_fai['Employees'].astype(float)\n",
    "df_fai.info()"
   ]
  },
  {
   "cell_type": "code",
   "execution_count": null,
   "metadata": {},
   "outputs": [
    {
     "name": "stdout",
     "output_type": "stream",
     "text": [
      "43041388\n",
      "45\n"
     ]
    }
   ],
   "source": [
    "grouped = df_fai.groupby(['year','CBSA Level'])['Employees'].agg('sum')\n",
    "print(len(df_fai))\n",
    "print(len(grouped))\n",
    "grouped.reset_index().to_csv(dat+'fai_grouped.csv',index=None)"
   ]
  },
  {
   "cell_type": "code",
   "execution_count": null,
   "metadata": {},
   "outputs": [
    {
     "name": "stdout",
     "output_type": "stream",
     "text": [
      "<class 'pandas.core.frame.DataFrame'>\n",
      "RangeIndex: 15 entries, 0 to 14\n",
      "Data columns (total 2 columns):\n",
      "year         15 non-null object\n",
      "total_emp    15 non-null float64\n",
      "dtypes: float64(1), object(1)\n",
      "memory usage: 368.0+ bytes\n"
     ]
    }
   ],
   "source": [
    "data_items = emp.items()\n",
    "data_list = list(data_items)\n",
    "df_ann_emp = pd.DataFrame(data_list,columns=['year','total_emp'])\n",
    "df_ann_emp.info()"
   ]
  },
  {
   "cell_type": "code",
   "execution_count": null,
   "metadata": {},
   "outputs": [],
   "source": [
    "# Now merge df_fai and df_ann_emp and output the file.\n",
    "df_fai = pd.read_csv(dat+'fai_grouped.csv',dtype=object)\n",
    "merged = df_fai.merge(df_ann_emp,on='year',indicator=False)"
   ]
  },
  {
   "cell_type": "code",
   "execution_count": null,
   "metadata": {},
   "outputs": [],
   "source": [
    "merged.to_csv(dat+'merged_fai.csv',index=None)"
   ]
  },
  {
   "cell_type": "code",
   "execution_count": null,
   "metadata": {},
   "outputs": [
    {
     "data": {
      "text/plain": [
       "Index(['year', 'CBSA Level', 'Employees', 'total_emp'], dtype='object')"
      ]
     },
     "execution_count": null,
     "metadata": {},
     "output_type": "execute_result"
    }
   ],
   "source": [
    "merged.columns"
   ]
  },
  {
   "cell_type": "markdown",
   "metadata": {},
   "source": [
    "# --------------------- IMAGES ---------------------"
   ]
  },
  {
   "cell_type": "code",
   "execution_count": null,
   "metadata": {},
   "outputs": [],
   "source": [
    "import pandas as pd\n",
    "import numpy as np\n",
    "import matplotlib.pyplot as plt\n",
    "%matplotlib inline\n",
    "import seaborn as sns"
   ]
  },
  {
   "cell_type": "code",
   "execution_count": null,
   "metadata": {},
   "outputs": [],
   "source": [
    "dat = '/InfoGroup/data/original/'\n",
    "df = pd.read_csv(dat+'merged_fai.csv',dtype={'year':'object','CBSA Level':'object',\n",
    "                                             'Employees':'float','total_emp':'float'})"
   ]
  },
  {
   "cell_type": "code",
   "execution_count": null,
   "metadata": {},
   "outputs": [],
   "source": [
    "df['emp_share'] = df['Employees']/df['total_emp']\n",
    "df.drop(columns=['Employees','total_emp'],inplace=True)"
   ]
  },
  {
   "cell_type": "code",
   "execution_count": null,
   "metadata": {},
   "outputs": [
    {
     "name": "stdout",
     "output_type": "stream",
     "text": [
      "<class 'pandas.core.frame.DataFrame'>\n",
      "RangeIndex: 45 entries, 0 to 44\n",
      "Data columns (total 3 columns):\n",
      " #   Column     Non-Null Count  Dtype  \n",
      "---  ------     --------------  -----  \n",
      " 0   year       45 non-null     object \n",
      " 1   emp_share  45 non-null     float64\n",
      " 2   CBSA       45 non-null     object \n",
      "dtypes: float64(1), object(2)\n",
      "memory usage: 1.2+ KB\n"
     ]
    }
   ],
   "source": [
    "def ren(code):\n",
    "    if code == '0':\n",
    "        return 'rural'\n",
    "    elif code == '1':\n",
    "        return 'micropolitan'\n",
    "    elif code == '2':\n",
    "        return 'metropolitan'\n",
    "df['CBSA'] = df['CBSA Level'].apply(ren)\n",
    "df.drop(columns=['CBSA Level'],inplace=True)\n",
    "df.info()"
   ]
  },
  {
   "cell_type": "code",
   "execution_count": null,
   "metadata": {},
   "outputs": [
    {
     "data": {
      "image/png": "[encoded data removed]",
      "text/plain": [
       "<Figure size 1152x720 with 1 Axes>"
      ]
     },
     "metadata": {},
     "output_type": "display_data"
    }
   ],
   "source": [
    "labels = [\"Rural\", \"Micropolitan\", \"Metropolitan\"]\n",
    "fig, ax = plt.subplots()\n",
    "fig.set_size_inches( 16, 10)\n",
    "x = list(dict.fromkeys(df['year'].tolist()))\n",
    "x.sort()\n",
    "y1 = df.loc[df['CBSA'] == 'rural']['emp_share'].to_list()\n",
    "y2 = df.loc[df['CBSA'] == 'micropolitan']['emp_share'].to_list()\n",
    "y3 = df.loc[df['CBSA'] == 'metropolitan']['emp_share'].to_list()\n",
    "ax.stackplot(x, y1, y2, y3, labels=labels) \n",
    "ax.legend(loc='upper left')\n",
    "plt.ylabel(\"Employment share\")\n",
    "plt.xlabel(\"Year\")\n",
    "plt.title(\"Share of Total Employment by FAI Enterprises\")\n",
    "plt.show()\n",
    "\n",
    "# This shows how to do this kind of graphic.  Needs more sns style?"
   ]
  },
  {
   "cell_type": "code",
   "execution_count": null,
   "metadata": {},
   "outputs": [
    {
     "data": {
      "image/png": "[encoded data removed]",
      "text/plain": [
       "<Figure size 864x864 with 1 Axes>"
      ]
     },
     "metadata": {},
     "output_type": "display_data"
    }
   ],
   "source": [
    "# Figure 1\n",
    "sns.set(style=\"whitegrid\")\n",
    "df['year'] = df['year'].astype(int)\n",
    "plt.figure(figsize=(12,12))\n",
    "sns.lineplot(data=df, x='year', y = \"emp_share\", hue=\"CBSA\",\n",
    "             palette='bright',legend='full')\n",
    "plt.title('Graph')\n",
    "plt.ylabel(\"Employment share\")\n",
    "plt.xlabel(\"Year\")\n",
    "\n",
    "plt.show()"
   ]
  },
  {
   "cell_type": "code",
   "execution_count": null,
   "metadata": {},
   "outputs": [],
   "source": []
  }
 ],
 "metadata": {
  "kernelspec": {
   "display_name": "Python 3",
   "language": "python",
   "name": "python3"
  }
 },
 "nbformat": 4,
 "nbformat_minor": 2
}
